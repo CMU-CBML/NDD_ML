{
 "cells": [
  {
   "cell_type": "code",
   "execution_count": 1,
   "metadata": {},
   "outputs": [],
   "source": [
    "pre_seq_length = 10\n",
    "aft_seq_length = 20"
   ]
  },
  {
   "cell_type": "code",
   "execution_count": 2,
   "metadata": {},
   "outputs": [],
   "source": [
    "import cv2\n",
    "import numpy as np\n",
    "import os\n",
    "\n",
    "def sample_frames(video_path, num_frames=20):\n",
    "    # read the video\n",
    "    video = cv2.VideoCapture(video_path)\n",
    "    total_frames = int(video.get(cv2.CAP_PROP_FRAME_COUNT))\n",
    "    # uniformly sample frames from the video\n",
    "    frame_idxs = np.linspace(0, total_frames-1, num_frames, dtype=int)\n",
    "    frames = []\n",
    "    for idx in frame_idxs:\n",
    "        video.set(cv2.CAP_PROP_POS_FRAMES, idx)\n",
    "        _, frame = video.read()\n",
    "        # frame = cv2.resize(frame, (height, width))\n",
    "        frames.append(frame)\n",
    "    video.release()\n",
    "    return np.stack(frames)\n",
    "\n",
    "def process_folder(folder_path, pre_slen=10, aft_slen=10, suffix='.avi'):\n",
    "    # get all the videos in this folder\n",
    "    videos = []\n",
    "    files = os.listdir(folder_path)\n",
    "    for file in files:\n",
    "        video_path = os.path.join(folder_path, file)\n",
    "        if os.path.isfile(video_path) and file.endswith(suffix):\n",
    "            video = sample_frames(video_path, pre_slen + aft_slen)\n",
    "            videos.append(video)\n",
    "    # stack video frames from each folder\n",
    "    data = np.stack(videos).transpose(0, 1, 4, 2, 3)\n",
    "\n",
    "    # if the data is in [0, 255], rescale it into [0, 1]\n",
    "    if data.max() > 1.0:\n",
    "        data = data.astype(np.float32) / 255.0\n",
    "\n",
    "    return data[:, :pre_slen], data[:, pre_slen:]"
   ]
  },
  {
   "cell_type": "markdown",
   "metadata": {},
   "source": [
    "#### Load the dataset and visualize an example"
   ]
  },
  {
   "cell_type": "code",
   "execution_count": 3,
   "metadata": {},
   "outputs": [
    {
     "name": "stdout",
     "output_type": "stream",
     "text": [
      "X_train: (93, 10, 1, 160, 280)\n",
      "Y_train: (93, 20, 1, 160, 280)\n",
      "X_test: (21, 10, 1, 160, 280)\n",
      "Y_test: (21, 20, 1, 160, 280)\n",
      "X_val: (20, 10, 1, 160, 280)\n",
      "Y_val: (20, 20, 1, 160, 280)\n"
     ]
    }
   ],
   "source": [
    "import pickle\n",
    "\n",
    "# load the dataset\n",
    "# with open('dataset.pkl', 'rb') as f:\n",
    "with open('./reformatedNDDs/dataset_16k_20k_all.pkl', 'rb') as f:\n",
    "    dataset = pickle.load(f)\n",
    "\n",
    "train_x, train_y = dataset['X_train'], dataset['Y_train']\n",
    "print(f\"X_train: {dataset['X_train'].shape}\")\n",
    "print(f\"Y_train: {dataset['Y_train'].shape}\")\n",
    "print(f\"X_test: {dataset['X_test'].shape}\")\n",
    "print(f\"Y_test: {dataset['Y_test'].shape}\")\n",
    "print(f\"X_val: {dataset['X_val'].shape}\")\n",
    "print(f\"Y_val: {dataset['Y_val'].shape}\")\n",
    "\n",
    "# the shape is B x T x C x H x W\n",
    "# B: the number of samples\n",
    "# T: the number of frames in each sample\n",
    "# C, H, W: the channel, height, width of each frame"
   ]
  },
  {
   "cell_type": "code",
   "execution_count": 4,
   "metadata": {},
   "outputs": [
    {
     "data": {
      "text/plain": [
       "<module 'openstl' from '/ocean/projects/eng170006p/ussqww/OpenSTL-OpenSTL-Lightning/openstl/__init__.py'>"
      ]
     },
     "execution_count": 4,
     "metadata": {},
     "output_type": "execute_result"
    }
   ],
   "source": [
    "import openstl\n",
    "import importlib\n",
    "importlib.reload(openstl)"
   ]
  },
  {
   "cell_type": "code",
   "execution_count": 5,
   "metadata": {},
   "outputs": [],
   "source": [
    "# from openstl.utils import show_video_line\n",
    "\n",
    "# # show the given frames from an example\n",
    "# example_idx = np.random.randint(0, len(train_x))\n",
    "# show_video_line(train_x[example_idx], ncols=pre_seq_length, vmax=0.6, cbar=False, out_path=None, format='png', use_rgb=False)\n",
    "# # show the future frames from an example\n",
    "# show_video_line(train_y[example_idx], ncols=aft_seq_length, vmax=0.6, cbar=False, out_path=None, format='png', use_rgb=False)"
   ]
  },
  {
   "cell_type": "code",
   "execution_count": 6,
   "metadata": {},
   "outputs": [],
   "source": [
    "import torch\n",
    "from torch.utils.data import Dataset\n",
    "\n",
    "class CustomDataset(Dataset):\n",
    "    def __init__(self, X, Y, normalize=False, data_name='custom'):\n",
    "        super(CustomDataset, self).__init__()\n",
    "        self.X = X\n",
    "        self.Y = Y\n",
    "        self.mean = None\n",
    "        self.std = None\n",
    "        self.data_name = data_name\n",
    "\n",
    "        if normalize:\n",
    "            # get the mean/std values along the channel dimension\n",
    "            mean = data.mean(axis=(0, 1, 2, 3)).reshape(1, 1, -1, 1, 1)\n",
    "            std = data.std(axis=(0, 1, 2, 3)).reshape(1, 1, -1, 1, 1)\n",
    "            data = (data - mean) / std\n",
    "            self.mean = mean\n",
    "            self.std = std\n",
    "\n",
    "    def __len__(self):\n",
    "        return self.X.shape[0]\n",
    "\n",
    "    def __getitem__(self, index):\n",
    "        data = torch.tensor(self.X[index]).float()\n",
    "        labels = torch.tensor(self.Y[index]).float()\n",
    "        return data, labels"
   ]
  },
  {
   "cell_type": "code",
   "execution_count": 7,
   "metadata": {},
   "outputs": [],
   "source": [
    "batch_size = 5\n",
    "\n",
    "X_train, X_val, X_test, Y_train, Y_val, Y_test = dataset['X_train'], dataset[\n",
    "    'X_val'], dataset['X_test'], dataset['Y_train'], dataset['Y_val'], dataset['Y_test']\n",
    "\n",
    "train_set = CustomDataset(X=X_train, Y=Y_train)\n",
    "val_set = CustomDataset(X=X_val, Y=Y_val)\n",
    "test_set = CustomDataset(X=X_test, Y=Y_test)\n",
    "# Concatenate train, val, and test sets for the final test set\n",
    "# X_all = np.concatenate([X_train, X_val, X_test], axis=0)\n",
    "# Y_all = np.concatenate([Y_train, Y_val, Y_test], axis=0)\n",
    "# test_set = CustomDataset(X=X_all, Y=Y_all)"
   ]
  },
  {
   "cell_type": "code",
   "execution_count": 8,
   "metadata": {},
   "outputs": [],
   "source": [
    "dataloader_train = torch.utils.data.DataLoader(\n",
    "    train_set, batch_size=batch_size, shuffle=True, pin_memory=True)\n",
    "dataloader_val = torch.utils.data.DataLoader(\n",
    "    val_set, batch_size=batch_size, shuffle=True, pin_memory=True)\n",
    "dataloader_test = torch.utils.data.DataLoader(\n",
    "    test_set, batch_size=batch_size, shuffle=True, pin_memory=True)"
   ]
  },
  {
   "cell_type": "markdown",
   "metadata": {},
   "source": [
    "#### Train and evaluate"
   ]
  },
  {
   "cell_type": "code",
   "execution_count": 9,
   "metadata": {},
   "outputs": [],
   "source": [
    "custom_training_config = {\n",
    "    'pre_seq_length': pre_seq_length,\n",
    "    'aft_seq_length': aft_seq_length,\n",
    "    'total_length': pre_seq_length + aft_seq_length,\n",
    "    'batch_size': batch_size,\n",
    "    'val_batch_size': batch_size,\n",
    "    'epoch': 100,\n",
    "    'lr': 0.001,   \n",
    "    # 'metrics': ['mse', 'mae'],\n",
    "    'metrics': ['mse', 'mae', 'perceptual'],\n",
    "\n",
    "    'ex_name': 'custom_exp',\n",
    "    'dataname': 'custom',\n",
    "    'in_shape': [10, 1, 32, 32],\n",
    "}\n",
    "\n",
    "custom_model_config = {\n",
    "    # For MetaVP models, the most important hyperparameters are: \n",
    "    # N_S, N_T, hid_S, hid_T, model_type\n",
    "    'method': 'SimVP',\n",
    "    # Users can either using a config file or directly set these hyperparameters \n",
    "    # 'config_file': 'configs/custom/example_model.py',\n",
    "    \n",
    "    # Here, we directly set these parameters\n",
    "    'model_type': 'gSTA',\n",
    "    'N_S': 4,\n",
    "    'N_T': 8,\n",
    "    'hid_S': 64,\n",
    "    'hid_T': 256\n",
    "}"
   ]
  },
  {
   "cell_type": "markdown",
   "metadata": {},
   "source": [
    "#### Setup the experiment\n",
    "\n",
    "We retrieve the default hyperparameters by utilizing `create_parser` and update those hyperparameters that are defined in `custom_training_config` and `custom_model_config`. \n",
    "\n",
    "By utilizing `BaseExperiment`, we ensure that everything is prepared, including dataloader setup and model initialization."
   ]
  },
  {
   "cell_type": "code",
   "execution_count": 10,
   "metadata": {},
   "outputs": [
    {
     "name": "stderr",
     "output_type": "stream",
     "text": [
      "/jet/home/ussqww/.conda/envs/OpenSTL_dev/lib/python3.9/site-packages/tqdm/auto.py:21: TqdmWarning: IProgress not found. Please update jupyter and ipywidgets. See https://ipywidgets.readthedocs.io/en/stable/user_install.html\n",
      "  from .autonotebook import tqdm as notebook_tqdm\n",
      "[rank: 0] Seed set to 42\n",
      "GPU available: True (cuda), used: True\n",
      "TPU available: False, using: 0 TPU cores\n",
      "IPU available: False, using: 0 IPUs\n",
      "HPU available: False, using: 0 HPUs\n"
     ]
    }
   ],
   "source": [
    "from openstl.api import BaseExperiment\n",
    "from openstl.utils import create_parser, default_parser\n",
    "\n",
    "args = create_parser().parse_args([])\n",
    "config = args.__dict__\n",
    "\n",
    "# update the training config\n",
    "config.update(custom_training_config)\n",
    "# update the model config\n",
    "config.update(custom_model_config)\n",
    "# fulfill with default values\n",
    "default_values = default_parser()\n",
    "for attribute in default_values.keys():\n",
    "    if config[attribute] is None:\n",
    "        config[attribute] = default_values[attribute]\n",
    "        \n",
    "exp = BaseExperiment(args, dataloaders=(dataloader_train, dataloader_val, dataloader_test), strategy='auto')"
   ]
  },
  {
   "cell_type": "code",
   "execution_count": 11,
   "metadata": {},
   "outputs": [
    {
     "name": "stderr",
     "output_type": "stream",
     "text": [
      "LOCAL_RANK: 0 - CUDA_VISIBLE_DEVICES: [0]\n"
     ]
    },
    {
     "name": "stdout",
     "output_type": "stream",
     "text": [
      ">>>>>>>>>>>>>>>>>>>>>>>>>>>>>>>>>>> training <<<<<<<<<<<<<<<<<<<<<<<<<<<<<<<<<<<\n"
     ]
    },
    {
     "name": "stderr",
     "output_type": "stream",
     "text": [
      "/bin/sh: /usr/local/cuda/bin/nvcc: No such file or directory\n",
      "\n",
      "  | Name  | Type        | Params\n",
      "--------------------------------------\n",
      "0 | model | SimVP_Model | 18.6 M\n",
      "1 | vgg   | Sequential  | 1.7 M \n",
      "--------------------------------------\n",
      "20.3 M    Trainable params\n",
      "0         Non-trainable params\n",
      "20.3 M    Total params\n",
      "81.354    Total estimated model params size (MB)\n"
     ]
    },
    {
     "name": "stdout",
     "output_type": "stream",
     "text": [
      "Environment info:\n",
      "------------------------------------------------------------\n",
      "sys.platform: linux\n",
      "Python: 3.9.19 (main, May  6 2024, 19:43:03) [GCC 11.2.0]\n",
      "CUDA available: True\n",
      "CUDA_HOME: /usr/local/cuda\n",
      "NVCC: \n",
      "GPU 0: Tesla V100-SXM2-32GB\n",
      "GCC: gcc (GCC) 8.5.0 20210514 (Red Hat 8.5.0-18)\n",
      "PyTorch: 2.4.1+cu121\n",
      "PyTorch compiling details: PyTorch built with:\n",
      "  - GCC 9.3\n",
      "  - C++ Version: 201703\n",
      "  - Intel(R) oneAPI Math Kernel Library Version 2022.2-Product Build 20220804 for Intel(R) 64 architecture applications\n",
      "  - Intel(R) MKL-DNN v3.4.2 (Git Hash 1137e04ec0b5251ca2b4400a4fd3c667ce843d67)\n",
      "  - OpenMP 201511 (a.k.a. OpenMP 4.5)\n",
      "  - LAPACK is enabled (usually provided by MKL)\n",
      "  - NNPACK is enabled\n",
      "  - CPU capability usage: AVX512\n",
      "  - CUDA Runtime 12.1\n",
      "  - NVCC architecture flags: -gencode;arch=compute_50,code=sm_50;-gencode;arch=compute_60,code=sm_60;-gencode;arch=compute_70,code=sm_70;-gencode;arch=compute_75,code=sm_75;-gencode;arch=compute_80,code=sm_80;-gencode;arch=compute_86,code=sm_86;-gencode;arch=compute_90,code=sm_90\n",
      "  - CuDNN 90.1  (built against CUDA 12.4)\n",
      "  - Magma 2.6.1\n",
      "  - Build settings: BLAS_INFO=mkl, BUILD_TYPE=Release, CUDA_VERSION=12.1, CUDNN_VERSION=9.1.0, CXX_COMPILER=/opt/rh/devtoolset-9/root/usr/bin/c++, CXX_FLAGS= -D_GLIBCXX_USE_CXX11_ABI=0 -fabi-version=11 -fvisibility-inlines-hidden -DUSE_PTHREADPOOL -DNDEBUG -DUSE_KINETO -DLIBKINETO_NOROCTRACER -DUSE_FBGEMM -DUSE_PYTORCH_QNNPACK -DUSE_XNNPACK -DSYMBOLICATE_MOBILE_DEBUG_HANDLE -O2 -fPIC -Wall -Wextra -Werror=return-type -Werror=non-virtual-dtor -Werror=bool-operation -Wnarrowing -Wno-missing-field-initializers -Wno-type-limits -Wno-array-bounds -Wno-unknown-pragmas -Wno-unused-parameter -Wno-unused-function -Wno-unused-result -Wno-strict-overflow -Wno-strict-aliasing -Wno-stringop-overflow -Wsuggest-override -Wno-psabi -Wno-error=pedantic -Wno-error=old-style-cast -Wno-missing-braces -fdiagnostics-color=always -faligned-new -Wno-unused-but-set-variable -Wno-maybe-uninitialized -fno-math-errno -fno-trapping-math -Werror=format -Wno-stringop-overflow, LAPACK_INFO=mkl, PERF_WITH_AVX=1, PERF_WITH_AVX2=1, PERF_WITH_AVX512=1, TORCH_VERSION=2.4.1, USE_CUDA=ON, USE_CUDNN=ON, USE_CUSPARSELT=1, USE_EXCEPTION_PTR=1, USE_GFLAGS=OFF, USE_GLOG=OFF, USE_GLOO=ON, USE_MKL=ON, USE_MKLDNN=ON, USE_MPI=OFF, USE_NCCL=1, USE_NNPACK=ON, USE_OPENMP=ON, USE_ROCM=OFF, USE_ROCM_KERNEL_ASSERT=OFF, \n",
      "\n",
      "TorchVision: 0.19.1+cu121\n",
      "OpenCV: 4.10.0\n",
      "openstl: 1.0.0\n",
      "------------------------------------------------------------\n",
      "\n",
      "\n",
      "device: \tcuda\t\n",
      "dist: \tFalse\t\n",
      "res_dir: \twork_dirs\t\n",
      "ex_name: \tcustom_exp\t\n",
      "fp16: \tFalse\t\n",
      "torchscript: \tFalse\t\n",
      "seed: \t42\t\n",
      "fps: \tFalse\t\n",
      "test: \tFalse\t\n",
      "deterministic: \tFalse\t\n",
      "batch_size: \t5\t\n",
      "val_batch_size: \t5\t\n",
      "num_workers: \t4\t\n",
      "data_root: \t./data\t\n",
      "dataname: \tcustom\t\n",
      "pre_seq_length: \t10\t\n",
      "aft_seq_length: \t20\t\n",
      "total_length: \t30\t\n",
      "use_augment: \tFalse\t\n",
      "use_prefetcher: \tFalse\t\n",
      "drop_last: \tFalse\t\n",
      "method: \tsimvp\t\n",
      "config_file: \tNone\t\n",
      "model_type: \tgSTA\t\n",
      "drop: \t0.0\t\n",
      "drop_path: \t0.0\t\n",
      "overwrite: \tFalse\t\n",
      "epoch: \t100\t\n",
      "log_step: \t1\t\n",
      "opt: \tadam\t\n",
      "opt_eps: \tNone\t\n",
      "opt_betas: \tNone\t\n",
      "momentum: \t0.9\t\n",
      "weight_decay: \t0.0\t\n",
      "clip_grad: \tNone\t\n",
      "clip_mode: \tnorm\t\n",
      "no_display_method_info: \tFalse\t\n",
      "sched: \tonecycle\t\n",
      "lr: \t0.001\t\n",
      "lr_k_decay: \t1.0\t\n",
      "warmup_lr: \t1e-05\t\n",
      "min_lr: \t1e-06\t\n",
      "final_div_factor: \t10000.0\t\n",
      "warmup_epoch: \t0\t\n",
      "decay_epoch: \t100\t\n",
      "decay_rate: \t0.1\t\n",
      "filter_bias_and_bn: \tFalse\t\n",
      "gpus: \t[0]\t\n",
      "metric_for_bestckpt: \tval_loss\t\n",
      "ckpt_path: \tNone\t\n",
      "metrics: \t['mse', 'mae', 'perceptual']\t\n",
      "in_shape: \t[10, 1, 32, 32]\t\n",
      "N_S: \t4\t\n",
      "N_T: \t8\t\n",
      "hid_S: \t64\t\n",
      "hid_T: \t256\t\n",
      "Model info:\n",
      "SimVP_Model(\n",
      "  (enc): Encoder(\n",
      "    (enc): Sequential(\n",
      "      (0): ConvSC(\n",
      "        (conv): BasicConv2d(\n",
      "          (conv): Conv2d(1, 64, kernel_size=(3, 3), stride=(1, 1), padding=(1, 1))\n",
      "          (norm): GroupNorm(2, 64, eps=1e-05, affine=True)\n",
      "          (act): SiLU()\n",
      "        )\n",
      "      )\n",
      "      (1): ConvSC(\n",
      "        (conv): BasicConv2d(\n",
      "          (conv): Conv2d(64, 64, kernel_size=(3, 3), stride=(2, 2), padding=(1, 1))\n",
      "          (norm): GroupNorm(2, 64, eps=1e-05, affine=True)\n",
      "          (act): SiLU()\n",
      "        )\n",
      "      )\n",
      "      (2): ConvSC(\n",
      "        (conv): BasicConv2d(\n",
      "          (conv): Conv2d(64, 64, kernel_size=(3, 3), stride=(1, 1), padding=(1, 1))\n",
      "          (norm): GroupNorm(2, 64, eps=1e-05, affine=True)\n",
      "          (act): SiLU()\n",
      "        )\n",
      "      )\n",
      "      (3): ConvSC(\n",
      "        (conv): BasicConv2d(\n",
      "          (conv): Conv2d(64, 64, kernel_size=(3, 3), stride=(2, 2), padding=(1, 1))\n",
      "          (norm): GroupNorm(2, 64, eps=1e-05, affine=True)\n",
      "          (act): SiLU()\n",
      "        )\n",
      "      )\n",
      "    )\n",
      "  )\n",
      "  (dec): Decoder(\n",
      "    (dec): Sequential(\n",
      "      (0): ConvSC(\n",
      "        (conv): BasicConv2d(\n",
      "          (conv): Sequential(\n",
      "            (0): Conv2d(64, 256, kernel_size=(3, 3), stride=(1, 1), padding=(1, 1))\n",
      "            (1): PixelShuffle(upscale_factor=2)\n",
      "          )\n",
      "          (norm): GroupNorm(2, 64, eps=1e-05, affine=True)\n",
      "          (act): SiLU()\n",
      "        )\n",
      "      )\n",
      "      (1): ConvSC(\n",
      "        (conv): BasicConv2d(\n",
      "          (conv): Conv2d(64, 64, kernel_size=(3, 3), stride=(1, 1), padding=(1, 1))\n",
      "          (norm): GroupNorm(2, 64, eps=1e-05, affine=True)\n",
      "          (act): SiLU()\n",
      "        )\n",
      "      )\n",
      "      (2): ConvSC(\n",
      "        (conv): BasicConv2d(\n",
      "          (conv): Sequential(\n",
      "            (0): Conv2d(64, 256, kernel_size=(3, 3), stride=(1, 1), padding=(1, 1))\n",
      "            (1): PixelShuffle(upscale_factor=2)\n",
      "          )\n",
      "          (norm): GroupNorm(2, 64, eps=1e-05, affine=True)\n",
      "          (act): SiLU()\n",
      "        )\n",
      "      )\n",
      "      (3): ConvSC(\n",
      "        (conv): BasicConv2d(\n",
      "          (conv): Conv2d(64, 64, kernel_size=(3, 3), stride=(1, 1), padding=(1, 1))\n",
      "          (norm): GroupNorm(2, 64, eps=1e-05, affine=True)\n",
      "          (act): SiLU()\n",
      "        )\n",
      "      )\n",
      "    )\n",
      "    (readout): Conv2d(64, 1, kernel_size=(1, 1), stride=(1, 1))\n",
      "  )\n",
      "  (hid): MidMetaNet(\n",
      "    (enc): Sequential(\n",
      "      (0): MetaBlock(\n",
      "        (block): GASubBlock(\n",
      "          (norm1): BatchNorm2d(640, eps=1e-05, momentum=0.1, affine=True, track_running_stats=True)\n",
      "          (attn): SpatialAttention(\n",
      "            (proj_1): Conv2d(640, 640, kernel_size=(1, 1), stride=(1, 1))\n",
      "            (activation): GELU(approximate='none')\n",
      "            (spatial_gating_unit): AttentionModule(\n",
      "              (conv0): Conv2d(640, 640, kernel_size=(5, 5), stride=(1, 1), padding=(2, 2), groups=640)\n",
      "              (conv_spatial): Conv2d(640, 640, kernel_size=(7, 7), stride=(1, 1), padding=(9, 9), dilation=(3, 3), groups=640)\n",
      "              (conv1): Conv2d(640, 1280, kernel_size=(1, 1), stride=(1, 1))\n",
      "            )\n",
      "            (proj_2): Conv2d(640, 640, kernel_size=(1, 1), stride=(1, 1))\n",
      "          )\n",
      "          (drop_path): DropPath(drop_prob=0.010)\n",
      "          (norm2): BatchNorm2d(640, eps=1e-05, momentum=0.1, affine=True, track_running_stats=True)\n",
      "          (mlp): MixMlp(\n",
      "            (fc1): Conv2d(640, 5120, kernel_size=(1, 1), stride=(1, 1))\n",
      "            (dwconv): DWConv(\n",
      "              (dwconv): Conv2d(5120, 5120, kernel_size=(3, 3), stride=(1, 1), padding=(1, 1), groups=5120)\n",
      "            )\n",
      "            (act): GELU(approximate='none')\n",
      "            (fc2): Conv2d(5120, 640, kernel_size=(1, 1), stride=(1, 1))\n",
      "            (drop): Dropout(p=0.0, inplace=False)\n",
      "          )\n",
      "        )\n",
      "        (reduction): Conv2d(640, 256, kernel_size=(1, 1), stride=(1, 1))\n",
      "      )\n",
      "      (1): MetaBlock(\n",
      "        (block): GASubBlock(\n",
      "          (norm1): BatchNorm2d(256, eps=1e-05, momentum=0.1, affine=True, track_running_stats=True)\n",
      "          (attn): SpatialAttention(\n",
      "            (proj_1): Conv2d(256, 256, kernel_size=(1, 1), stride=(1, 1))\n",
      "            (activation): GELU(approximate='none')\n",
      "            (spatial_gating_unit): AttentionModule(\n",
      "              (conv0): Conv2d(256, 256, kernel_size=(5, 5), stride=(1, 1), padding=(2, 2), groups=256)\n",
      "              (conv_spatial): Conv2d(256, 256, kernel_size=(7, 7), stride=(1, 1), padding=(9, 9), dilation=(3, 3), groups=256)\n",
      "              (conv1): Conv2d(256, 512, kernel_size=(1, 1), stride=(1, 1))\n",
      "            )\n",
      "            (proj_2): Conv2d(256, 256, kernel_size=(1, 1), stride=(1, 1))\n",
      "          )\n",
      "          (drop_path): DropPath(drop_prob=0.009)\n",
      "          (norm2): BatchNorm2d(256, eps=1e-05, momentum=0.1, affine=True, track_running_stats=True)\n",
      "          (mlp): MixMlp(\n",
      "            (fc1): Conv2d(256, 2048, kernel_size=(1, 1), stride=(1, 1))\n",
      "            (dwconv): DWConv(\n",
      "              (dwconv): Conv2d(2048, 2048, kernel_size=(3, 3), stride=(1, 1), padding=(1, 1), groups=2048)\n",
      "            )\n",
      "            (act): GELU(approximate='none')\n",
      "            (fc2): Conv2d(2048, 256, kernel_size=(1, 1), stride=(1, 1))\n",
      "            (drop): Dropout(p=0.0, inplace=False)\n",
      "          )\n",
      "        )\n",
      "      )\n",
      "      (2): MetaBlock(\n",
      "        (block): GASubBlock(\n",
      "          (norm1): BatchNorm2d(256, eps=1e-05, momentum=0.1, affine=True, track_running_stats=True)\n",
      "          (attn): SpatialAttention(\n",
      "            (proj_1): Conv2d(256, 256, kernel_size=(1, 1), stride=(1, 1))\n",
      "            (activation): GELU(approximate='none')\n",
      "            (spatial_gating_unit): AttentionModule(\n",
      "              (conv0): Conv2d(256, 256, kernel_size=(5, 5), stride=(1, 1), padding=(2, 2), groups=256)\n",
      "              (conv_spatial): Conv2d(256, 256, kernel_size=(7, 7), stride=(1, 1), padding=(9, 9), dilation=(3, 3), groups=256)\n",
      "              (conv1): Conv2d(256, 512, kernel_size=(1, 1), stride=(1, 1))\n",
      "            )\n",
      "            (proj_2): Conv2d(256, 256, kernel_size=(1, 1), stride=(1, 1))\n",
      "          )\n",
      "          (drop_path): DropPath(drop_prob=0.007)\n",
      "          (norm2): BatchNorm2d(256, eps=1e-05, momentum=0.1, affine=True, track_running_stats=True)\n",
      "          (mlp): MixMlp(\n",
      "            (fc1): Conv2d(256, 2048, kernel_size=(1, 1), stride=(1, 1))\n",
      "            (dwconv): DWConv(\n",
      "              (dwconv): Conv2d(2048, 2048, kernel_size=(3, 3), stride=(1, 1), padding=(1, 1), groups=2048)\n",
      "            )\n",
      "            (act): GELU(approximate='none')\n",
      "            (fc2): Conv2d(2048, 256, kernel_size=(1, 1), stride=(1, 1))\n",
      "            (drop): Dropout(p=0.0, inplace=False)\n",
      "          )\n",
      "        )\n",
      "      )\n",
      "      (3): MetaBlock(\n",
      "        (block): GASubBlock(\n",
      "          (norm1): BatchNorm2d(256, eps=1e-05, momentum=0.1, affine=True, track_running_stats=True)\n",
      "          (attn): SpatialAttention(\n",
      "            (proj_1): Conv2d(256, 256, kernel_size=(1, 1), stride=(1, 1))\n",
      "            (activation): GELU(approximate='none')\n",
      "            (spatial_gating_unit): AttentionModule(\n",
      "              (conv0): Conv2d(256, 256, kernel_size=(5, 5), stride=(1, 1), padding=(2, 2), groups=256)\n",
      "              (conv_spatial): Conv2d(256, 256, kernel_size=(7, 7), stride=(1, 1), padding=(9, 9), dilation=(3, 3), groups=256)\n",
      "              (conv1): Conv2d(256, 512, kernel_size=(1, 1), stride=(1, 1))\n",
      "            )\n",
      "            (proj_2): Conv2d(256, 256, kernel_size=(1, 1), stride=(1, 1))\n",
      "          )\n",
      "          (drop_path): DropPath(drop_prob=0.006)\n",
      "          (norm2): BatchNorm2d(256, eps=1e-05, momentum=0.1, affine=True, track_running_stats=True)\n",
      "          (mlp): MixMlp(\n",
      "            (fc1): Conv2d(256, 2048, kernel_size=(1, 1), stride=(1, 1))\n",
      "            (dwconv): DWConv(\n",
      "              (dwconv): Conv2d(2048, 2048, kernel_size=(3, 3), stride=(1, 1), padding=(1, 1), groups=2048)\n",
      "            )\n",
      "            (act): GELU(approximate='none')\n",
      "            (fc2): Conv2d(2048, 256, kernel_size=(1, 1), stride=(1, 1))\n",
      "            (drop): Dropout(p=0.0, inplace=False)\n",
      "          )\n",
      "        )\n",
      "      )\n",
      "      (4): MetaBlock(\n",
      "        (block): GASubBlock(\n",
      "          (norm1): BatchNorm2d(256, eps=1e-05, momentum=0.1, affine=True, track_running_stats=True)\n",
      "          (attn): SpatialAttention(\n",
      "            (proj_1): Conv2d(256, 256, kernel_size=(1, 1), stride=(1, 1))\n",
      "            (activation): GELU(approximate='none')\n",
      "            (spatial_gating_unit): AttentionModule(\n",
      "              (conv0): Conv2d(256, 256, kernel_size=(5, 5), stride=(1, 1), padding=(2, 2), groups=256)\n",
      "              (conv_spatial): Conv2d(256, 256, kernel_size=(7, 7), stride=(1, 1), padding=(9, 9), dilation=(3, 3), groups=256)\n",
      "              (conv1): Conv2d(256, 512, kernel_size=(1, 1), stride=(1, 1))\n",
      "            )\n",
      "            (proj_2): Conv2d(256, 256, kernel_size=(1, 1), stride=(1, 1))\n",
      "          )\n",
      "          (drop_path): DropPath(drop_prob=0.004)\n",
      "          (norm2): BatchNorm2d(256, eps=1e-05, momentum=0.1, affine=True, track_running_stats=True)\n",
      "          (mlp): MixMlp(\n",
      "            (fc1): Conv2d(256, 2048, kernel_size=(1, 1), stride=(1, 1))\n",
      "            (dwconv): DWConv(\n",
      "              (dwconv): Conv2d(2048, 2048, kernel_size=(3, 3), stride=(1, 1), padding=(1, 1), groups=2048)\n",
      "            )\n",
      "            (act): GELU(approximate='none')\n",
      "            (fc2): Conv2d(2048, 256, kernel_size=(1, 1), stride=(1, 1))\n",
      "            (drop): Dropout(p=0.0, inplace=False)\n",
      "          )\n",
      "        )\n",
      "      )\n",
      "      (5): MetaBlock(\n",
      "        (block): GASubBlock(\n",
      "          (norm1): BatchNorm2d(256, eps=1e-05, momentum=0.1, affine=True, track_running_stats=True)\n",
      "          (attn): SpatialAttention(\n",
      "            (proj_1): Conv2d(256, 256, kernel_size=(1, 1), stride=(1, 1))\n",
      "            (activation): GELU(approximate='none')\n",
      "            (spatial_gating_unit): AttentionModule(\n",
      "              (conv0): Conv2d(256, 256, kernel_size=(5, 5), stride=(1, 1), padding=(2, 2), groups=256)\n",
      "              (conv_spatial): Conv2d(256, 256, kernel_size=(7, 7), stride=(1, 1), padding=(9, 9), dilation=(3, 3), groups=256)\n",
      "              (conv1): Conv2d(256, 512, kernel_size=(1, 1), stride=(1, 1))\n",
      "            )\n",
      "            (proj_2): Conv2d(256, 256, kernel_size=(1, 1), stride=(1, 1))\n",
      "          )\n",
      "          (drop_path): DropPath(drop_prob=0.003)\n",
      "          (norm2): BatchNorm2d(256, eps=1e-05, momentum=0.1, affine=True, track_running_stats=True)\n",
      "          (mlp): MixMlp(\n",
      "            (fc1): Conv2d(256, 2048, kernel_size=(1, 1), stride=(1, 1))\n",
      "            (dwconv): DWConv(\n",
      "              (dwconv): Conv2d(2048, 2048, kernel_size=(3, 3), stride=(1, 1), padding=(1, 1), groups=2048)\n",
      "            )\n",
      "            (act): GELU(approximate='none')\n",
      "            (fc2): Conv2d(2048, 256, kernel_size=(1, 1), stride=(1, 1))\n",
      "            (drop): Dropout(p=0.0, inplace=False)\n",
      "          )\n",
      "        )\n",
      "      )\n",
      "      (6): MetaBlock(\n",
      "        (block): GASubBlock(\n",
      "          (norm1): BatchNorm2d(256, eps=1e-05, momentum=0.1, affine=True, track_running_stats=True)\n",
      "          (attn): SpatialAttention(\n",
      "            (proj_1): Conv2d(256, 256, kernel_size=(1, 1), stride=(1, 1))\n",
      "            (activation): GELU(approximate='none')\n",
      "            (spatial_gating_unit): AttentionModule(\n",
      "              (conv0): Conv2d(256, 256, kernel_size=(5, 5), stride=(1, 1), padding=(2, 2), groups=256)\n",
      "              (conv_spatial): Conv2d(256, 256, kernel_size=(7, 7), stride=(1, 1), padding=(9, 9), dilation=(3, 3), groups=256)\n",
      "              (conv1): Conv2d(256, 512, kernel_size=(1, 1), stride=(1, 1))\n",
      "            )\n",
      "            (proj_2): Conv2d(256, 256, kernel_size=(1, 1), stride=(1, 1))\n",
      "          )\n",
      "          (drop_path): DropPath(drop_prob=0.001)\n",
      "          (norm2): BatchNorm2d(256, eps=1e-05, momentum=0.1, affine=True, track_running_stats=True)\n",
      "          (mlp): MixMlp(\n",
      "            (fc1): Conv2d(256, 2048, kernel_size=(1, 1), stride=(1, 1))\n",
      "            (dwconv): DWConv(\n",
      "              (dwconv): Conv2d(2048, 2048, kernel_size=(3, 3), stride=(1, 1), padding=(1, 1), groups=2048)\n",
      "            )\n",
      "            (act): GELU(approximate='none')\n",
      "            (fc2): Conv2d(2048, 256, kernel_size=(1, 1), stride=(1, 1))\n",
      "            (drop): Dropout(p=0.0, inplace=False)\n",
      "          )\n",
      "        )\n",
      "      )\n",
      "      (7): MetaBlock(\n",
      "        (block): GASubBlock(\n",
      "          (norm1): BatchNorm2d(256, eps=1e-05, momentum=0.1, affine=True, track_running_stats=True)\n",
      "          (attn): SpatialAttention(\n",
      "            (proj_1): Conv2d(256, 256, kernel_size=(1, 1), stride=(1, 1))\n",
      "            (activation): GELU(approximate='none')\n",
      "            (spatial_gating_unit): AttentionModule(\n",
      "              (conv0): Conv2d(256, 256, kernel_size=(5, 5), stride=(1, 1), padding=(2, 2), groups=256)\n",
      "              (conv_spatial): Conv2d(256, 256, kernel_size=(7, 7), stride=(1, 1), padding=(9, 9), dilation=(3, 3), groups=256)\n",
      "              (conv1): Conv2d(256, 512, kernel_size=(1, 1), stride=(1, 1))\n",
      "            )\n",
      "            (proj_2): Conv2d(256, 256, kernel_size=(1, 1), stride=(1, 1))\n",
      "          )\n",
      "          (drop_path): Identity()\n",
      "          (norm2): BatchNorm2d(256, eps=1e-05, momentum=0.1, affine=True, track_running_stats=True)\n",
      "          (mlp): MixMlp(\n",
      "            (fc1): Conv2d(256, 2048, kernel_size=(1, 1), stride=(1, 1))\n",
      "            (dwconv): DWConv(\n",
      "              (dwconv): Conv2d(2048, 2048, kernel_size=(3, 3), stride=(1, 1), padding=(1, 1), groups=2048)\n",
      "            )\n",
      "            (act): GELU(approximate='none')\n",
      "            (fc2): Conv2d(2048, 256, kernel_size=(1, 1), stride=(1, 1))\n",
      "            (drop): Dropout(p=0.0, inplace=False)\n",
      "          )\n",
      "        )\n",
      "        (reduction): Conv2d(256, 640, kernel_size=(1, 1), stride=(1, 1))\n",
      "      )\n",
      "    )\n",
      "  )\n",
      ")\n",
      "| module                           | #parameters or shape   | #flops     |\n",
      "|:---------------------------------|:-----------------------|:-----------|\n",
      "| model                            | 18.603M                | 2.333G     |\n",
      "|  enc.enc                         |  0.112M                |  0.223G    |\n",
      "|   enc.enc.0.conv                 |   0.768K               |   9.175M   |\n",
      "|    enc.enc.0.conv.conv           |    0.64K               |    5.898M  |\n",
      "|    enc.enc.0.conv.norm           |    0.128K              |    3.277M  |\n",
      "|   enc.enc.1.conv                 |   37.056K              |   95.191M  |\n",
      "|    enc.enc.1.conv.conv           |    36.928K             |    94.372M |\n",
      "|    enc.enc.1.conv.norm           |    0.128K              |    0.819M  |\n",
      "|   enc.enc.2.conv                 |   37.056K              |   95.191M  |\n",
      "|    enc.enc.2.conv.conv           |    36.928K             |    94.372M |\n",
      "|    enc.enc.2.conv.norm           |    0.128K              |    0.819M  |\n",
      "|   enc.enc.3.conv                 |   37.056K              |   23.798M  |\n",
      "|    enc.enc.3.conv.conv           |    36.928K             |    23.593M |\n",
      "|    enc.enc.3.conv.norm           |    0.128K              |    0.205M  |\n",
      "|  dec                             |  0.37M                 |  0.953G    |\n",
      "|   dec.dec                        |   0.37M                |   0.952G   |\n",
      "|    dec.dec.0.conv                |    0.148M              |    95.191M |\n",
      "|    dec.dec.1.conv                |    37.056K             |    95.191M |\n",
      "|    dec.dec.2.conv                |    0.148M              |    0.381G  |\n",
      "|    dec.dec.3.conv                |    37.056K             |    0.381G  |\n",
      "|   dec.readout                    |   65                   |   0.655M   |\n",
      "|    dec.readout.weight            |    (1, 64, 1, 1)       |            |\n",
      "|    dec.readout.bias              |    (1,)                |            |\n",
      "|  hid.enc                         |  18.121M               |  1.157G    |\n",
      "|   hid.enc.0                      |   8.468M               |   0.541G   |\n",
      "|    hid.enc.0.block               |    8.304M              |    0.531G  |\n",
      "|    hid.enc.0.reduction           |    0.164M              |    10.486M |\n",
      "|   hid.enc.1.block                |   1.356M               |   86.442M  |\n",
      "|    hid.enc.1.block.layer_scale_1 |    (256,)              |            |\n",
      "|    hid.enc.1.block.layer_scale_2 |    (256,)              |            |\n",
      "|    hid.enc.1.block.norm1         |    0.512K              |    81.92K  |\n",
      "|    hid.enc.1.block.attn          |    0.283M              |    17.99M  |\n",
      "|    hid.enc.1.block.norm2         |    0.512K              |    81.92K  |\n",
      "|    hid.enc.1.block.mlp           |    1.071M              |    68.289M |\n",
      "|   hid.enc.2.block                |   1.356M               |   86.442M  |\n",
      "|    hid.enc.2.block.layer_scale_1 |    (256,)              |            |\n",
      "|    hid.enc.2.block.layer_scale_2 |    (256,)              |            |\n",
      "|    hid.enc.2.block.norm1         |    0.512K              |    81.92K  |\n",
      "|    hid.enc.2.block.attn          |    0.283M              |    17.99M  |\n",
      "|    hid.enc.2.block.norm2         |    0.512K              |    81.92K  |\n",
      "|    hid.enc.2.block.mlp           |    1.071M              |    68.289M |\n",
      "|   hid.enc.3.block                |   1.356M               |   86.442M  |\n",
      "|    hid.enc.3.block.layer_scale_1 |    (256,)              |            |\n",
      "|    hid.enc.3.block.layer_scale_2 |    (256,)              |            |\n",
      "|    hid.enc.3.block.norm1         |    0.512K              |    81.92K  |\n",
      "|    hid.enc.3.block.attn          |    0.283M              |    17.99M  |\n",
      "|    hid.enc.3.block.norm2         |    0.512K              |    81.92K  |\n",
      "|    hid.enc.3.block.mlp           |    1.071M              |    68.289M |\n",
      "|   hid.enc.4.block                |   1.356M               |   86.442M  |\n",
      "|    hid.enc.4.block.layer_scale_1 |    (256,)              |            |\n",
      "|    hid.enc.4.block.layer_scale_2 |    (256,)              |            |\n",
      "|    hid.enc.4.block.norm1         |    0.512K              |    81.92K  |\n",
      "|    hid.enc.4.block.attn          |    0.283M              |    17.99M  |\n",
      "|    hid.enc.4.block.norm2         |    0.512K              |    81.92K  |\n",
      "|    hid.enc.4.block.mlp           |    1.071M              |    68.289M |\n",
      "|   hid.enc.5.block                |   1.356M               |   86.442M  |\n",
      "|    hid.enc.5.block.layer_scale_1 |    (256,)              |            |\n",
      "|    hid.enc.5.block.layer_scale_2 |    (256,)              |            |\n",
      "|    hid.enc.5.block.norm1         |    0.512K              |    81.92K  |\n",
      "|    hid.enc.5.block.attn          |    0.283M              |    17.99M  |\n",
      "|    hid.enc.5.block.norm2         |    0.512K              |    81.92K  |\n",
      "|    hid.enc.5.block.mlp           |    1.071M              |    68.289M |\n",
      "|   hid.enc.6.block                |   1.356M               |   86.442M  |\n",
      "|    hid.enc.6.block.layer_scale_1 |    (256,)              |            |\n",
      "|    hid.enc.6.block.layer_scale_2 |    (256,)              |            |\n",
      "|    hid.enc.6.block.norm1         |    0.512K              |    81.92K  |\n",
      "|    hid.enc.6.block.attn          |    0.283M              |    17.99M  |\n",
      "|    hid.enc.6.block.norm2         |    0.512K              |    81.92K  |\n",
      "|    hid.enc.6.block.mlp           |    1.071M              |    68.289M |\n",
      "|   hid.enc.7                      |   1.52M                |   96.928M  |\n",
      "|    hid.enc.7.block               |    1.356M              |    86.442M |\n",
      "|    hid.enc.7.reduction           |    0.164M              |    10.486M |\n",
      "--------------------------------------------------------------------------------\n",
      "\n",
      "Epoch 0: 100%|██████████| 19/19 [00:22<00:00,  0.83it/s, v_num=2.61e+7, train_loss_step=1.980]\n",
      "Validation: |          | 0/? [00:00<?, ?it/s]\u001b[A\n",
      "Validation:   0%|          | 0/4 [00:00<?, ?it/s]\u001b[A\n",
      "Validation DataLoader 0:   0%|          | 0/4 [00:00<?, ?it/s]\u001b[A\n",
      "Validation DataLoader 0:  25%|██▌       | 1/4 [00:00<00:00,  4.15it/s]\u001b[A\n",
      "Validation DataLoader 0:  50%|█████     | 2/4 [00:00<00:00,  2.84it/s]\u001b[A\n",
      "Validation DataLoader 0:  75%|███████▌  | 3/4 [00:01<00:00,  2.56it/s]\u001b[A\n",
      "Validation DataLoader 0: 100%|██████████| 4/4 [00:01<00:00,  2.44it/s]\u001b[A\n",
      "Epoch 0: 100%|██████████| 19/19 [00:24<00:00,  0.77it/s, v_num=2.61e+7, train_loss_step=1.980, train_loss_epoch=2.340]"
     ]
    },
    {
     "name": "stderr",
     "output_type": "stream",
     "text": [
      "Epoch 0, global step 19: 'val_loss' reached 2.09473 (best 2.09473), saving model to '/ocean/projects/eng170006p/ussqww/NDD_SimVP/work_dirs/custom_exp/checkpoints/best-epoch=00-val_loss=2.095.ckpt' as top 1\n"
     ]
    },
    {
     "name": "stdout",
     "output_type": "stream",
     "text": [
      "Epoch 1: 100%|██████████| 19/19 [00:22<00:00,  0.84it/s, v_num=2.61e+7, train_loss_step=1.980, train_loss_epoch=2.340]\n",
      "Validation: |          | 0/? [00:00<?, ?it/s]\u001b[A\n",
      "Validation:   0%|          | 0/4 [00:00<?, ?it/s]\u001b[A\n",
      "Validation DataLoader 0:   0%|          | 0/4 [00:00<?, ?it/s]\u001b[A\n",
      "Validation DataLoader 0:  25%|██▌       | 1/4 [00:00<00:00,  4.12it/s]\u001b[A\n",
      "Validation DataLoader 0:  50%|█████     | 2/4 [00:00<00:00,  2.80it/s]\u001b[A\n",
      "Validation DataLoader 0:  75%|███████▌  | 3/4 [00:01<00:00,  2.53it/s]\u001b[A\n",
      "Validation DataLoader 0: 100%|██████████| 4/4 [00:01<00:00,  2.41it/s]\u001b[AEpoch 1: Lr: 0.0000505 | Train Loss: 2.3365152 | Vali Loss: 1.8270870\n",
      "\n",
      "Epoch 1: 100%|██████████| 19/19 [00:24<00:00,  0.77it/s, v_num=2.61e+7, train_loss_step=1.980, train_loss_epoch=1.760]"
     ]
    },
    {
     "name": "stderr",
     "output_type": "stream",
     "text": [
      "Epoch 1, global step 38: 'val_loss' reached 1.82709 (best 1.82709), saving model to '/ocean/projects/eng170006p/ussqww/NDD_SimVP/work_dirs/custom_exp/checkpoints/best-epoch=01-val_loss=1.827.ckpt' as top 1\n"
     ]
    },
    {
     "name": "stdout",
     "output_type": "stream",
     "text": [
      "Epoch 2: 100%|██████████| 19/19 [00:22<00:00,  0.84it/s, v_num=2.61e+7, train_loss_step=1.580, train_loss_epoch=1.760]\n",
      "Validation: |          | 0/? [00:00<?, ?it/s]\u001b[A\n",
      "Validation:   0%|          | 0/4 [00:00<?, ?it/s]\u001b[A\n",
      "Validation DataLoader 0:   0%|          | 0/4 [00:00<?, ?it/s]\u001b[A\n",
      "Validation DataLoader 0:  25%|██▌       | 1/4 [00:00<00:00,  4.10it/s]\u001b[A\n",
      "Validation DataLoader 0:  50%|█████     | 2/4 [00:00<00:00,  2.82it/s]\u001b[A\n",
      "Validation DataLoader 0:  75%|███████▌  | 3/4 [00:01<00:00,  2.55it/s]\u001b[A\n",
      "Validation DataLoader 0: 100%|██████████| 4/4 [00:01<00:00,  2.43it/s]\u001b[AEpoch 2: Lr: 0.0000636 | Train Loss: 1.7645596 | Vali Loss: 1.5816447\n",
      "\n",
      "Epoch 2: 100%|██████████| 19/19 [00:24<00:00,  0.77it/s, v_num=2.61e+7, train_loss_step=1.580, train_loss_epoch=1.510]"
     ]
    },
    {
     "name": "stderr",
     "output_type": "stream",
     "text": [
      "Epoch 2, global step 57: 'val_loss' reached 1.58164 (best 1.58164), saving model to '/ocean/projects/eng170006p/ussqww/NDD_SimVP/work_dirs/custom_exp/checkpoints/best-epoch=02-val_loss=1.582.ckpt' as top 1\n"
     ]
    },
    {
     "name": "stdout",
     "output_type": "stream",
     "text": [
      "Epoch 3: 100%|██████████| 19/19 [00:22<00:00,  0.84it/s, v_num=2.61e+7, train_loss_step=1.330, train_loss_epoch=1.510]\n",
      "Validation: |          | 0/? [00:00<?, ?it/s]\u001b[A\n",
      "Validation:   0%|          | 0/4 [00:00<?, ?it/s]\u001b[A\n",
      "Validation DataLoader 0:   0%|          | 0/4 [00:00<?, ?it/s]\u001b[A\n",
      "Validation DataLoader 0:  25%|██▌       | 1/4 [00:00<00:00,  4.13it/s]\u001b[A\n",
      "Validation DataLoader 0:  50%|█████     | 2/4 [00:00<00:00,  2.83it/s]\u001b[A\n",
      "Validation DataLoader 0:  75%|███████▌  | 3/4 [00:01<00:00,  2.55it/s]\u001b[A\n",
      "Validation DataLoader 0: 100%|██████████| 4/4 [00:01<00:00,  2.43it/s]\u001b[AEpoch 3: Lr: 0.0000816 | Train Loss: 1.5097755 | Vali Loss: 1.3926464\n",
      "\n",
      "Epoch 3: 100%|██████████| 19/19 [00:24<00:00,  0.77it/s, v_num=2.61e+7, train_loss_step=1.330, train_loss_epoch=1.310]"
     ]
    },
    {
     "name": "stderr",
     "output_type": "stream",
     "text": [
      "Epoch 3, global step 76: 'val_loss' reached 1.39265 (best 1.39265), saving model to '/ocean/projects/eng170006p/ussqww/NDD_SimVP/work_dirs/custom_exp/checkpoints/best-epoch=03-val_loss=1.393.ckpt' as top 1\n"
     ]
    },
    {
     "name": "stdout",
     "output_type": "stream",
     "text": [
      "Epoch 4: 100%|██████████| 19/19 [00:22<00:00,  0.84it/s, v_num=2.61e+7, train_loss_step=0.961, train_loss_epoch=1.310]\n",
      "Validation: |          | 0/? [00:00<?, ?it/s]\u001b[A\n",
      "Validation:   0%|          | 0/4 [00:00<?, ?it/s]\u001b[A\n",
      "Validation DataLoader 0:   0%|          | 0/4 [00:00<?, ?it/s]\u001b[A\n",
      "Validation DataLoader 0:  25%|██▌       | 1/4 [00:00<00:00,  4.14it/s]\u001b[A\n",
      "Validation DataLoader 0:  50%|█████     | 2/4 [00:00<00:00,  2.82it/s]\u001b[A\n",
      "Validation DataLoader 0:  75%|███████▌  | 3/4 [00:01<00:00,  2.55it/s]\u001b[A\n",
      "Validation DataLoader 0: 100%|██████████| 4/4 [00:01<00:00,  2.43it/s]\u001b[AEpoch 4: Lr: 0.0001045 | Train Loss: 1.3065926 | Vali Loss: 1.2618322\n",
      "\n",
      "Epoch 4: 100%|██████████| 19/19 [00:24<00:00,  0.77it/s, v_num=2.61e+7, train_loss_step=0.961, train_loss_epoch=1.170]"
     ]
    },
    {
     "name": "stderr",
     "output_type": "stream",
     "text": [
      "Epoch 4, global step 95: 'val_loss' reached 1.26183 (best 1.26183), saving model to '/ocean/projects/eng170006p/ussqww/NDD_SimVP/work_dirs/custom_exp/checkpoints/best-epoch=04-val_loss=1.262.ckpt' as top 1\n"
     ]
    },
    {
     "name": "stdout",
     "output_type": "stream",
     "text": [
      "Epoch 5: 100%|██████████| 19/19 [00:22<00:00,  0.84it/s, v_num=2.61e+7, train_loss_step=1.480, train_loss_epoch=1.170]\n",
      "Validation: |          | 0/? [00:00<?, ?it/s]\u001b[A\n",
      "Validation:   0%|          | 0/4 [00:00<?, ?it/s]\u001b[A\n",
      "Validation DataLoader 0:   0%|          | 0/4 [00:00<?, ?it/s]\u001b[A\n",
      "Validation DataLoader 0:  25%|██▌       | 1/4 [00:00<00:00,  4.12it/s]\u001b[A\n",
      "Validation DataLoader 0:  50%|█████     | 2/4 [00:00<00:00,  2.81it/s]\u001b[A\n",
      "Validation DataLoader 0:  75%|███████▌  | 3/4 [00:01<00:00,  2.54it/s]\u001b[A\n",
      "Validation DataLoader 0: 100%|██████████| 4/4 [00:01<00:00,  2.39it/s]\u001b[AEpoch 5: Lr: 0.0001320 | Train Loss: 1.1680548 | Vali Loss: 1.1581752\n",
      "\n",
      "Epoch 5: 100%|██████████| 19/19 [00:24<00:00,  0.76it/s, v_num=2.61e+7, train_loss_step=1.480, train_loss_epoch=1.050]"
     ]
    },
    {
     "name": "stderr",
     "output_type": "stream",
     "text": [
      "Epoch 5, global step 114: 'val_loss' reached 1.15818 (best 1.15818), saving model to '/ocean/projects/eng170006p/ussqww/NDD_SimVP/work_dirs/custom_exp/checkpoints/best-epoch=05-val_loss=1.158.ckpt' as top 1\n"
     ]
    },
    {
     "name": "stdout",
     "output_type": "stream",
     "text": [
      "Epoch 6: 100%|██████████| 19/19 [00:22<00:00,  0.83it/s, v_num=2.61e+7, train_loss_step=1.570, train_loss_epoch=1.050]\n",
      "Validation: |          | 0/? [00:00<?, ?it/s]\u001b[A\n",
      "Validation:   0%|          | 0/4 [00:00<?, ?it/s]\u001b[A\n",
      "Validation DataLoader 0:   0%|          | 0/4 [00:00<?, ?it/s]\u001b[A\n",
      "Validation DataLoader 0:  25%|██▌       | 1/4 [00:00<00:00,  4.12it/s]\u001b[A\n",
      "Validation DataLoader 0:  50%|█████     | 2/4 [00:00<00:00,  2.81it/s]\u001b[A\n",
      "Validation DataLoader 0:  75%|███████▌  | 3/4 [00:01<00:00,  2.54it/s]\u001b[A\n",
      "Validation DataLoader 0: 100%|██████████| 4/4 [00:01<00:00,  2.42it/s]\u001b[AEpoch 6: Lr: 0.0001637 | Train Loss: 1.0549941 | Vali Loss: 1.0855647\n",
      "\n",
      "Epoch 6: 100%|██████████| 19/19 [00:24<00:00,  0.76it/s, v_num=2.61e+7, train_loss_step=1.570, train_loss_epoch=0.980]"
     ]
    },
    {
     "name": "stderr",
     "output_type": "stream",
     "text": [
      "Epoch 6, global step 133: 'val_loss' reached 1.08556 (best 1.08556), saving model to '/ocean/projects/eng170006p/ussqww/NDD_SimVP/work_dirs/custom_exp/checkpoints/best-epoch=06-val_loss=1.086.ckpt' as top 1\n"
     ]
    },
    {
     "name": "stdout",
     "output_type": "stream",
     "text": [
      "Epoch 7: 100%|██████████| 19/19 [00:22<00:00,  0.83it/s, v_num=2.61e+7, train_loss_step=0.763, train_loss_epoch=0.980]\n",
      "Validation: |          | 0/? [00:00<?, ?it/s]\u001b[A\n",
      "Validation:   0%|          | 0/4 [00:00<?, ?it/s]\u001b[A\n",
      "Validation DataLoader 0:   0%|          | 0/4 [00:00<?, ?it/s]\u001b[A\n",
      "Validation DataLoader 0:  25%|██▌       | 1/4 [00:00<00:00,  4.13it/s]\u001b[A\n",
      "Validation DataLoader 0:  50%|█████     | 2/4 [00:00<00:00,  2.80it/s]\u001b[A\n",
      "Validation DataLoader 0:  75%|███████▌  | 3/4 [00:01<00:00,  2.54it/s]\u001b[A\n",
      "Validation DataLoader 0: 100%|██████████| 4/4 [00:01<00:00,  2.42it/s]\u001b[AEpoch 7: Lr: 0.0001993 | Train Loss: 0.9804711 | Vali Loss: 1.0223600\n",
      "\n",
      "Epoch 7: 100%|██████████| 19/19 [00:24<00:00,  0.76it/s, v_num=2.61e+7, train_loss_step=0.763, train_loss_epoch=0.920]"
     ]
    },
    {
     "name": "stderr",
     "output_type": "stream",
     "text": [
      "Epoch 7, global step 152: 'val_loss' reached 1.02236 (best 1.02236), saving model to '/ocean/projects/eng170006p/ussqww/NDD_SimVP/work_dirs/custom_exp/checkpoints/best-epoch=07-val_loss=1.022.ckpt' as top 1\n"
     ]
    },
    {
     "name": "stdout",
     "output_type": "stream",
     "text": [
      "Epoch 8: 100%|██████████| 19/19 [00:22<00:00,  0.83it/s, v_num=2.61e+7, train_loss_step=0.811, train_loss_epoch=0.920]\n",
      "Validation: |          | 0/? [00:00<?, ?it/s]\u001b[A\n",
      "Validation:   0%|          | 0/4 [00:00<?, ?it/s]\u001b[A\n",
      "Validation DataLoader 0:   0%|          | 0/4 [00:00<?, ?it/s]\u001b[A\n",
      "Validation DataLoader 0:  25%|██▌       | 1/4 [00:00<00:00,  4.12it/s]\u001b[A\n",
      "Validation DataLoader 0:  50%|█████     | 2/4 [00:00<00:00,  2.80it/s]\u001b[A\n",
      "Validation DataLoader 0:  75%|███████▌  | 3/4 [00:01<00:00,  2.53it/s]\u001b[A\n",
      "Validation DataLoader 0: 100%|██████████| 4/4 [00:01<00:00,  2.42it/s]\u001b[AEpoch 8: Lr: 0.0002385 | Train Loss: 0.9204894 | Vali Loss: 0.9579487\n",
      "\n",
      "Epoch 8: 100%|██████████| 19/19 [00:24<00:00,  0.76it/s, v_num=2.61e+7, train_loss_step=0.811, train_loss_epoch=0.865]"
     ]
    },
    {
     "name": "stderr",
     "output_type": "stream",
     "text": [
      "Epoch 8, global step 171: 'val_loss' reached 0.95795 (best 0.95795), saving model to '/ocean/projects/eng170006p/ussqww/NDD_SimVP/work_dirs/custom_exp/checkpoints/best-epoch=08-val_loss=0.958.ckpt' as top 1\n"
     ]
    },
    {
     "name": "stdout",
     "output_type": "stream",
     "text": [
      "Epoch 9: 100%|██████████| 19/19 [00:22<00:00,  0.83it/s, v_num=2.61e+7, train_loss_step=0.794, train_loss_epoch=0.865]\n",
      "Validation: |          | 0/? [00:00<?, ?it/s]\u001b[A\n",
      "Validation:   0%|          | 0/4 [00:00<?, ?it/s]\u001b[A\n",
      "Validation DataLoader 0:   0%|          | 0/4 [00:00<?, ?it/s]\u001b[A\n",
      "Validation DataLoader 0:  25%|██▌       | 1/4 [00:00<00:00,  4.13it/s]\u001b[A\n",
      "Validation DataLoader 0:  50%|█████     | 2/4 [00:00<00:00,  2.80it/s]\u001b[A\n",
      "Validation DataLoader 0:  75%|███████▌  | 3/4 [00:01<00:00,  2.53it/s]\u001b[A\n",
      "Validation DataLoader 0: 100%|██████████| 4/4 [00:01<00:00,  2.41it/s]\u001b[AEpoch 9: Lr: 0.0002808 | Train Loss: 0.8651236 | Vali Loss: 0.8504184\n",
      "\n",
      "Epoch 9: 100%|██████████| 19/19 [00:24<00:00,  0.76it/s, v_num=2.61e+7, train_loss_step=0.794, train_loss_epoch=0.794]"
     ]
    },
    {
     "name": "stderr",
     "output_type": "stream",
     "text": [
      "Epoch 9, global step 190: 'val_loss' reached 0.85042 (best 0.85042), saving model to '/ocean/projects/eng170006p/ussqww/NDD_SimVP/work_dirs/custom_exp/checkpoints/best-epoch=09-val_loss=0.850.ckpt' as top 1\n"
     ]
    },
    {
     "name": "stdout",
     "output_type": "stream",
     "text": [
      "Epoch 10: 100%|██████████| 19/19 [00:22<00:00,  0.84it/s, v_num=2.61e+7, train_loss_step=0.836, train_loss_epoch=0.794]\n",
      "Validation: |          | 0/? [00:00<?, ?it/s]\u001b[A\n",
      "Validation:   0%|          | 0/4 [00:00<?, ?it/s]\u001b[A\n",
      "Validation DataLoader 0:   0%|          | 0/4 [00:00<?, ?it/s]\u001b[A\n",
      "Validation DataLoader 0:  25%|██▌       | 1/4 [00:00<00:00,  4.10it/s]\u001b[A\n",
      "Validation DataLoader 0:  50%|█████     | 2/4 [00:00<00:00,  2.80it/s]\u001b[A\n",
      "Validation DataLoader 0:  75%|███████▌  | 3/4 [00:01<00:00,  2.53it/s]\u001b[A\n",
      "Validation DataLoader 0: 100%|██████████| 4/4 [00:01<00:00,  2.42it/s]\u001b[AEpoch 10: Lr: 0.0003257 | Train Loss: 0.7937044 | Vali Loss: 0.7194961\n",
      "\n",
      "Epoch 10: 100%|██████████| 19/19 [00:24<00:00,  0.76it/s, v_num=2.61e+7, train_loss_step=0.836, train_loss_epoch=0.693]"
     ]
    },
    {
     "name": "stderr",
     "output_type": "stream",
     "text": [
      "Epoch 10, global step 209: 'val_loss' reached 0.71950 (best 0.71950), saving model to '/ocean/projects/eng170006p/ussqww/NDD_SimVP/work_dirs/custom_exp/checkpoints/best-epoch=10-val_loss=0.719.ckpt' as top 1\n"
     ]
    },
    {
     "name": "stdout",
     "output_type": "stream",
     "text": [
      "Epoch 11: 100%|██████████| 19/19 [00:22<00:00,  0.83it/s, v_num=2.61e+7, train_loss_step=0.693, train_loss_epoch=0.693]\n",
      "Validation: |          | 0/? [00:00<?, ?it/s]\u001b[A\n",
      "Validation:   0%|          | 0/4 [00:00<?, ?it/s]\u001b[A\n",
      "Validation DataLoader 0:   0%|          | 0/4 [00:00<?, ?it/s]\u001b[A\n",
      "Validation DataLoader 0:  25%|██▌       | 1/4 [00:00<00:00,  4.10it/s]\u001b[A\n",
      "Validation DataLoader 0:  50%|█████     | 2/4 [00:00<00:00,  2.79it/s]\u001b[A\n",
      "Validation DataLoader 0:  75%|███████▌  | 3/4 [00:01<00:00,  2.45it/s]\u001b[A\n",
      "Validation DataLoader 0: 100%|██████████| 4/4 [00:01<00:00,  2.36it/s]\u001b[AEpoch 11: Lr: 0.0003727 | Train Loss: 0.6933798 | Vali Loss: 0.5997831\n",
      "\n",
      "Epoch 11: 100%|██████████| 19/19 [00:24<00:00,  0.76it/s, v_num=2.61e+7, train_loss_step=0.693, train_loss_epoch=0.583]"
     ]
    },
    {
     "name": "stderr",
     "output_type": "stream",
     "text": [
      "Epoch 11, global step 228: 'val_loss' reached 0.59978 (best 0.59978), saving model to '/ocean/projects/eng170006p/ussqww/NDD_SimVP/work_dirs/custom_exp/checkpoints/best-epoch=11-val_loss=0.600.ckpt' as top 1\n"
     ]
    },
    {
     "name": "stdout",
     "output_type": "stream",
     "text": [
      "Epoch 12: 100%|██████████| 19/19 [00:22<00:00,  0.83it/s, v_num=2.61e+7, train_loss_step=0.645, train_loss_epoch=0.583]\n",
      "Validation: |          | 0/? [00:00<?, ?it/s]\u001b[A\n",
      "Validation:   0%|          | 0/4 [00:00<?, ?it/s]\u001b[A\n",
      "Validation DataLoader 0:   0%|          | 0/4 [00:00<?, ?it/s]\u001b[A\n",
      "Validation DataLoader 0:  25%|██▌       | 1/4 [00:00<00:00,  4.12it/s]\u001b[A\n",
      "Validation DataLoader 0:  50%|█████     | 2/4 [00:00<00:00,  2.78it/s]\u001b[A\n",
      "Validation DataLoader 0:  75%|███████▌  | 3/4 [00:01<00:00,  2.52it/s]\u001b[A\n",
      "Validation DataLoader 0: 100%|██████████| 4/4 [00:01<00:00,  2.41it/s]\u001b[AEpoch 12: Lr: 0.0004213 | Train Loss: 0.5829915 | Vali Loss: 0.5262221\n",
      "\n",
      "Epoch 12: 100%|██████████| 19/19 [00:24<00:00,  0.76it/s, v_num=2.61e+7, train_loss_step=0.645, train_loss_epoch=0.487]"
     ]
    },
    {
     "name": "stderr",
     "output_type": "stream",
     "text": [
      "Epoch 12, global step 247: 'val_loss' reached 0.52622 (best 0.52622), saving model to '/ocean/projects/eng170006p/ussqww/NDD_SimVP/work_dirs/custom_exp/checkpoints/best-epoch=12-val_loss=0.526.ckpt' as top 1\n"
     ]
    },
    {
     "name": "stdout",
     "output_type": "stream",
     "text": [
      "Epoch 13: 100%|██████████| 19/19 [00:22<00:00,  0.83it/s, v_num=2.61e+7, train_loss_step=0.423, train_loss_epoch=0.487]\n",
      "Validation: |          | 0/? [00:00<?, ?it/s]\u001b[A\n",
      "Validation:   0%|          | 0/4 [00:00<?, ?it/s]\u001b[A\n",
      "Validation DataLoader 0:   0%|          | 0/4 [00:00<?, ?it/s]\u001b[A\n",
      "Validation DataLoader 0:  25%|██▌       | 1/4 [00:00<00:00,  4.12it/s]\u001b[A\n",
      "Validation DataLoader 0:  50%|█████     | 2/4 [00:00<00:00,  2.80it/s]\u001b[A\n",
      "Validation DataLoader 0:  75%|███████▌  | 3/4 [00:01<00:00,  2.54it/s]\u001b[A\n",
      "Validation DataLoader 0: 100%|██████████| 4/4 [00:01<00:00,  2.42it/s]\u001b[AEpoch 13: Lr: 0.0004711 | Train Loss: 0.4874723 | Vali Loss: 0.4293248\n",
      "\n",
      "Epoch 13: 100%|██████████| 19/19 [00:24<00:00,  0.76it/s, v_num=2.61e+7, train_loss_step=0.423, train_loss_epoch=0.416]"
     ]
    },
    {
     "name": "stderr",
     "output_type": "stream",
     "text": [
      "Epoch 13, global step 266: 'val_loss' reached 0.42932 (best 0.42932), saving model to '/ocean/projects/eng170006p/ussqww/NDD_SimVP/work_dirs/custom_exp/checkpoints/best-epoch=13-val_loss=0.429.ckpt' as top 1\n"
     ]
    },
    {
     "name": "stdout",
     "output_type": "stream",
     "text": [
      "Epoch 14: 100%|██████████| 19/19 [00:22<00:00,  0.83it/s, v_num=2.61e+7, train_loss_step=0.385, train_loss_epoch=0.416]\n",
      "Validation: |          | 0/? [00:00<?, ?it/s]\u001b[A\n",
      "Validation:   0%|          | 0/4 [00:00<?, ?it/s]\u001b[A\n",
      "Validation DataLoader 0:   0%|          | 0/4 [00:00<?, ?it/s]\u001b[A\n",
      "Validation DataLoader 0:  25%|██▌       | 1/4 [00:00<00:00,  4.12it/s]\u001b[A\n",
      "Validation DataLoader 0:  50%|█████     | 2/4 [00:00<00:00,  2.81it/s]\u001b[A\n",
      "Validation DataLoader 0:  75%|███████▌  | 3/4 [00:01<00:00,  2.54it/s]\u001b[A\n",
      "Validation DataLoader 0: 100%|██████████| 4/4 [00:01<00:00,  2.42it/s]\u001b[AEpoch 14: Lr: 0.0005213 | Train Loss: 0.4159380 | Vali Loss: 0.3942908\n",
      "\n",
      "Epoch 14: 100%|██████████| 19/19 [00:24<00:00,  0.76it/s, v_num=2.61e+7, train_loss_step=0.385, train_loss_epoch=0.365]"
     ]
    },
    {
     "name": "stderr",
     "output_type": "stream",
     "text": [
      "Epoch 14, global step 285: 'val_loss' reached 0.39429 (best 0.39429), saving model to '/ocean/projects/eng170006p/ussqww/NDD_SimVP/work_dirs/custom_exp/checkpoints/best-epoch=14-val_loss=0.394.ckpt' as top 1\n"
     ]
    },
    {
     "name": "stdout",
     "output_type": "stream",
     "text": [
      "Epoch 15: 100%|██████████| 19/19 [00:22<00:00,  0.83it/s, v_num=2.61e+7, train_loss_step=0.264, train_loss_epoch=0.365]\n",
      "Validation: |          | 0/? [00:00<?, ?it/s]\u001b[A\n",
      "Validation:   0%|          | 0/4 [00:00<?, ?it/s]\u001b[A\n",
      "Validation DataLoader 0:   0%|          | 0/4 [00:00<?, ?it/s]\u001b[A\n",
      "Validation DataLoader 0:  25%|██▌       | 1/4 [00:00<00:00,  4.12it/s]\u001b[A\n",
      "Validation DataLoader 0:  50%|█████     | 2/4 [00:00<00:00,  2.81it/s]\u001b[A\n",
      "Validation DataLoader 0:  75%|███████▌  | 3/4 [00:01<00:00,  2.53it/s]\u001b[A\n",
      "Validation DataLoader 0: 100%|██████████| 4/4 [00:01<00:00,  2.42it/s]\u001b[AEpoch 15: Lr: 0.0005716 | Train Loss: 0.3649814 | Vali Loss: 0.3489583\n",
      "\n",
      "Epoch 15: 100%|██████████| 19/19 [00:24<00:00,  0.76it/s, v_num=2.61e+7, train_loss_step=0.264, train_loss_epoch=0.309]"
     ]
    },
    {
     "name": "stderr",
     "output_type": "stream",
     "text": [
      "Epoch 15, global step 304: 'val_loss' reached 0.34896 (best 0.34896), saving model to '/ocean/projects/eng170006p/ussqww/NDD_SimVP/work_dirs/custom_exp/checkpoints/best-epoch=15-val_loss=0.349.ckpt' as top 1\n"
     ]
    },
    {
     "name": "stdout",
     "output_type": "stream",
     "text": [
      "Epoch 16: 100%|██████████| 19/19 [00:22<00:00,  0.83it/s, v_num=2.61e+7, train_loss_step=0.344, train_loss_epoch=0.309]\n",
      "Validation: |          | 0/? [00:00<?, ?it/s]\u001b[A\n",
      "Validation:   0%|          | 0/4 [00:00<?, ?it/s]\u001b[A\n",
      "Validation DataLoader 0:   0%|          | 0/4 [00:00<?, ?it/s]\u001b[A\n",
      "Validation DataLoader 0:  25%|██▌       | 1/4 [00:00<00:00,  4.10it/s]\u001b[A\n",
      "Validation DataLoader 0:  50%|█████     | 2/4 [00:00<00:00,  2.82it/s]\u001b[A\n",
      "Validation DataLoader 0:  75%|███████▌  | 3/4 [00:01<00:00,  2.55it/s]\u001b[A\n",
      "Validation DataLoader 0: 100%|██████████| 4/4 [00:01<00:00,  2.42it/s]\u001b[AEpoch 16: Lr: 0.0006213 | Train Loss: 0.3094344 | Vali Loss: 0.3510069\n",
      "\n",
      "Epoch 16: 100%|██████████| 19/19 [00:24<00:00,  0.76it/s, v_num=2.61e+7, train_loss_step=0.344, train_loss_epoch=0.294]"
     ]
    },
    {
     "name": "stderr",
     "output_type": "stream",
     "text": [
      "Epoch 16, global step 323: 'val_loss' was not in top 1\n"
     ]
    },
    {
     "name": "stdout",
     "output_type": "stream",
     "text": [
      "Epoch 17: 100%|██████████| 19/19 [00:22<00:00,  0.83it/s, v_num=2.61e+7, train_loss_step=0.227, train_loss_epoch=0.294]\n",
      "Validation: |          | 0/? [00:00<?, ?it/s]\u001b[A\n",
      "Validation:   0%|          | 0/4 [00:00<?, ?it/s]\u001b[A\n",
      "Validation DataLoader 0:   0%|          | 0/4 [00:00<?, ?it/s]\u001b[A\n",
      "Validation DataLoader 0:  25%|██▌       | 1/4 [00:00<00:00,  4.14it/s]\u001b[A\n",
      "Validation DataLoader 0:  50%|█████     | 2/4 [00:00<00:00,  2.82it/s]\u001b[A\n",
      "Validation DataLoader 0:  75%|███████▌  | 3/4 [00:01<00:00,  2.54it/s]\u001b[A\n",
      "Validation DataLoader 0: 100%|██████████| 4/4 [00:01<00:00,  2.42it/s]\u001b[AEpoch 17: Lr: 0.0006698 | Train Loss: 0.2935698 | Vali Loss: 0.3382909\n",
      "\n",
      "Epoch 17: 100%|██████████| 19/19 [00:24<00:00,  0.76it/s, v_num=2.61e+7, train_loss_step=0.227, train_loss_epoch=0.290]"
     ]
    },
    {
     "name": "stderr",
     "output_type": "stream",
     "text": [
      "Epoch 17, global step 342: 'val_loss' reached 0.33829 (best 0.33829), saving model to '/ocean/projects/eng170006p/ussqww/NDD_SimVP/work_dirs/custom_exp/checkpoints/best-epoch=17-val_loss=0.338.ckpt' as top 1\n"
     ]
    },
    {
     "name": "stdout",
     "output_type": "stream",
     "text": [
      "Epoch 18: 100%|██████████| 19/19 [00:22<00:00,  0.83it/s, v_num=2.61e+7, train_loss_step=0.156, train_loss_epoch=0.290]\n",
      "Validation: |          | 0/? [00:00<?, ?it/s]\u001b[A\n",
      "Validation:   0%|          | 0/4 [00:00<?, ?it/s]\u001b[A\n",
      "Validation DataLoader 0:   0%|          | 0/4 [00:00<?, ?it/s]\u001b[A\n",
      "Validation DataLoader 0:  25%|██▌       | 1/4 [00:00<00:00,  4.12it/s]\u001b[A\n",
      "Validation DataLoader 0:  50%|█████     | 2/4 [00:00<00:00,  2.79it/s]\u001b[A\n",
      "Validation DataLoader 0:  75%|███████▌  | 3/4 [00:01<00:00,  2.52it/s]\u001b[A\n",
      "Validation DataLoader 0: 100%|██████████| 4/4 [00:01<00:00,  2.41it/s]\u001b[AEpoch 18: Lr: 0.0007168 | Train Loss: 0.2897586 | Vali Loss: 0.3255619\n",
      "\n",
      "Epoch 18: 100%|██████████| 19/19 [00:24<00:00,  0.76it/s, v_num=2.61e+7, train_loss_step=0.156, train_loss_epoch=0.230]"
     ]
    },
    {
     "name": "stderr",
     "output_type": "stream",
     "text": [
      "Epoch 18, global step 361: 'val_loss' reached 0.32556 (best 0.32556), saving model to '/ocean/projects/eng170006p/ussqww/NDD_SimVP/work_dirs/custom_exp/checkpoints/best-epoch=18-val_loss=0.326.ckpt' as top 1\n"
     ]
    },
    {
     "name": "stdout",
     "output_type": "stream",
     "text": [
      "Epoch 19: 100%|██████████| 19/19 [00:22<00:00,  0.83it/s, v_num=2.61e+7, train_loss_step=0.227, train_loss_epoch=0.230]\n",
      "Validation: |          | 0/? [00:00<?, ?it/s]\u001b[A\n",
      "Validation:   0%|          | 0/4 [00:00<?, ?it/s]\u001b[A\n",
      "Validation DataLoader 0:   0%|          | 0/4 [00:00<?, ?it/s]\u001b[A\n",
      "Validation DataLoader 0:  25%|██▌       | 1/4 [00:00<00:00,  4.12it/s]\u001b[A\n",
      "Validation DataLoader 0:  50%|█████     | 2/4 [00:00<00:00,  2.82it/s]\u001b[A\n",
      "Validation DataLoader 0:  75%|███████▌  | 3/4 [00:01<00:00,  2.54it/s]\u001b[A\n",
      "Validation DataLoader 0: 100%|██████████| 4/4 [00:01<00:00,  2.42it/s]\u001b[AEpoch 19: Lr: 0.0007615 | Train Loss: 0.2299506 | Vali Loss: 0.2895788\n",
      "\n",
      "Epoch 19: 100%|██████████| 19/19 [00:24<00:00,  0.76it/s, v_num=2.61e+7, train_loss_step=0.227, train_loss_epoch=0.191]"
     ]
    },
    {
     "name": "stderr",
     "output_type": "stream",
     "text": [
      "Epoch 19, global step 380: 'val_loss' reached 0.28958 (best 0.28958), saving model to '/ocean/projects/eng170006p/ussqww/NDD_SimVP/work_dirs/custom_exp/checkpoints/best-epoch=19-val_loss=0.290.ckpt' as top 1\n"
     ]
    },
    {
     "name": "stdout",
     "output_type": "stream",
     "text": [
      "Epoch 20: 100%|██████████| 19/19 [00:22<00:00,  0.83it/s, v_num=2.61e+7, train_loss_step=0.122, train_loss_epoch=0.191]\n",
      "Validation: |          | 0/? [00:00<?, ?it/s]\u001b[A\n",
      "Validation:   0%|          | 0/4 [00:00<?, ?it/s]\u001b[A\n",
      "Validation DataLoader 0:   0%|          | 0/4 [00:00<?, ?it/s]\u001b[A\n",
      "Validation DataLoader 0:  25%|██▌       | 1/4 [00:00<00:00,  4.12it/s]\u001b[A\n",
      "Validation DataLoader 0:  50%|█████     | 2/4 [00:00<00:00,  2.75it/s]\u001b[A\n",
      "Validation DataLoader 0:  75%|███████▌  | 3/4 [00:01<00:00,  2.50it/s]\u001b[A\n",
      "Validation DataLoader 0: 100%|██████████| 4/4 [00:01<00:00,  2.39it/s]\u001b[AEpoch 20: Lr: 0.0008036 | Train Loss: 0.1908307 | Vali Loss: 0.2909718\n",
      "\n",
      "Epoch 20: 100%|██████████| 19/19 [00:24<00:00,  0.76it/s, v_num=2.61e+7, train_loss_step=0.122, train_loss_epoch=0.175]"
     ]
    },
    {
     "name": "stderr",
     "output_type": "stream",
     "text": [
      "Epoch 20, global step 399: 'val_loss' was not in top 1\n"
     ]
    },
    {
     "name": "stdout",
     "output_type": "stream",
     "text": [
      "Epoch 21: 100%|██████████| 19/19 [00:22<00:00,  0.83it/s, v_num=2.61e+7, train_loss_step=0.113, train_loss_epoch=0.175]\n",
      "Validation: |          | 0/? [00:00<?, ?it/s]\u001b[A\n",
      "Validation:   0%|          | 0/4 [00:00<?, ?it/s]\u001b[A\n",
      "Validation DataLoader 0:   0%|          | 0/4 [00:00<?, ?it/s]\u001b[A\n",
      "Validation DataLoader 0:  25%|██▌       | 1/4 [00:00<00:00,  4.12it/s]\u001b[A\n",
      "Validation DataLoader 0:  50%|█████     | 2/4 [00:00<00:00,  2.79it/s]\u001b[A\n",
      "Validation DataLoader 0:  75%|███████▌  | 3/4 [00:01<00:00,  2.53it/s]\u001b[A\n",
      "Validation DataLoader 0: 100%|██████████| 4/4 [00:01<00:00,  2.40it/s]\u001b[AEpoch 21: Lr: 0.0008426 | Train Loss: 0.1754888 | Vali Loss: 0.2634782\n",
      "\n",
      "Epoch 21: 100%|██████████| 19/19 [00:24<00:00,  0.76it/s, v_num=2.61e+7, train_loss_step=0.113, train_loss_epoch=0.154]"
     ]
    },
    {
     "name": "stderr",
     "output_type": "stream",
     "text": [
      "Epoch 21, global step 418: 'val_loss' reached 0.26348 (best 0.26348), saving model to '/ocean/projects/eng170006p/ussqww/NDD_SimVP/work_dirs/custom_exp/checkpoints/best-epoch=21-val_loss=0.263.ckpt' as top 1\n"
     ]
    },
    {
     "name": "stdout",
     "output_type": "stream",
     "text": [
      "Epoch 22: 100%|██████████| 19/19 [00:22<00:00,  0.83it/s, v_num=2.61e+7, train_loss_step=0.107, train_loss_epoch=0.154]\n",
      "Validation: |          | 0/? [00:00<?, ?it/s]\u001b[A\n",
      "Validation:   0%|          | 0/4 [00:00<?, ?it/s]\u001b[A\n",
      "Validation DataLoader 0:   0%|          | 0/4 [00:00<?, ?it/s]\u001b[A\n",
      "Validation DataLoader 0:  25%|██▌       | 1/4 [00:00<00:00,  4.13it/s]\u001b[A\n",
      "Validation DataLoader 0:  50%|█████     | 2/4 [00:00<00:00,  2.80it/s]\u001b[A\n",
      "Validation DataLoader 0:  75%|███████▌  | 3/4 [00:01<00:00,  2.53it/s]\u001b[A\n",
      "Validation DataLoader 0: 100%|██████████| 4/4 [00:01<00:00,  2.41it/s]\u001b[AEpoch 22: Lr: 0.0008781 | Train Loss: 0.1543020 | Vali Loss: 0.2748750\n",
      "\n",
      "Epoch 22: 100%|██████████| 19/19 [00:24<00:00,  0.76it/s, v_num=2.61e+7, train_loss_step=0.107, train_loss_epoch=0.145]"
     ]
    },
    {
     "name": "stderr",
     "output_type": "stream",
     "text": [
      "Epoch 22, global step 437: 'val_loss' was not in top 1\n"
     ]
    },
    {
     "name": "stdout",
     "output_type": "stream",
     "text": [
      "Epoch 23: 100%|██████████| 19/19 [00:22<00:00,  0.83it/s, v_num=2.61e+7, train_loss_step=0.110, train_loss_epoch=0.145] \n",
      "Validation: |          | 0/? [00:00<?, ?it/s]\u001b[A\n",
      "Validation:   0%|          | 0/4 [00:00<?, ?it/s]\u001b[A\n",
      "Validation DataLoader 0:   0%|          | 0/4 [00:00<?, ?it/s]\u001b[A\n",
      "Validation DataLoader 0:  25%|██▌       | 1/4 [00:00<00:00,  4.12it/s]\u001b[A\n",
      "Validation DataLoader 0:  50%|█████     | 2/4 [00:00<00:00,  2.82it/s]\u001b[A\n",
      "Validation DataLoader 0:  75%|███████▌  | 3/4 [00:01<00:00,  2.55it/s]\u001b[A\n",
      "Validation DataLoader 0: 100%|██████████| 4/4 [00:01<00:00,  2.43it/s]\u001b[AEpoch 23: Lr: 0.0009096 | Train Loss: 0.1453282 | Vali Loss: 0.2645369\n",
      "\n",
      "Epoch 23: 100%|██████████| 19/19 [00:24<00:00,  0.76it/s, v_num=2.61e+7, train_loss_step=0.110, train_loss_epoch=0.140]"
     ]
    },
    {
     "name": "stderr",
     "output_type": "stream",
     "text": [
      "Epoch 23, global step 456: 'val_loss' was not in top 1\n"
     ]
    },
    {
     "name": "stdout",
     "output_type": "stream",
     "text": [
      "Epoch 24: 100%|██████████| 19/19 [00:22<00:00,  0.83it/s, v_num=2.61e+7, train_loss_step=0.220, train_loss_epoch=0.140] \n",
      "Validation: |          | 0/? [00:00<?, ?it/s]\u001b[A\n",
      "Validation:   0%|          | 0/4 [00:00<?, ?it/s]\u001b[A\n",
      "Validation DataLoader 0:   0%|          | 0/4 [00:00<?, ?it/s]\u001b[A\n",
      "Validation DataLoader 0:  25%|██▌       | 1/4 [00:00<00:00,  4.13it/s]\u001b[A\n",
      "Validation DataLoader 0:  50%|█████     | 2/4 [00:00<00:00,  2.80it/s]\u001b[A\n",
      "Validation DataLoader 0:  75%|███████▌  | 3/4 [00:01<00:00,  2.53it/s]\u001b[A\n",
      "Validation DataLoader 0: 100%|██████████| 4/4 [00:01<00:00,  2.41it/s]\u001b[AEpoch 24: Lr: 0.0009368 | Train Loss: 0.1402163 | Vali Loss: 0.2507251\n",
      "\n",
      "Epoch 24: 100%|██████████| 19/19 [00:24<00:00,  0.76it/s, v_num=2.61e+7, train_loss_step=0.220, train_loss_epoch=0.125]"
     ]
    },
    {
     "name": "stderr",
     "output_type": "stream",
     "text": [
      "Epoch 24, global step 475: 'val_loss' reached 0.25073 (best 0.25073), saving model to '/ocean/projects/eng170006p/ussqww/NDD_SimVP/work_dirs/custom_exp/checkpoints/best-epoch=24-val_loss=0.251.ckpt' as top 1\n"
     ]
    },
    {
     "name": "stdout",
     "output_type": "stream",
     "text": [
      "Epoch 25: 100%|██████████| 19/19 [00:22<00:00,  0.83it/s, v_num=2.61e+7, train_loss_step=0.112, train_loss_epoch=0.125] \n",
      "Validation: |          | 0/? [00:00<?, ?it/s]\u001b[A\n",
      "Validation:   0%|          | 0/4 [00:00<?, ?it/s]\u001b[A\n",
      "Validation DataLoader 0:   0%|          | 0/4 [00:00<?, ?it/s]\u001b[A\n",
      "Validation DataLoader 0:  25%|██▌       | 1/4 [00:00<00:00,  4.12it/s]\u001b[A\n",
      "Validation DataLoader 0:  50%|█████     | 2/4 [00:00<00:00,  2.80it/s]\u001b[A\n",
      "Validation DataLoader 0:  75%|███████▌  | 3/4 [00:01<00:00,  2.53it/s]\u001b[A\n",
      "Validation DataLoader 0: 100%|██████████| 4/4 [00:01<00:00,  2.42it/s]\u001b[AEpoch 25: Lr: 0.0009594 | Train Loss: 0.1247165 | Vali Loss: 0.2862585\n",
      "\n",
      "Epoch 25: 100%|██████████| 19/19 [00:24<00:00,  0.76it/s, v_num=2.61e+7, train_loss_step=0.112, train_loss_epoch=0.129]"
     ]
    },
    {
     "name": "stderr",
     "output_type": "stream",
     "text": [
      "Epoch 25, global step 494: 'val_loss' was not in top 1\n"
     ]
    },
    {
     "name": "stdout",
     "output_type": "stream",
     "text": [
      "Epoch 26: 100%|██████████| 19/19 [00:22<00:00,  0.84it/s, v_num=2.61e+7, train_loss_step=0.0962, train_loss_epoch=0.129]\n",
      "Validation: |          | 0/? [00:00<?, ?it/s]\u001b[A\n",
      "Validation:   0%|          | 0/4 [00:00<?, ?it/s]\u001b[A\n",
      "Validation DataLoader 0:   0%|          | 0/4 [00:00<?, ?it/s]\u001b[A\n",
      "Validation DataLoader 0:  25%|██▌       | 1/4 [00:00<00:00,  4.12it/s]\u001b[A\n",
      "Validation DataLoader 0:  50%|█████     | 2/4 [00:00<00:00,  2.81it/s]\u001b[A\n",
      "Validation DataLoader 0:  75%|███████▌  | 3/4 [00:01<00:00,  2.54it/s]\u001b[A\n",
      "Validation DataLoader 0: 100%|██████████| 4/4 [00:01<00:00,  2.41it/s]\u001b[AEpoch 26: Lr: 0.0009772 | Train Loss: 0.1288584 | Vali Loss: 0.2458286\n",
      "\n",
      "Epoch 26: 100%|██████████| 19/19 [00:24<00:00,  0.76it/s, v_num=2.61e+7, train_loss_step=0.0962, train_loss_epoch=0.114]"
     ]
    },
    {
     "name": "stderr",
     "output_type": "stream",
     "text": [
      "Epoch 26, global step 513: 'val_loss' reached 0.24583 (best 0.24583), saving model to '/ocean/projects/eng170006p/ussqww/NDD_SimVP/work_dirs/custom_exp/checkpoints/best-epoch=26-val_loss=0.246.ckpt' as top 1\n"
     ]
    },
    {
     "name": "stdout",
     "output_type": "stream",
     "text": [
      "Epoch 27: 100%|██████████| 19/19 [00:22<00:00,  0.83it/s, v_num=2.61e+7, train_loss_step=0.125, train_loss_epoch=0.114] \n",
      "Validation: |          | 0/? [00:00<?, ?it/s]\u001b[A\n",
      "Validation:   0%|          | 0/4 [00:00<?, ?it/s]\u001b[A\n",
      "Validation DataLoader 0:   0%|          | 0/4 [00:00<?, ?it/s]\u001b[A\n",
      "Validation DataLoader 0:  25%|██▌       | 1/4 [00:00<00:00,  4.11it/s]\u001b[A\n",
      "Validation DataLoader 0:  50%|█████     | 2/4 [00:00<00:00,  2.80it/s]\u001b[A\n",
      "Validation DataLoader 0:  75%|███████▌  | 3/4 [00:01<00:00,  2.53it/s]\u001b[A\n",
      "Validation DataLoader 0: 100%|██████████| 4/4 [00:01<00:00,  2.42it/s]\u001b[AEpoch 27: Lr: 0.0009900 | Train Loss: 0.1139374 | Vali Loss: 0.2757841\n",
      "\n",
      "Epoch 27: 100%|██████████| 19/19 [00:24<00:00,  0.76it/s, v_num=2.61e+7, train_loss_step=0.125, train_loss_epoch=0.103]"
     ]
    },
    {
     "name": "stderr",
     "output_type": "stream",
     "text": [
      "Epoch 27, global step 532: 'val_loss' was not in top 1\n"
     ]
    },
    {
     "name": "stdout",
     "output_type": "stream",
     "text": [
      "Epoch 28: 100%|██████████| 19/19 [00:22<00:00,  0.83it/s, v_num=2.61e+7, train_loss_step=0.114, train_loss_epoch=0.103] \n",
      "Validation: |          | 0/? [00:00<?, ?it/s]\u001b[A\n",
      "Validation:   0%|          | 0/4 [00:00<?, ?it/s]\u001b[A\n",
      "Validation DataLoader 0:   0%|          | 0/4 [00:00<?, ?it/s]\u001b[A\n",
      "Validation DataLoader 0:  25%|██▌       | 1/4 [00:00<00:00,  4.12it/s]\u001b[A\n",
      "Validation DataLoader 0:  50%|█████     | 2/4 [00:00<00:00,  2.80it/s]\u001b[A\n",
      "Validation DataLoader 0:  75%|███████▌  | 3/4 [00:01<00:00,  2.53it/s]\u001b[A\n",
      "Validation DataLoader 0: 100%|██████████| 4/4 [00:01<00:00,  2.42it/s]\u001b[AEpoch 28: Lr: 0.0009976 | Train Loss: 0.1031900 | Vali Loss: 0.2435509\n",
      "\n",
      "Epoch 28: 100%|██████████| 19/19 [00:24<00:00,  0.76it/s, v_num=2.61e+7, train_loss_step=0.114, train_loss_epoch=0.105]"
     ]
    },
    {
     "name": "stderr",
     "output_type": "stream",
     "text": [
      "Epoch 28, global step 551: 'val_loss' reached 0.24355 (best 0.24355), saving model to '/ocean/projects/eng170006p/ussqww/NDD_SimVP/work_dirs/custom_exp/checkpoints/best-epoch=28-val_loss=0.244.ckpt' as top 1\n"
     ]
    },
    {
     "name": "stdout",
     "output_type": "stream",
     "text": [
      "Epoch 29: 100%|██████████| 19/19 [00:22<00:00,  0.83it/s, v_num=2.61e+7, train_loss_step=0.0932, train_loss_epoch=0.105]\n",
      "Validation: |          | 0/? [00:00<?, ?it/s]\u001b[A\n",
      "Validation:   0%|          | 0/4 [00:00<?, ?it/s]\u001b[A\n",
      "Validation DataLoader 0:   0%|          | 0/4 [00:00<?, ?it/s]\u001b[A\n",
      "Validation DataLoader 0:  25%|██▌       | 1/4 [00:00<00:00,  4.12it/s]\u001b[A\n",
      "Validation DataLoader 0:  50%|█████     | 2/4 [00:00<00:00,  2.81it/s]\u001b[A\n",
      "Validation DataLoader 0:  75%|███████▌  | 3/4 [00:01<00:00,  2.54it/s]\u001b[A\n",
      "Validation DataLoader 0: 100%|██████████| 4/4 [00:01<00:00,  2.42it/s]\u001b[AEpoch 29: Lr: 0.0010000 | Train Loss: 0.1052691 | Vali Loss: 0.2697504\n",
      "\n",
      "Epoch 29: 100%|██████████| 19/19 [00:24<00:00,  0.76it/s, v_num=2.61e+7, train_loss_step=0.0932, train_loss_epoch=0.0992]"
     ]
    },
    {
     "name": "stderr",
     "output_type": "stream",
     "text": [
      "Epoch 29, global step 570: 'val_loss' was not in top 1\n"
     ]
    },
    {
     "name": "stdout",
     "output_type": "stream",
     "text": [
      "Epoch 30: 100%|██████████| 19/19 [00:22<00:00,  0.83it/s, v_num=2.61e+7, train_loss_step=0.112, train_loss_epoch=0.0992] \n",
      "Validation: |          | 0/? [00:00<?, ?it/s]\u001b[A\n",
      "Validation:   0%|          | 0/4 [00:00<?, ?it/s]\u001b[A\n",
      "Validation DataLoader 0:   0%|          | 0/4 [00:00<?, ?it/s]\u001b[A\n",
      "Validation DataLoader 0:  25%|██▌       | 1/4 [00:00<00:00,  4.11it/s]\u001b[A\n",
      "Validation DataLoader 0:  50%|█████     | 2/4 [00:00<00:00,  2.81it/s]\u001b[A\n",
      "Validation DataLoader 0:  75%|███████▌  | 3/4 [00:01<00:00,  2.53it/s]\u001b[A\n",
      "Validation DataLoader 0: 100%|██████████| 4/4 [00:01<00:00,  2.41it/s]\u001b[AEpoch 30: Lr: 0.0009994 | Train Loss: 0.0991554 | Vali Loss: 0.2311233\n",
      "\n",
      "Epoch 30: 100%|██████████| 19/19 [00:24<00:00,  0.76it/s, v_num=2.61e+7, train_loss_step=0.112, train_loss_epoch=0.0887]"
     ]
    },
    {
     "name": "stderr",
     "output_type": "stream",
     "text": [
      "Epoch 30, global step 589: 'val_loss' reached 0.23112 (best 0.23112), saving model to '/ocean/projects/eng170006p/ussqww/NDD_SimVP/work_dirs/custom_exp/checkpoints/best-epoch=30-val_loss=0.231.ckpt' as top 1\n"
     ]
    },
    {
     "name": "stdout",
     "output_type": "stream",
     "text": [
      "Epoch 31: 100%|██████████| 19/19 [00:22<00:00,  0.83it/s, v_num=2.61e+7, train_loss_step=0.0933, train_loss_epoch=0.0887]\n",
      "Validation: |          | 0/? [00:00<?, ?it/s]\u001b[A\n",
      "Validation:   0%|          | 0/4 [00:00<?, ?it/s]\u001b[A\n",
      "Validation DataLoader 0:   0%|          | 0/4 [00:00<?, ?it/s]\u001b[A\n",
      "Validation DataLoader 0:  25%|██▌       | 1/4 [00:00<00:00,  4.12it/s]\u001b[A\n",
      "Validation DataLoader 0:  50%|█████     | 2/4 [00:00<00:00,  2.82it/s]\u001b[A\n",
      "Validation DataLoader 0:  75%|███████▌  | 3/4 [00:01<00:00,  2.53it/s]\u001b[A\n",
      "Validation DataLoader 0: 100%|██████████| 4/4 [00:01<00:00,  2.42it/s]\u001b[AEpoch 31: Lr: 0.0009979 | Train Loss: 0.0887420 | Vali Loss: 0.2163625\n",
      "\n",
      "Epoch 31: 100%|██████████| 19/19 [00:24<00:00,  0.76it/s, v_num=2.61e+7, train_loss_step=0.0933, train_loss_epoch=0.0748]"
     ]
    },
    {
     "name": "stderr",
     "output_type": "stream",
     "text": [
      "Epoch 31, global step 608: 'val_loss' reached 0.21636 (best 0.21636), saving model to '/ocean/projects/eng170006p/ussqww/NDD_SimVP/work_dirs/custom_exp/checkpoints/best-epoch=31-val_loss=0.216.ckpt' as top 1\n"
     ]
    },
    {
     "name": "stdout",
     "output_type": "stream",
     "text": [
      "Epoch 32: 100%|██████████| 19/19 [00:22<00:00,  0.83it/s, v_num=2.61e+7, train_loss_step=0.105, train_loss_epoch=0.0748] \n",
      "Validation: |          | 0/? [00:00<?, ?it/s]\u001b[A\n",
      "Validation:   0%|          | 0/4 [00:00<?, ?it/s]\u001b[A\n",
      "Validation DataLoader 0:   0%|          | 0/4 [00:00<?, ?it/s]\u001b[A\n",
      "Validation DataLoader 0:  25%|██▌       | 1/4 [00:00<00:00,  4.13it/s]\u001b[A\n",
      "Validation DataLoader 0:  50%|█████     | 2/4 [00:00<00:00,  2.82it/s]\u001b[A\n",
      "Validation DataLoader 0:  75%|███████▌  | 3/4 [00:01<00:00,  2.55it/s]\u001b[A\n",
      "Validation DataLoader 0: 100%|██████████| 4/4 [00:01<00:00,  2.43it/s]\u001b[AEpoch 32: Lr: 0.0009953 | Train Loss: 0.0748107 | Vali Loss: 0.2300253\n",
      "\n",
      "Epoch 32: 100%|██████████| 19/19 [00:24<00:00,  0.76it/s, v_num=2.61e+7, train_loss_step=0.105, train_loss_epoch=0.0717]"
     ]
    },
    {
     "name": "stderr",
     "output_type": "stream",
     "text": [
      "Epoch 32, global step 627: 'val_loss' was not in top 1\n"
     ]
    },
    {
     "name": "stdout",
     "output_type": "stream",
     "text": [
      "Epoch 33: 100%|██████████| 19/19 [00:22<00:00,  0.83it/s, v_num=2.61e+7, train_loss_step=0.0866, train_loss_epoch=0.0717]\n",
      "Validation: |          | 0/? [00:00<?, ?it/s]\u001b[A\n",
      "Validation:   0%|          | 0/4 [00:00<?, ?it/s]\u001b[A\n",
      "Validation DataLoader 0:   0%|          | 0/4 [00:00<?, ?it/s]\u001b[A\n",
      "Validation DataLoader 0:  25%|██▌       | 1/4 [00:00<00:00,  4.10it/s]\u001b[A\n",
      "Validation DataLoader 0:  50%|█████     | 2/4 [00:00<00:00,  2.81it/s]\u001b[A\n",
      "Validation DataLoader 0:  75%|███████▌  | 3/4 [00:01<00:00,  2.55it/s]\u001b[A\n",
      "Validation DataLoader 0: 100%|██████████| 4/4 [00:01<00:00,  2.43it/s]\u001b[AEpoch 33: Lr: 0.0009918 | Train Loss: 0.0717439 | Vali Loss: 0.2330469\n",
      "\n",
      "Epoch 33: 100%|██████████| 19/19 [00:24<00:00,  0.76it/s, v_num=2.61e+7, train_loss_step=0.0866, train_loss_epoch=0.074] "
     ]
    },
    {
     "name": "stderr",
     "output_type": "stream",
     "text": [
      "Epoch 33, global step 646: 'val_loss' was not in top 1\n"
     ]
    },
    {
     "name": "stdout",
     "output_type": "stream",
     "text": [
      "Epoch 34: 100%|██████████| 19/19 [00:22<00:00,  0.83it/s, v_num=2.61e+7, train_loss_step=0.0548, train_loss_epoch=0.074]\n",
      "Validation: |          | 0/? [00:00<?, ?it/s]\u001b[A\n",
      "Validation:   0%|          | 0/4 [00:00<?, ?it/s]\u001b[A\n",
      "Validation DataLoader 0:   0%|          | 0/4 [00:00<?, ?it/s]\u001b[A\n",
      "Validation DataLoader 0:  25%|██▌       | 1/4 [00:00<00:00,  4.10it/s]\u001b[A\n",
      "Validation DataLoader 0:  50%|█████     | 2/4 [00:00<00:00,  2.80it/s]\u001b[A\n",
      "Validation DataLoader 0:  75%|███████▌  | 3/4 [00:01<00:00,  2.53it/s]\u001b[A\n",
      "Validation DataLoader 0: 100%|██████████| 4/4 [00:01<00:00,  2.41it/s]\u001b[AEpoch 34: Lr: 0.0009872 | Train Loss: 0.0740099 | Vali Loss: 0.2417423\n",
      "\n",
      "Epoch 34: 100%|██████████| 19/19 [00:24<00:00,  0.76it/s, v_num=2.61e+7, train_loss_step=0.0548, train_loss_epoch=0.078]"
     ]
    },
    {
     "name": "stderr",
     "output_type": "stream",
     "text": [
      "Epoch 34, global step 665: 'val_loss' was not in top 1\n"
     ]
    },
    {
     "name": "stdout",
     "output_type": "stream",
     "text": [
      "Epoch 35: 100%|██████████| 19/19 [00:22<00:00,  0.83it/s, v_num=2.61e+7, train_loss_step=0.0588, train_loss_epoch=0.078]\n",
      "Validation: |          | 0/? [00:00<?, ?it/s]\u001b[A\n",
      "Validation:   0%|          | 0/4 [00:00<?, ?it/s]\u001b[A\n",
      "Validation DataLoader 0:   0%|          | 0/4 [00:00<?, ?it/s]\u001b[A\n",
      "Validation DataLoader 0:  25%|██▌       | 1/4 [00:00<00:00,  4.12it/s]\u001b[A\n",
      "Validation DataLoader 0:  50%|█████     | 2/4 [00:00<00:00,  2.79it/s]\u001b[A\n",
      "Validation DataLoader 0:  75%|███████▌  | 3/4 [00:01<00:00,  2.51it/s]\u001b[A\n",
      "Validation DataLoader 0: 100%|██████████| 4/4 [00:01<00:00,  2.39it/s]\u001b[AEpoch 35: Lr: 0.0009817 | Train Loss: 0.0780245 | Vali Loss: 0.2204422\n",
      "\n",
      "Epoch 35: 100%|██████████| 19/19 [00:24<00:00,  0.76it/s, v_num=2.61e+7, train_loss_step=0.0588, train_loss_epoch=0.0679]"
     ]
    },
    {
     "name": "stderr",
     "output_type": "stream",
     "text": [
      "Epoch 35, global step 684: 'val_loss' was not in top 1\n"
     ]
    },
    {
     "name": "stdout",
     "output_type": "stream",
     "text": [
      "Epoch 36: 100%|██████████| 19/19 [00:22<00:00,  0.83it/s, v_num=2.61e+7, train_loss_step=0.0447, train_loss_epoch=0.0679]\n",
      "Validation: |          | 0/? [00:00<?, ?it/s]\u001b[A\n",
      "Validation:   0%|          | 0/4 [00:00<?, ?it/s]\u001b[A\n",
      "Validation DataLoader 0:   0%|          | 0/4 [00:00<?, ?it/s]\u001b[A\n",
      "Validation DataLoader 0:  25%|██▌       | 1/4 [00:00<00:00,  4.12it/s]\u001b[A\n",
      "Validation DataLoader 0:  50%|█████     | 2/4 [00:00<00:00,  2.82it/s]\u001b[A\n",
      "Validation DataLoader 0:  75%|███████▌  | 3/4 [00:01<00:00,  2.55it/s]\u001b[A\n",
      "Validation DataLoader 0: 100%|██████████| 4/4 [00:01<00:00,  2.43it/s]\u001b[AEpoch 36: Lr: 0.0009752 | Train Loss: 0.0678906 | Vali Loss: 0.2180625\n",
      "\n",
      "Epoch 36: 100%|██████████| 19/19 [00:24<00:00,  0.76it/s, v_num=2.61e+7, train_loss_step=0.0447, train_loss_epoch=0.0608]"
     ]
    },
    {
     "name": "stderr",
     "output_type": "stream",
     "text": [
      "Epoch 36, global step 703: 'val_loss' was not in top 1\n"
     ]
    },
    {
     "name": "stdout",
     "output_type": "stream",
     "text": [
      "Epoch 37: 100%|██████████| 19/19 [00:22<00:00,  0.83it/s, v_num=2.61e+7, train_loss_step=0.0579, train_loss_epoch=0.0608]\n",
      "Validation: |          | 0/? [00:00<?, ?it/s]\u001b[A\n",
      "Validation:   0%|          | 0/4 [00:00<?, ?it/s]\u001b[A\n",
      "Validation DataLoader 0:   0%|          | 0/4 [00:00<?, ?it/s]\u001b[A\n",
      "Validation DataLoader 0:  25%|██▌       | 1/4 [00:00<00:00,  4.12it/s]\u001b[A\n",
      "Validation DataLoader 0:  50%|█████     | 2/4 [00:00<00:00,  2.81it/s]\u001b[A\n",
      "Validation DataLoader 0:  75%|███████▌  | 3/4 [00:01<00:00,  2.54it/s]\u001b[A\n",
      "Validation DataLoader 0: 100%|██████████| 4/4 [00:01<00:00,  2.42it/s]\u001b[AEpoch 37: Lr: 0.0009677 | Train Loss: 0.0607855 | Vali Loss: 0.2116626\n",
      "\n",
      "Epoch 37: 100%|██████████| 19/19 [00:24<00:00,  0.76it/s, v_num=2.61e+7, train_loss_step=0.0579, train_loss_epoch=0.0544]"
     ]
    },
    {
     "name": "stderr",
     "output_type": "stream",
     "text": [
      "Epoch 37, global step 722: 'val_loss' reached 0.21166 (best 0.21166), saving model to '/ocean/projects/eng170006p/ussqww/NDD_SimVP/work_dirs/custom_exp/checkpoints/best-epoch=37-val_loss=0.212.ckpt' as top 1\n"
     ]
    },
    {
     "name": "stdout",
     "output_type": "stream",
     "text": [
      "Epoch 38: 100%|██████████| 19/19 [00:22<00:00,  0.83it/s, v_num=2.61e+7, train_loss_step=0.104, train_loss_epoch=0.0544] \n",
      "Validation: |          | 0/? [00:00<?, ?it/s]\u001b[A\n",
      "Validation:   0%|          | 0/4 [00:00<?, ?it/s]\u001b[A\n",
      "Validation DataLoader 0:   0%|          | 0/4 [00:00<?, ?it/s]\u001b[A\n",
      "Validation DataLoader 0:  25%|██▌       | 1/4 [00:00<00:00,  4.11it/s]\u001b[A\n",
      "Validation DataLoader 0:  50%|█████     | 2/4 [00:00<00:00,  2.81it/s]\u001b[A\n",
      "Validation DataLoader 0:  75%|███████▌  | 3/4 [00:01<00:00,  2.54it/s]\u001b[A\n",
      "Validation DataLoader 0: 100%|██████████| 4/4 [00:01<00:00,  2.42it/s]\u001b[AEpoch 38: Lr: 0.0009593 | Train Loss: 0.0543537 | Vali Loss: 0.2258472\n",
      "\n",
      "Epoch 38: 100%|██████████| 19/19 [00:24<00:00,  0.76it/s, v_num=2.61e+7, train_loss_step=0.104, train_loss_epoch=0.0576]"
     ]
    },
    {
     "name": "stderr",
     "output_type": "stream",
     "text": [
      "Epoch 38, global step 741: 'val_loss' was not in top 1\n"
     ]
    },
    {
     "name": "stdout",
     "output_type": "stream",
     "text": [
      "Epoch 39: 100%|██████████| 19/19 [00:22<00:00,  0.83it/s, v_num=2.61e+7, train_loss_step=0.0547, train_loss_epoch=0.0576]\n",
      "Validation: |          | 0/? [00:00<?, ?it/s]\u001b[A\n",
      "Validation:   0%|          | 0/4 [00:00<?, ?it/s]\u001b[A\n",
      "Validation DataLoader 0:   0%|          | 0/4 [00:00<?, ?it/s]\u001b[A\n",
      "Validation DataLoader 0:  25%|██▌       | 1/4 [00:00<00:00,  4.12it/s]\u001b[A\n",
      "Validation DataLoader 0:  50%|█████     | 2/4 [00:00<00:00,  2.80it/s]\u001b[A\n",
      "Validation DataLoader 0:  75%|███████▌  | 3/4 [00:01<00:00,  2.53it/s]\u001b[A\n",
      "Validation DataLoader 0: 100%|██████████| 4/4 [00:01<00:00,  2.41it/s]\u001b[AEpoch 39: Lr: 0.0009500 | Train Loss: 0.0576095 | Vali Loss: 0.2368207\n",
      "\n",
      "Epoch 39: 100%|██████████| 19/19 [00:25<00:00,  0.76it/s, v_num=2.61e+7, train_loss_step=0.0547, train_loss_epoch=0.0609]"
     ]
    },
    {
     "name": "stderr",
     "output_type": "stream",
     "text": [
      "Epoch 39, global step 760: 'val_loss' was not in top 1\n"
     ]
    },
    {
     "name": "stdout",
     "output_type": "stream",
     "text": [
      "Epoch 40: 100%|██████████| 19/19 [00:22<00:00,  0.83it/s, v_num=2.61e+7, train_loss_step=0.0411, train_loss_epoch=0.0609]\n",
      "Validation: |          | 0/? [00:00<?, ?it/s]\u001b[A\n",
      "Validation:   0%|          | 0/4 [00:00<?, ?it/s]\u001b[A\n",
      "Validation DataLoader 0:   0%|          | 0/4 [00:00<?, ?it/s]\u001b[A\n",
      "Validation DataLoader 0:  25%|██▌       | 1/4 [00:00<00:00,  4.12it/s]\u001b[A\n",
      "Validation DataLoader 0:  50%|█████     | 2/4 [00:00<00:00,  2.58it/s]\u001b[A\n",
      "Validation DataLoader 0:  75%|███████▌  | 3/4 [00:01<00:00,  2.41it/s]\u001b[A\n",
      "Validation DataLoader 0: 100%|██████████| 4/4 [00:01<00:00,  2.33it/s]\u001b[AEpoch 40: Lr: 0.0009397 | Train Loss: 0.0608741 | Vali Loss: 0.2197852\n",
      "\n",
      "Epoch 40: 100%|██████████| 19/19 [00:24<00:00,  0.76it/s, v_num=2.61e+7, train_loss_step=0.0411, train_loss_epoch=0.0585]"
     ]
    },
    {
     "name": "stderr",
     "output_type": "stream",
     "text": [
      "Epoch 40, global step 779: 'val_loss' was not in top 1\n"
     ]
    },
    {
     "name": "stdout",
     "output_type": "stream",
     "text": [
      "Epoch 41: 100%|██████████| 19/19 [00:22<00:00,  0.83it/s, v_num=2.61e+7, train_loss_step=0.0381, train_loss_epoch=0.0585]\n",
      "Validation: |          | 0/? [00:00<?, ?it/s]\u001b[A\n",
      "Validation:   0%|          | 0/4 [00:00<?, ?it/s]\u001b[A\n",
      "Validation DataLoader 0:   0%|          | 0/4 [00:00<?, ?it/s]\u001b[A\n",
      "Validation DataLoader 0:  25%|██▌       | 1/4 [00:00<00:00,  4.11it/s]\u001b[A\n",
      "Validation DataLoader 0:  50%|█████     | 2/4 [00:00<00:00,  2.79it/s]\u001b[A\n",
      "Validation DataLoader 0:  75%|███████▌  | 3/4 [00:01<00:00,  2.54it/s]\u001b[A\n",
      "Validation DataLoader 0: 100%|██████████| 4/4 [00:01<00:00,  2.41it/s]\u001b[AEpoch 41: Lr: 0.0009286 | Train Loss: 0.0584539 | Vali Loss: 0.2136893\n",
      "\n",
      "Epoch 41: 100%|██████████| 19/19 [00:24<00:00,  0.76it/s, v_num=2.61e+7, train_loss_step=0.0381, train_loss_epoch=0.0537]"
     ]
    },
    {
     "name": "stderr",
     "output_type": "stream",
     "text": [
      "Epoch 41, global step 798: 'val_loss' was not in top 1\n"
     ]
    },
    {
     "name": "stdout",
     "output_type": "stream",
     "text": [
      "Epoch 42: 100%|██████████| 19/19 [00:22<00:00,  0.84it/s, v_num=2.61e+7, train_loss_step=0.055, train_loss_epoch=0.0537] \n",
      "Validation: |          | 0/? [00:00<?, ?it/s]\u001b[A\n",
      "Validation:   0%|          | 0/4 [00:00<?, ?it/s]\u001b[A\n",
      "Validation DataLoader 0:   0%|          | 0/4 [00:00<?, ?it/s]\u001b[A\n",
      "Validation DataLoader 0:  25%|██▌       | 1/4 [00:00<00:00,  4.12it/s]\u001b[A\n",
      "Validation DataLoader 0:  50%|█████     | 2/4 [00:00<00:00,  2.82it/s]\u001b[A\n",
      "Validation DataLoader 0:  75%|███████▌  | 3/4 [00:01<00:00,  2.55it/s]\u001b[A\n",
      "Validation DataLoader 0: 100%|██████████| 4/4 [00:01<00:00,  2.42it/s]\u001b[AEpoch 42: Lr: 0.0009166 | Train Loss: 0.0536876 | Vali Loss: 0.2126045\n",
      "\n",
      "Epoch 42: 100%|██████████| 19/19 [00:24<00:00,  0.76it/s, v_num=2.61e+7, train_loss_step=0.055, train_loss_epoch=0.0476]"
     ]
    },
    {
     "name": "stderr",
     "output_type": "stream",
     "text": [
      "Epoch 42, global step 817: 'val_loss' was not in top 1\n"
     ]
    },
    {
     "name": "stdout",
     "output_type": "stream",
     "text": [
      "Epoch 43: 100%|██████████| 19/19 [00:22<00:00,  0.83it/s, v_num=2.61e+7, train_loss_step=0.048, train_loss_epoch=0.0476] \n",
      "Validation: |          | 0/? [00:00<?, ?it/s]\u001b[A\n",
      "Validation:   0%|          | 0/4 [00:00<?, ?it/s]\u001b[A\n",
      "Validation DataLoader 0:   0%|          | 0/4 [00:00<?, ?it/s]\u001b[A\n",
      "Validation DataLoader 0:  25%|██▌       | 1/4 [00:00<00:00,  4.12it/s]\u001b[A\n",
      "Validation DataLoader 0:  50%|█████     | 2/4 [00:00<00:00,  2.78it/s]\u001b[A\n",
      "Validation DataLoader 0:  75%|███████▌  | 3/4 [00:01<00:00,  2.52it/s]\u001b[A\n",
      "Validation DataLoader 0: 100%|██████████| 4/4 [00:01<00:00,  2.41it/s]\u001b[AEpoch 43: Lr: 0.0009038 | Train Loss: 0.0475759 | Vali Loss: 0.2117544\n",
      "\n",
      "Epoch 43: 100%|██████████| 19/19 [00:24<00:00,  0.76it/s, v_num=2.61e+7, train_loss_step=0.048, train_loss_epoch=0.0478]"
     ]
    },
    {
     "name": "stderr",
     "output_type": "stream",
     "text": [
      "Epoch 43, global step 836: 'val_loss' was not in top 1\n"
     ]
    },
    {
     "name": "stdout",
     "output_type": "stream",
     "text": [
      "Epoch 44: 100%|██████████| 19/19 [00:22<00:00,  0.83it/s, v_num=2.61e+7, train_loss_step=0.0457, train_loss_epoch=0.0478]\n",
      "Validation: |          | 0/? [00:00<?, ?it/s]\u001b[A\n",
      "Validation:   0%|          | 0/4 [00:00<?, ?it/s]\u001b[A\n",
      "Validation DataLoader 0:   0%|          | 0/4 [00:00<?, ?it/s]\u001b[A\n",
      "Validation DataLoader 0:  25%|██▌       | 1/4 [00:00<00:00,  4.09it/s]\u001b[A\n",
      "Validation DataLoader 0:  50%|█████     | 2/4 [00:00<00:00,  2.79it/s]\u001b[A\n",
      "Validation DataLoader 0:  75%|███████▌  | 3/4 [00:01<00:00,  2.52it/s]\u001b[A\n",
      "Validation DataLoader 0: 100%|██████████| 4/4 [00:01<00:00,  2.41it/s]\u001b[AEpoch 44: Lr: 0.0008902 | Train Loss: 0.0478091 | Vali Loss: 0.2102698\n",
      "\n",
      "Epoch 44: 100%|██████████| 19/19 [00:24<00:00,  0.76it/s, v_num=2.61e+7, train_loss_step=0.0457, train_loss_epoch=0.0418]"
     ]
    },
    {
     "name": "stderr",
     "output_type": "stream",
     "text": [
      "Epoch 44, global step 855: 'val_loss' reached 0.21027 (best 0.21027), saving model to '/ocean/projects/eng170006p/ussqww/NDD_SimVP/work_dirs/custom_exp/checkpoints/best-epoch=44-val_loss=0.210.ckpt' as top 1\n"
     ]
    },
    {
     "name": "stdout",
     "output_type": "stream",
     "text": [
      "Epoch 45: 100%|██████████| 19/19 [00:22<00:00,  0.83it/s, v_num=2.61e+7, train_loss_step=0.0396, train_loss_epoch=0.0418]\n",
      "Validation: |          | 0/? [00:00<?, ?it/s]\u001b[A\n",
      "Validation:   0%|          | 0/4 [00:00<?, ?it/s]\u001b[A\n",
      "Validation DataLoader 0:   0%|          | 0/4 [00:00<?, ?it/s]\u001b[A\n",
      "Validation DataLoader 0:  25%|██▌       | 1/4 [00:00<00:00,  4.11it/s]\u001b[A\n",
      "Validation DataLoader 0:  50%|█████     | 2/4 [00:00<00:00,  2.77it/s]\u001b[A\n",
      "Validation DataLoader 0:  75%|███████▌  | 3/4 [00:01<00:00,  2.52it/s]\u001b[A\n",
      "Validation DataLoader 0: 100%|██████████| 4/4 [00:01<00:00,  2.41it/s]\u001b[AEpoch 45: Lr: 0.0008758 | Train Loss: 0.0418006 | Vali Loss: 0.2078836\n",
      "\n",
      "Epoch 45: 100%|██████████| 19/19 [00:24<00:00,  0.76it/s, v_num=2.61e+7, train_loss_step=0.0396, train_loss_epoch=0.0393]"
     ]
    },
    {
     "name": "stderr",
     "output_type": "stream",
     "text": [
      "Epoch 45, global step 874: 'val_loss' reached 0.20788 (best 0.20788), saving model to '/ocean/projects/eng170006p/ussqww/NDD_SimVP/work_dirs/custom_exp/checkpoints/best-epoch=45-val_loss=0.208.ckpt' as top 1\n"
     ]
    },
    {
     "name": "stdout",
     "output_type": "stream",
     "text": [
      "Epoch 46: 100%|██████████| 19/19 [00:22<00:00,  0.83it/s, v_num=2.61e+7, train_loss_step=0.0337, train_loss_epoch=0.0393]\n",
      "Validation: |          | 0/? [00:00<?, ?it/s]\u001b[A\n",
      "Validation:   0%|          | 0/4 [00:00<?, ?it/s]\u001b[A\n",
      "Validation DataLoader 0:   0%|          | 0/4 [00:00<?, ?it/s]\u001b[A\n",
      "Validation DataLoader 0:  25%|██▌       | 1/4 [00:00<00:00,  4.09it/s]\u001b[A\n",
      "Validation DataLoader 0:  50%|█████     | 2/4 [00:00<00:00,  2.78it/s]\u001b[A\n",
      "Validation DataLoader 0:  75%|███████▌  | 3/4 [00:01<00:00,  2.53it/s]\u001b[A\n",
      "Validation DataLoader 0: 100%|██████████| 4/4 [00:01<00:00,  2.41it/s]\u001b[AEpoch 46: Lr: 0.0008606 | Train Loss: 0.0392943 | Vali Loss: 0.2139818\n",
      "\n",
      "Epoch 46: 100%|██████████| 19/19 [00:25<00:00,  0.76it/s, v_num=2.61e+7, train_loss_step=0.0337, train_loss_epoch=0.0369]"
     ]
    },
    {
     "name": "stderr",
     "output_type": "stream",
     "text": [
      "Epoch 46, global step 893: 'val_loss' was not in top 1\n"
     ]
    },
    {
     "name": "stdout",
     "output_type": "stream",
     "text": [
      "Epoch 47: 100%|██████████| 19/19 [00:22<00:00,  0.83it/s, v_num=2.61e+7, train_loss_step=0.0505, train_loss_epoch=0.0369]\n",
      "Validation: |          | 0/? [00:00<?, ?it/s]\u001b[A\n",
      "Validation:   0%|          | 0/4 [00:00<?, ?it/s]\u001b[A\n",
      "Validation DataLoader 0:   0%|          | 0/4 [00:00<?, ?it/s]\u001b[A\n",
      "Validation DataLoader 0:  25%|██▌       | 1/4 [00:00<00:00,  4.10it/s]\u001b[A\n",
      "Validation DataLoader 0:  50%|█████     | 2/4 [00:00<00:00,  2.81it/s]\u001b[A\n",
      "Validation DataLoader 0:  75%|███████▌  | 3/4 [00:01<00:00,  2.53it/s]\u001b[A\n",
      "Validation DataLoader 0: 100%|██████████| 4/4 [00:01<00:00,  2.42it/s]\u001b[AEpoch 47: Lr: 0.0008447 | Train Loss: 0.0368965 | Vali Loss: 0.2138990\n",
      "\n",
      "Epoch 47: 100%|██████████| 19/19 [00:24<00:00,  0.76it/s, v_num=2.61e+7, train_loss_step=0.0505, train_loss_epoch=0.0352]"
     ]
    },
    {
     "name": "stderr",
     "output_type": "stream",
     "text": [
      "Epoch 47, global step 912: 'val_loss' was not in top 1\n"
     ]
    },
    {
     "name": "stdout",
     "output_type": "stream",
     "text": [
      "Epoch 48: 100%|██████████| 19/19 [00:22<00:00,  0.83it/s, v_num=2.61e+7, train_loss_step=0.0259, train_loss_epoch=0.0352]\n",
      "Validation: |          | 0/? [00:00<?, ?it/s]\u001b[A\n",
      "Validation:   0%|          | 0/4 [00:00<?, ?it/s]\u001b[A\n",
      "Validation DataLoader 0:   0%|          | 0/4 [00:00<?, ?it/s]\u001b[A\n",
      "Validation DataLoader 0:  25%|██▌       | 1/4 [00:00<00:00,  4.10it/s]\u001b[A\n",
      "Validation DataLoader 0:  50%|█████     | 2/4 [00:00<00:00,  2.78it/s]\u001b[A\n",
      "Validation DataLoader 0:  75%|███████▌  | 3/4 [00:01<00:00,  2.53it/s]\u001b[A\n",
      "Validation DataLoader 0: 100%|██████████| 4/4 [00:01<00:00,  2.41it/s]\u001b[AEpoch 48: Lr: 0.0008281 | Train Loss: 0.0351832 | Vali Loss: 0.2092551\n",
      "\n",
      "Epoch 48: 100%|██████████| 19/19 [00:24<00:00,  0.76it/s, v_num=2.61e+7, train_loss_step=0.0259, train_loss_epoch=0.0395]"
     ]
    },
    {
     "name": "stderr",
     "output_type": "stream",
     "text": [
      "Epoch 48, global step 931: 'val_loss' was not in top 1\n"
     ]
    },
    {
     "name": "stdout",
     "output_type": "stream",
     "text": [
      "Epoch 49: 100%|██████████| 19/19 [00:22<00:00,  0.83it/s, v_num=2.61e+7, train_loss_step=0.0276, train_loss_epoch=0.0395]\n",
      "Validation: |          | 0/? [00:00<?, ?it/s]\u001b[A\n",
      "Validation:   0%|          | 0/4 [00:00<?, ?it/s]\u001b[A\n",
      "Validation DataLoader 0:   0%|          | 0/4 [00:00<?, ?it/s]\u001b[A\n",
      "Validation DataLoader 0:  25%|██▌       | 1/4 [00:00<00:00,  4.10it/s]\u001b[A\n",
      "Validation DataLoader 0:  50%|█████     | 2/4 [00:00<00:00,  2.82it/s]\u001b[A\n",
      "Validation DataLoader 0:  75%|███████▌  | 3/4 [00:01<00:00,  2.54it/s]\u001b[A\n",
      "Validation DataLoader 0: 100%|██████████| 4/4 [00:01<00:00,  2.41it/s]\u001b[AEpoch 49: Lr: 0.0008108 | Train Loss: 0.0395463 | Vali Loss: 0.2111685\n",
      "\n",
      "Epoch 49: 100%|██████████| 19/19 [00:24<00:00,  0.76it/s, v_num=2.61e+7, train_loss_step=0.0276, train_loss_epoch=0.0383]"
     ]
    },
    {
     "name": "stderr",
     "output_type": "stream",
     "text": [
      "Epoch 49, global step 950: 'val_loss' was not in top 1\n"
     ]
    },
    {
     "name": "stdout",
     "output_type": "stream",
     "text": [
      "Epoch 50: 100%|██████████| 19/19 [00:22<00:00,  0.83it/s, v_num=2.61e+7, train_loss_step=0.0318, train_loss_epoch=0.0383]\n",
      "Validation: |          | 0/? [00:00<?, ?it/s]\u001b[A\n",
      "Validation:   0%|          | 0/4 [00:00<?, ?it/s]\u001b[A\n",
      "Validation DataLoader 0:   0%|          | 0/4 [00:00<?, ?it/s]\u001b[A\n",
      "Validation DataLoader 0:  25%|██▌       | 1/4 [00:00<00:00,  4.12it/s]\u001b[A\n",
      "Validation DataLoader 0:  50%|█████     | 2/4 [00:00<00:00,  2.81it/s]\u001b[A\n",
      "Validation DataLoader 0:  75%|███████▌  | 3/4 [00:01<00:00,  2.53it/s]\u001b[A\n",
      "Validation DataLoader 0: 100%|██████████| 4/4 [00:01<00:00,  2.42it/s]\u001b[AEpoch 50: Lr: 0.0007929 | Train Loss: 0.0382757 | Vali Loss: 0.2060537\n",
      "\n",
      "Epoch 50: 100%|██████████| 19/19 [00:24<00:00,  0.76it/s, v_num=2.61e+7, train_loss_step=0.0318, train_loss_epoch=0.0353]"
     ]
    },
    {
     "name": "stderr",
     "output_type": "stream",
     "text": [
      "Epoch 50, global step 969: 'val_loss' reached 0.20605 (best 0.20605), saving model to '/ocean/projects/eng170006p/ussqww/NDD_SimVP/work_dirs/custom_exp/checkpoints/best-epoch=50-val_loss=0.206.ckpt' as top 1\n"
     ]
    },
    {
     "name": "stdout",
     "output_type": "stream",
     "text": [
      "Epoch 51: 100%|██████████| 19/19 [00:22<00:00,  0.83it/s, v_num=2.61e+7, train_loss_step=0.0346, train_loss_epoch=0.0353]\n",
      "Validation: |          | 0/? [00:00<?, ?it/s]\u001b[A\n",
      "Validation:   0%|          | 0/4 [00:00<?, ?it/s]\u001b[A\n",
      "Validation DataLoader 0:   0%|          | 0/4 [00:00<?, ?it/s]\u001b[A\n",
      "Validation DataLoader 0:  25%|██▌       | 1/4 [00:00<00:00,  4.13it/s]\u001b[A\n",
      "Validation DataLoader 0:  50%|█████     | 2/4 [00:00<00:00,  2.80it/s]\u001b[A\n",
      "Validation DataLoader 0:  75%|███████▌  | 3/4 [00:01<00:00,  2.53it/s]\u001b[A\n",
      "Validation DataLoader 0: 100%|██████████| 4/4 [00:01<00:00,  2.41it/s]\u001b[AEpoch 51: Lr: 0.0007745 | Train Loss: 0.0352782 | Vali Loss: 0.2080644\n",
      "\n",
      "Epoch 51: 100%|██████████| 19/19 [00:24<00:00,  0.76it/s, v_num=2.61e+7, train_loss_step=0.0346, train_loss_epoch=0.0326]"
     ]
    },
    {
     "name": "stderr",
     "output_type": "stream",
     "text": [
      "Epoch 51, global step 988: 'val_loss' was not in top 1\n"
     ]
    },
    {
     "name": "stdout",
     "output_type": "stream",
     "text": [
      "Epoch 52: 100%|██████████| 19/19 [00:22<00:00,  0.83it/s, v_num=2.61e+7, train_loss_step=0.0226, train_loss_epoch=0.0326]\n",
      "Validation: |          | 0/? [00:00<?, ?it/s]\u001b[A\n",
      "Validation:   0%|          | 0/4 [00:00<?, ?it/s]\u001b[A\n",
      "Validation DataLoader 0:   0%|          | 0/4 [00:00<?, ?it/s]\u001b[A\n",
      "Validation DataLoader 0:  25%|██▌       | 1/4 [00:00<00:00,  4.12it/s]\u001b[A\n",
      "Validation DataLoader 0:  50%|█████     | 2/4 [00:00<00:00,  2.80it/s]\u001b[A\n",
      "Validation DataLoader 0:  75%|███████▌  | 3/4 [00:01<00:00,  2.52it/s]\u001b[A\n",
      "Validation DataLoader 0: 100%|██████████| 4/4 [00:01<00:00,  2.41it/s]\u001b[AEpoch 52: Lr: 0.0007554 | Train Loss: 0.0325792 | Vali Loss: 0.2057938\n",
      "\n",
      "Epoch 52: 100%|██████████| 19/19 [00:24<00:00,  0.76it/s, v_num=2.61e+7, train_loss_step=0.0226, train_loss_epoch=0.0315]"
     ]
    },
    {
     "name": "stderr",
     "output_type": "stream",
     "text": [
      "Epoch 52, global step 1007: 'val_loss' reached 0.20579 (best 0.20579), saving model to '/ocean/projects/eng170006p/ussqww/NDD_SimVP/work_dirs/custom_exp/checkpoints/best-epoch=52-val_loss=0.206.ckpt' as top 1\n"
     ]
    },
    {
     "name": "stdout",
     "output_type": "stream",
     "text": [
      "Epoch 53: 100%|██████████| 19/19 [00:22<00:00,  0.83it/s, v_num=2.61e+7, train_loss_step=0.0347, train_loss_epoch=0.0315]\n",
      "Validation: |          | 0/? [00:00<?, ?it/s]\u001b[A\n",
      "Validation:   0%|          | 0/4 [00:00<?, ?it/s]\u001b[A\n",
      "Validation DataLoader 0:   0%|          | 0/4 [00:00<?, ?it/s]\u001b[A\n",
      "Validation DataLoader 0:  25%|██▌       | 1/4 [00:00<00:00,  4.12it/s]\u001b[A\n",
      "Validation DataLoader 0:  50%|█████     | 2/4 [00:00<00:00,  2.79it/s]\u001b[A\n",
      "Validation DataLoader 0:  75%|███████▌  | 3/4 [00:01<00:00,  2.53it/s]\u001b[A\n",
      "Validation DataLoader 0: 100%|██████████| 4/4 [00:01<00:00,  2.41it/s]\u001b[AEpoch 53: Lr: 0.0007359 | Train Loss: 0.0315184 | Vali Loss: 0.2050500\n",
      "\n",
      "Epoch 53: 100%|██████████| 19/19 [00:24<00:00,  0.76it/s, v_num=2.61e+7, train_loss_step=0.0347, train_loss_epoch=0.0323]"
     ]
    },
    {
     "name": "stderr",
     "output_type": "stream",
     "text": [
      "Epoch 53, global step 1026: 'val_loss' reached 0.20505 (best 0.20505), saving model to '/ocean/projects/eng170006p/ussqww/NDD_SimVP/work_dirs/custom_exp/checkpoints/best-epoch=53-val_loss=0.205.ckpt' as top 1\n"
     ]
    },
    {
     "name": "stdout",
     "output_type": "stream",
     "text": [
      "Epoch 54: 100%|██████████| 19/19 [00:22<00:00,  0.83it/s, v_num=2.61e+7, train_loss_step=0.0338, train_loss_epoch=0.0323]\n",
      "Validation: |          | 0/? [00:00<?, ?it/s]\u001b[A\n",
      "Validation:   0%|          | 0/4 [00:00<?, ?it/s]\u001b[A\n",
      "Validation DataLoader 0:   0%|          | 0/4 [00:00<?, ?it/s]\u001b[A\n",
      "Validation DataLoader 0:  25%|██▌       | 1/4 [00:00<00:00,  4.11it/s]\u001b[A\n",
      "Validation DataLoader 0:  50%|█████     | 2/4 [00:00<00:00,  2.80it/s]\u001b[A\n",
      "Validation DataLoader 0:  75%|███████▌  | 3/4 [00:01<00:00,  2.52it/s]\u001b[A\n",
      "Validation DataLoader 0: 100%|██████████| 4/4 [00:01<00:00,  2.41it/s]\u001b[AEpoch 54: Lr: 0.0007159 | Train Loss: 0.0322760 | Vali Loss: 0.2056755\n",
      "\n",
      "Epoch 54: 100%|██████████| 19/19 [00:24<00:00,  0.76it/s, v_num=2.61e+7, train_loss_step=0.0338, train_loss_epoch=0.0286]"
     ]
    },
    {
     "name": "stderr",
     "output_type": "stream",
     "text": [
      "Epoch 54, global step 1045: 'val_loss' was not in top 1\n"
     ]
    },
    {
     "name": "stdout",
     "output_type": "stream",
     "text": [
      "Epoch 55: 100%|██████████| 19/19 [00:22<00:00,  0.84it/s, v_num=2.61e+7, train_loss_step=0.0271, train_loss_epoch=0.0286]\n",
      "Validation: |          | 0/? [00:00<?, ?it/s]\u001b[A\n",
      "Validation:   0%|          | 0/4 [00:00<?, ?it/s]\u001b[A\n",
      "Validation DataLoader 0:   0%|          | 0/4 [00:00<?, ?it/s]\u001b[A\n",
      "Validation DataLoader 0:  25%|██▌       | 1/4 [00:00<00:00,  4.12it/s]\u001b[A\n",
      "Validation DataLoader 0:  50%|█████     | 2/4 [00:00<00:00,  2.81it/s]\u001b[A\n",
      "Validation DataLoader 0:  75%|███████▌  | 3/4 [00:01<00:00,  2.53it/s]\u001b[A\n",
      "Validation DataLoader 0: 100%|██████████| 4/4 [00:01<00:00,  2.42it/s]\u001b[AEpoch 55: Lr: 0.0006954 | Train Loss: 0.0286298 | Vali Loss: 0.2079382\n",
      "\n",
      "Epoch 55: 100%|██████████| 19/19 [00:24<00:00,  0.76it/s, v_num=2.61e+7, train_loss_step=0.0271, train_loss_epoch=0.0297]"
     ]
    },
    {
     "name": "stderr",
     "output_type": "stream",
     "text": [
      "Epoch 55, global step 1064: 'val_loss' was not in top 1\n"
     ]
    },
    {
     "name": "stdout",
     "output_type": "stream",
     "text": [
      "Epoch 56: 100%|██████████| 19/19 [00:22<00:00,  0.83it/s, v_num=2.61e+7, train_loss_step=0.0285, train_loss_epoch=0.0297]\n",
      "Validation: |          | 0/? [00:00<?, ?it/s]\u001b[A\n",
      "Validation:   0%|          | 0/4 [00:00<?, ?it/s]\u001b[A\n",
      "Validation DataLoader 0:   0%|          | 0/4 [00:00<?, ?it/s]\u001b[A\n",
      "Validation DataLoader 0:  25%|██▌       | 1/4 [00:00<00:00,  4.13it/s]\u001b[A\n",
      "Validation DataLoader 0:  50%|█████     | 2/4 [00:00<00:00,  2.82it/s]\u001b[A\n",
      "Validation DataLoader 0:  75%|███████▌  | 3/4 [00:01<00:00,  2.54it/s]\u001b[A\n",
      "Validation DataLoader 0: 100%|██████████| 4/4 [00:01<00:00,  2.42it/s]\u001b[AEpoch 56: Lr: 0.0006746 | Train Loss: 0.0296819 | Vali Loss: 0.2053683\n",
      "\n",
      "Epoch 56: 100%|██████████| 19/19 [00:24<00:00,  0.76it/s, v_num=2.61e+7, train_loss_step=0.0285, train_loss_epoch=0.0312]"
     ]
    },
    {
     "name": "stderr",
     "output_type": "stream",
     "text": [
      "Epoch 56, global step 1083: 'val_loss' was not in top 1\n"
     ]
    },
    {
     "name": "stdout",
     "output_type": "stream",
     "text": [
      "Epoch 57: 100%|██████████| 19/19 [00:22<00:00,  0.83it/s, v_num=2.61e+7, train_loss_step=0.0342, train_loss_epoch=0.0312]\n",
      "Validation: |          | 0/? [00:00<?, ?it/s]\u001b[A\n",
      "Validation:   0%|          | 0/4 [00:00<?, ?it/s]\u001b[A\n",
      "Validation DataLoader 0:   0%|          | 0/4 [00:00<?, ?it/s]\u001b[A\n",
      "Validation DataLoader 0:  25%|██▌       | 1/4 [00:00<00:00,  4.12it/s]\u001b[A\n",
      "Validation DataLoader 0:  50%|█████     | 2/4 [00:00<00:00,  2.81it/s]\u001b[A\n",
      "Validation DataLoader 0:  75%|███████▌  | 3/4 [00:01<00:00,  2.53it/s]\u001b[A\n",
      "Validation DataLoader 0: 100%|██████████| 4/4 [00:01<00:00,  2.41it/s]\u001b[AEpoch 57: Lr: 0.0006534 | Train Loss: 0.0312330 | Vali Loss: 0.2209771\n",
      "\n",
      "Epoch 57: 100%|██████████| 19/19 [00:24<00:00,  0.76it/s, v_num=2.61e+7, train_loss_step=0.0342, train_loss_epoch=0.0316]"
     ]
    },
    {
     "name": "stderr",
     "output_type": "stream",
     "text": [
      "Epoch 57, global step 1102: 'val_loss' was not in top 1\n"
     ]
    },
    {
     "name": "stdout",
     "output_type": "stream",
     "text": [
      "Epoch 58: 100%|██████████| 19/19 [00:22<00:00,  0.83it/s, v_num=2.61e+7, train_loss_step=0.0206, train_loss_epoch=0.0316]\n",
      "Validation: |          | 0/? [00:00<?, ?it/s]\u001b[A\n",
      "Validation:   0%|          | 0/4 [00:00<?, ?it/s]\u001b[A\n",
      "Validation DataLoader 0:   0%|          | 0/4 [00:00<?, ?it/s]\u001b[A\n",
      "Validation DataLoader 0:  25%|██▌       | 1/4 [00:00<00:00,  4.10it/s]\u001b[A\n",
      "Validation DataLoader 0:  50%|█████     | 2/4 [00:00<00:00,  2.78it/s]\u001b[A\n",
      "Validation DataLoader 0:  75%|███████▌  | 3/4 [00:01<00:00,  2.51it/s]\u001b[A\n",
      "Validation DataLoader 0: 100%|██████████| 4/4 [00:01<00:00,  2.40it/s]\u001b[AEpoch 58: Lr: 0.0006319 | Train Loss: 0.0316204 | Vali Loss: 0.2075477\n",
      "\n",
      "Epoch 58: 100%|██████████| 19/19 [00:25<00:00,  0.76it/s, v_num=2.61e+7, train_loss_step=0.0206, train_loss_epoch=0.0296]"
     ]
    },
    {
     "name": "stderr",
     "output_type": "stream",
     "text": [
      "Epoch 58, global step 1121: 'val_loss' was not in top 1\n"
     ]
    },
    {
     "name": "stdout",
     "output_type": "stream",
     "text": [
      "Epoch 59: 100%|██████████| 19/19 [00:22<00:00,  0.83it/s, v_num=2.61e+7, train_loss_step=0.0214, train_loss_epoch=0.0296]\n",
      "Validation: |          | 0/? [00:00<?, ?it/s]\u001b[A\n",
      "Validation:   0%|          | 0/4 [00:00<?, ?it/s]\u001b[A\n",
      "Validation DataLoader 0:   0%|          | 0/4 [00:00<?, ?it/s]\u001b[A\n",
      "Validation DataLoader 0:  25%|██▌       | 1/4 [00:00<00:00,  4.11it/s]\u001b[A\n",
      "Validation DataLoader 0:  50%|█████     | 2/4 [00:00<00:00,  2.81it/s]\u001b[A\n",
      "Validation DataLoader 0:  75%|███████▌  | 3/4 [00:01<00:00,  2.54it/s]\u001b[A\n",
      "Validation DataLoader 0: 100%|██████████| 4/4 [00:01<00:00,  2.42it/s]\u001b[AEpoch 59: Lr: 0.0006101 | Train Loss: 0.0295649 | Vali Loss: 0.2045163\n",
      "\n",
      "Epoch 59: 100%|██████████| 19/19 [00:24<00:00,  0.76it/s, v_num=2.61e+7, train_loss_step=0.0214, train_loss_epoch=0.0261]"
     ]
    },
    {
     "name": "stderr",
     "output_type": "stream",
     "text": [
      "Epoch 59, global step 1140: 'val_loss' reached 0.20452 (best 0.20452), saving model to '/ocean/projects/eng170006p/ussqww/NDD_SimVP/work_dirs/custom_exp/checkpoints/best-epoch=59-val_loss=0.205.ckpt' as top 1\n"
     ]
    },
    {
     "name": "stdout",
     "output_type": "stream",
     "text": [
      "Epoch 60: 100%|██████████| 19/19 [00:22<00:00,  0.83it/s, v_num=2.61e+7, train_loss_step=0.029, train_loss_epoch=0.0261] \n",
      "Validation: |          | 0/? [00:00<?, ?it/s]\u001b[A\n",
      "Validation:   0%|          | 0/4 [00:00<?, ?it/s]\u001b[A\n",
      "Validation DataLoader 0:   0%|          | 0/4 [00:00<?, ?it/s]\u001b[A\n",
      "Validation DataLoader 0:  25%|██▌       | 1/4 [00:00<00:00,  4.13it/s]\u001b[A\n",
      "Validation DataLoader 0:  50%|█████     | 2/4 [00:00<00:00,  2.80it/s]\u001b[A\n",
      "Validation DataLoader 0:  75%|███████▌  | 3/4 [00:01<00:00,  2.54it/s]\u001b[A\n",
      "Validation DataLoader 0: 100%|██████████| 4/4 [00:01<00:00,  2.41it/s]\u001b[AEpoch 60: Lr: 0.0005881 | Train Loss: 0.0261395 | Vali Loss: 0.2052125\n",
      "\n",
      "Epoch 60: 100%|██████████| 19/19 [00:24<00:00,  0.76it/s, v_num=2.61e+7, train_loss_step=0.029, train_loss_epoch=0.0238]"
     ]
    },
    {
     "name": "stderr",
     "output_type": "stream",
     "text": [
      "Epoch 60, global step 1159: 'val_loss' was not in top 1\n"
     ]
    },
    {
     "name": "stdout",
     "output_type": "stream",
     "text": [
      "Epoch 61: 100%|██████████| 19/19 [00:22<00:00,  0.83it/s, v_num=2.61e+7, train_loss_step=0.0187, train_loss_epoch=0.0238]\n",
      "Validation: |          | 0/? [00:00<?, ?it/s]\u001b[A\n",
      "Validation:   0%|          | 0/4 [00:00<?, ?it/s]\u001b[A\n",
      "Validation DataLoader 0:   0%|          | 0/4 [00:00<?, ?it/s]\u001b[A\n",
      "Validation DataLoader 0:  25%|██▌       | 1/4 [00:00<00:00,  4.11it/s]\u001b[A\n",
      "Validation DataLoader 0:  50%|█████     | 2/4 [00:00<00:00,  2.80it/s]\u001b[A\n",
      "Validation DataLoader 0:  75%|███████▌  | 3/4 [00:01<00:00,  2.53it/s]\u001b[A\n",
      "Validation DataLoader 0: 100%|██████████| 4/4 [00:01<00:00,  2.42it/s]\u001b[AEpoch 61: Lr: 0.0005659 | Train Loss: 0.0237624 | Vali Loss: 0.2057156\n",
      "\n",
      "Epoch 61: 100%|██████████| 19/19 [00:24<00:00,  0.76it/s, v_num=2.61e+7, train_loss_step=0.0187, train_loss_epoch=0.0233]"
     ]
    },
    {
     "name": "stderr",
     "output_type": "stream",
     "text": [
      "Epoch 61, global step 1178: 'val_loss' was not in top 1\n"
     ]
    },
    {
     "name": "stdout",
     "output_type": "stream",
     "text": [
      "Epoch 62: 100%|██████████| 19/19 [00:22<00:00,  0.83it/s, v_num=2.61e+7, train_loss_step=0.0266, train_loss_epoch=0.0233]\n",
      "Validation: |          | 0/? [00:00<?, ?it/s]\u001b[A\n",
      "Validation:   0%|          | 0/4 [00:00<?, ?it/s]\u001b[A\n",
      "Validation DataLoader 0:   0%|          | 0/4 [00:00<?, ?it/s]\u001b[A\n",
      "Validation DataLoader 0:  25%|██▌       | 1/4 [00:00<00:00,  4.09it/s]\u001b[A\n",
      "Validation DataLoader 0:  50%|█████     | 2/4 [00:00<00:00,  2.80it/s]\u001b[A\n",
      "Validation DataLoader 0:  75%|███████▌  | 3/4 [00:01<00:00,  2.52it/s]\u001b[A\n",
      "Validation DataLoader 0: 100%|██████████| 4/4 [00:01<00:00,  2.41it/s]\u001b[AEpoch 62: Lr: 0.0005436 | Train Loss: 0.0233129 | Vali Loss: 0.2042534\n",
      "\n",
      "Epoch 62: 100%|██████████| 19/19 [00:24<00:00,  0.76it/s, v_num=2.61e+7, train_loss_step=0.0266, train_loss_epoch=0.0247]"
     ]
    },
    {
     "name": "stderr",
     "output_type": "stream",
     "text": [
      "Epoch 62, global step 1197: 'val_loss' reached 0.20425 (best 0.20425), saving model to '/ocean/projects/eng170006p/ussqww/NDD_SimVP/work_dirs/custom_exp/checkpoints/best-epoch=62-val_loss=0.204.ckpt' as top 1\n"
     ]
    },
    {
     "name": "stdout",
     "output_type": "stream",
     "text": [
      "Epoch 63: 100%|██████████| 19/19 [00:22<00:00,  0.83it/s, v_num=2.61e+7, train_loss_step=0.038, train_loss_epoch=0.0247] \n",
      "Validation: |          | 0/? [00:00<?, ?it/s]\u001b[A\n",
      "Validation:   0%|          | 0/4 [00:00<?, ?it/s]\u001b[A\n",
      "Validation DataLoader 0:   0%|          | 0/4 [00:00<?, ?it/s]\u001b[A\n",
      "Validation DataLoader 0:  25%|██▌       | 1/4 [00:00<00:00,  4.12it/s]\u001b[A\n",
      "Validation DataLoader 0:  50%|█████     | 2/4 [00:00<00:00,  2.78it/s]\u001b[A\n",
      "Validation DataLoader 0:  75%|███████▌  | 3/4 [00:01<00:00,  2.52it/s]\u001b[A\n",
      "Validation DataLoader 0: 100%|██████████| 4/4 [00:01<00:00,  2.41it/s]\u001b[AEpoch 63: Lr: 0.0005213 | Train Loss: 0.0247439 | Vali Loss: 0.2022564\n",
      "\n",
      "Epoch 63: 100%|██████████| 19/19 [00:24<00:00,  0.76it/s, v_num=2.61e+7, train_loss_step=0.038, train_loss_epoch=0.0228]"
     ]
    },
    {
     "name": "stderr",
     "output_type": "stream",
     "text": [
      "Epoch 63, global step 1216: 'val_loss' reached 0.20226 (best 0.20226), saving model to '/ocean/projects/eng170006p/ussqww/NDD_SimVP/work_dirs/custom_exp/checkpoints/best-epoch=63-val_loss=0.202.ckpt' as top 1\n"
     ]
    },
    {
     "name": "stdout",
     "output_type": "stream",
     "text": [
      "Epoch 64: 100%|██████████| 19/19 [00:22<00:00,  0.83it/s, v_num=2.61e+7, train_loss_step=0.0146, train_loss_epoch=0.0228]\n",
      "Validation: |          | 0/? [00:00<?, ?it/s]\u001b[A\n",
      "Validation:   0%|          | 0/4 [00:00<?, ?it/s]\u001b[A\n",
      "Validation DataLoader 0:   0%|          | 0/4 [00:00<?, ?it/s]\u001b[A\n",
      "Validation DataLoader 0:  25%|██▌       | 1/4 [00:00<00:00,  4.12it/s]\u001b[A\n",
      "Validation DataLoader 0:  50%|█████     | 2/4 [00:00<00:00,  2.82it/s]\u001b[A\n",
      "Validation DataLoader 0:  75%|███████▌  | 3/4 [00:01<00:00,  2.53it/s]\u001b[A\n",
      "Validation DataLoader 0: 100%|██████████| 4/4 [00:01<00:00,  2.42it/s]\u001b[AEpoch 64: Lr: 0.0004988 | Train Loss: 0.0227616 | Vali Loss: 0.2057623\n",
      "\n",
      "Epoch 64: 100%|██████████| 19/19 [00:25<00:00,  0.76it/s, v_num=2.61e+7, train_loss_step=0.0146, train_loss_epoch=0.0231]"
     ]
    },
    {
     "name": "stderr",
     "output_type": "stream",
     "text": [
      "Epoch 64, global step 1235: 'val_loss' was not in top 1\n"
     ]
    },
    {
     "name": "stdout",
     "output_type": "stream",
     "text": [
      "Epoch 65: 100%|██████████| 19/19 [00:22<00:00,  0.83it/s, v_num=2.61e+7, train_loss_step=0.0208, train_loss_epoch=0.0231]\n",
      "Validation: |          | 0/? [00:00<?, ?it/s]\u001b[A\n",
      "Validation:   0%|          | 0/4 [00:00<?, ?it/s]\u001b[A\n",
      "Validation DataLoader 0:   0%|          | 0/4 [00:00<?, ?it/s]\u001b[A\n",
      "Validation DataLoader 0:  25%|██▌       | 1/4 [00:00<00:00,  4.12it/s]\u001b[A\n",
      "Validation DataLoader 0:  50%|█████     | 2/4 [00:00<00:00,  2.80it/s]\u001b[A\n",
      "Validation DataLoader 0:  75%|███████▌  | 3/4 [00:01<00:00,  2.53it/s]\u001b[A\n",
      "Validation DataLoader 0: 100%|██████████| 4/4 [00:01<00:00,  2.41it/s]\u001b[AEpoch 65: Lr: 0.0004764 | Train Loss: 0.0230653 | Vali Loss: 0.2039539\n",
      "\n",
      "Epoch 65: 100%|██████████| 19/19 [00:24<00:00,  0.76it/s, v_num=2.61e+7, train_loss_step=0.0208, train_loss_epoch=0.0208]"
     ]
    },
    {
     "name": "stderr",
     "output_type": "stream",
     "text": [
      "Epoch 65, global step 1254: 'val_loss' was not in top 1\n"
     ]
    },
    {
     "name": "stdout",
     "output_type": "stream",
     "text": [
      "Epoch 66: 100%|██████████| 19/19 [00:22<00:00,  0.83it/s, v_num=2.61e+7, train_loss_step=0.0283, train_loss_epoch=0.0208]\n",
      "Validation: |          | 0/? [00:00<?, ?it/s]\u001b[A\n",
      "Validation:   0%|          | 0/4 [00:00<?, ?it/s]\u001b[A\n",
      "Validation DataLoader 0:   0%|          | 0/4 [00:00<?, ?it/s]\u001b[A\n",
      "Validation DataLoader 0:  25%|██▌       | 1/4 [00:00<00:00,  4.10it/s]\u001b[A\n",
      "Validation DataLoader 0:  50%|█████     | 2/4 [00:00<00:00,  2.80it/s]\u001b[A\n",
      "Validation DataLoader 0:  75%|███████▌  | 3/4 [00:01<00:00,  2.53it/s]\u001b[A\n",
      "Validation DataLoader 0: 100%|██████████| 4/4 [00:01<00:00,  2.41it/s]\u001b[AEpoch 66: Lr: 0.0004540 | Train Loss: 0.0208143 | Vali Loss: 0.2043695\n",
      "\n",
      "Epoch 66: 100%|██████████| 19/19 [00:24<00:00,  0.76it/s, v_num=2.61e+7, train_loss_step=0.0283, train_loss_epoch=0.0209]"
     ]
    },
    {
     "name": "stderr",
     "output_type": "stream",
     "text": [
      "Epoch 66, global step 1273: 'val_loss' was not in top 1\n"
     ]
    },
    {
     "name": "stdout",
     "output_type": "stream",
     "text": [
      "Epoch 67: 100%|██████████| 19/19 [00:22<00:00,  0.83it/s, v_num=2.61e+7, train_loss_step=0.0177, train_loss_epoch=0.0209]\n",
      "Validation: |          | 0/? [00:00<?, ?it/s]\u001b[A\n",
      "Validation:   0%|          | 0/4 [00:00<?, ?it/s]\u001b[A\n",
      "Validation DataLoader 0:   0%|          | 0/4 [00:00<?, ?it/s]\u001b[A\n",
      "Validation DataLoader 0:  25%|██▌       | 1/4 [00:00<00:00,  4.11it/s]\u001b[A\n",
      "Validation DataLoader 0:  50%|█████     | 2/4 [00:00<00:00,  2.80it/s]\u001b[A\n",
      "Validation DataLoader 0:  75%|███████▌  | 3/4 [00:01<00:00,  2.53it/s]\u001b[A\n",
      "Validation DataLoader 0: 100%|██████████| 4/4 [00:01<00:00,  2.42it/s]\u001b[AEpoch 67: Lr: 0.0004317 | Train Loss: 0.0209171 | Vali Loss: 0.2037226\n",
      "\n",
      "Epoch 67: 100%|██████████| 19/19 [00:24<00:00,  0.76it/s, v_num=2.61e+7, train_loss_step=0.0177, train_loss_epoch=0.020] "
     ]
    },
    {
     "name": "stderr",
     "output_type": "stream",
     "text": [
      "Epoch 67, global step 1292: 'val_loss' was not in top 1\n"
     ]
    },
    {
     "name": "stdout",
     "output_type": "stream",
     "text": [
      "Epoch 68: 100%|██████████| 19/19 [00:22<00:00,  0.83it/s, v_num=2.61e+7, train_loss_step=0.0148, train_loss_epoch=0.020]\n",
      "Validation: |          | 0/? [00:00<?, ?it/s]\u001b[A\n",
      "Validation:   0%|          | 0/4 [00:00<?, ?it/s]\u001b[A\n",
      "Validation DataLoader 0:   0%|          | 0/4 [00:00<?, ?it/s]\u001b[A\n",
      "Validation DataLoader 0:  25%|██▌       | 1/4 [00:00<00:00,  4.12it/s]\u001b[A\n",
      "Validation DataLoader 0:  50%|█████     | 2/4 [00:00<00:00,  2.81it/s]\u001b[A\n",
      "Validation DataLoader 0:  75%|███████▌  | 3/4 [00:01<00:00,  2.53it/s]\u001b[A\n",
      "Validation DataLoader 0: 100%|██████████| 4/4 [00:01<00:00,  2.42it/s]\u001b[AEpoch 68: Lr: 0.0004096 | Train Loss: 0.0200056 | Vali Loss: 0.2053041\n",
      "\n",
      "Epoch 68: 100%|██████████| 19/19 [00:24<00:00,  0.76it/s, v_num=2.61e+7, train_loss_step=0.0148, train_loss_epoch=0.0191]"
     ]
    },
    {
     "name": "stderr",
     "output_type": "stream",
     "text": [
      "Epoch 68, global step 1311: 'val_loss' was not in top 1\n"
     ]
    },
    {
     "name": "stdout",
     "output_type": "stream",
     "text": [
      "Epoch 69: 100%|██████████| 19/19 [00:22<00:00,  0.83it/s, v_num=2.61e+7, train_loss_step=0.0242, train_loss_epoch=0.0191]\n",
      "Validation: |          | 0/? [00:00<?, ?it/s]\u001b[A\n",
      "Validation:   0%|          | 0/4 [00:00<?, ?it/s]\u001b[A\n",
      "Validation DataLoader 0:   0%|          | 0/4 [00:00<?, ?it/s]\u001b[A\n",
      "Validation DataLoader 0:  25%|██▌       | 1/4 [00:00<00:00,  4.12it/s]\u001b[A\n",
      "Validation DataLoader 0:  50%|█████     | 2/4 [00:00<00:00,  2.81it/s]\u001b[A\n",
      "Validation DataLoader 0:  75%|███████▌  | 3/4 [00:01<00:00,  2.53it/s]\u001b[A\n",
      "Validation DataLoader 0: 100%|██████████| 4/4 [00:01<00:00,  2.42it/s]\u001b[AEpoch 69: Lr: 0.0003876 | Train Loss: 0.0190991 | Vali Loss: 0.2040116\n",
      "\n",
      "Epoch 69: 100%|██████████| 19/19 [00:24<00:00,  0.76it/s, v_num=2.61e+7, train_loss_step=0.0242, train_loss_epoch=0.0174]"
     ]
    },
    {
     "name": "stderr",
     "output_type": "stream",
     "text": [
      "Epoch 69, global step 1330: 'val_loss' was not in top 1\n"
     ]
    },
    {
     "name": "stdout",
     "output_type": "stream",
     "text": [
      "Epoch 70: 100%|██████████| 19/19 [00:22<00:00,  0.83it/s, v_num=2.61e+7, train_loss_step=0.0161, train_loss_epoch=0.0174]\n",
      "Validation: |          | 0/? [00:00<?, ?it/s]\u001b[A\n",
      "Validation:   0%|          | 0/4 [00:00<?, ?it/s]\u001b[A\n",
      "Validation DataLoader 0:   0%|          | 0/4 [00:00<?, ?it/s]\u001b[A\n",
      "Validation DataLoader 0:  25%|██▌       | 1/4 [00:00<00:00,  4.10it/s]\u001b[A\n",
      "Validation DataLoader 0:  50%|█████     | 2/4 [00:00<00:00,  2.78it/s]\u001b[A\n",
      "Validation DataLoader 0:  75%|███████▌  | 3/4 [00:01<00:00,  2.52it/s]\u001b[A\n",
      "Validation DataLoader 0: 100%|██████████| 4/4 [00:01<00:00,  2.40it/s]\u001b[AEpoch 70: Lr: 0.0003658 | Train Loss: 0.0173551 | Vali Loss: 0.2031922\n",
      "\n",
      "Epoch 70: 100%|██████████| 19/19 [00:24<00:00,  0.76it/s, v_num=2.61e+7, train_loss_step=0.0161, train_loss_epoch=0.017] "
     ]
    },
    {
     "name": "stderr",
     "output_type": "stream",
     "text": [
      "Epoch 70, global step 1349: 'val_loss' was not in top 1\n"
     ]
    },
    {
     "name": "stdout",
     "output_type": "stream",
     "text": [
      "Epoch 71: 100%|██████████| 19/19 [00:22<00:00,  0.83it/s, v_num=2.61e+7, train_loss_step=0.018, train_loss_epoch=0.017] \n",
      "Validation: |          | 0/? [00:00<?, ?it/s]\u001b[A\n",
      "Validation:   0%|          | 0/4 [00:00<?, ?it/s]\u001b[A\n",
      "Validation DataLoader 0:   0%|          | 0/4 [00:00<?, ?it/s]\u001b[A\n",
      "Validation DataLoader 0:  25%|██▌       | 1/4 [00:00<00:00,  4.11it/s]\u001b[A\n",
      "Validation DataLoader 0:  50%|█████     | 2/4 [00:00<00:00,  2.82it/s]\u001b[A\n",
      "Validation DataLoader 0:  75%|███████▌  | 3/4 [00:01<00:00,  2.54it/s]\u001b[A\n",
      "Validation DataLoader 0: 100%|██████████| 4/4 [00:01<00:00,  2.42it/s]\u001b[AEpoch 71: Lr: 0.0003444 | Train Loss: 0.0170409 | Vali Loss: 0.2042227\n",
      "\n",
      "Epoch 71: 100%|██████████| 19/19 [00:24<00:00,  0.76it/s, v_num=2.61e+7, train_loss_step=0.018, train_loss_epoch=0.0162]"
     ]
    },
    {
     "name": "stderr",
     "output_type": "stream",
     "text": [
      "Epoch 71, global step 1368: 'val_loss' was not in top 1\n"
     ]
    },
    {
     "name": "stdout",
     "output_type": "stream",
     "text": [
      "Epoch 72: 100%|██████████| 19/19 [00:22<00:00,  0.83it/s, v_num=2.61e+7, train_loss_step=0.0192, train_loss_epoch=0.0162]\n",
      "Validation: |          | 0/? [00:00<?, ?it/s]\u001b[A\n",
      "Validation:   0%|          | 0/4 [00:00<?, ?it/s]\u001b[A\n",
      "Validation DataLoader 0:   0%|          | 0/4 [00:00<?, ?it/s]\u001b[A\n",
      "Validation DataLoader 0:  25%|██▌       | 1/4 [00:00<00:00,  4.12it/s]\u001b[A\n",
      "Validation DataLoader 0:  50%|█████     | 2/4 [00:00<00:00,  2.82it/s]\u001b[A\n",
      "Validation DataLoader 0:  75%|███████▌  | 3/4 [00:01<00:00,  2.55it/s]\u001b[A\n",
      "Validation DataLoader 0: 100%|██████████| 4/4 [00:01<00:00,  2.42it/s]\u001b[AEpoch 72: Lr: 0.0003232 | Train Loss: 0.0161749 | Vali Loss: 0.2034244\n",
      "\n",
      "Epoch 72: 100%|██████████| 19/19 [00:24<00:00,  0.76it/s, v_num=2.61e+7, train_loss_step=0.0192, train_loss_epoch=0.0165]"
     ]
    },
    {
     "name": "stderr",
     "output_type": "stream",
     "text": [
      "Epoch 72, global step 1387: 'val_loss' was not in top 1\n"
     ]
    },
    {
     "name": "stdout",
     "output_type": "stream",
     "text": [
      "Epoch 73: 100%|██████████| 19/19 [00:22<00:00,  0.83it/s, v_num=2.61e+7, train_loss_step=0.0152, train_loss_epoch=0.0165]\n",
      "Validation: |          | 0/? [00:00<?, ?it/s]\u001b[A\n",
      "Validation:   0%|          | 0/4 [00:00<?, ?it/s]\u001b[A\n",
      "Validation DataLoader 0:   0%|          | 0/4 [00:00<?, ?it/s]\u001b[A\n",
      "Validation DataLoader 0:  25%|██▌       | 1/4 [00:00<00:00,  4.11it/s]\u001b[A\n",
      "Validation DataLoader 0:  50%|█████     | 2/4 [00:00<00:00,  2.79it/s]\u001b[A\n",
      "Validation DataLoader 0:  75%|███████▌  | 3/4 [00:01<00:00,  2.52it/s]\u001b[A\n",
      "Validation DataLoader 0: 100%|██████████| 4/4 [00:01<00:00,  2.41it/s]\u001b[AEpoch 73: Lr: 0.0003024 | Train Loss: 0.0165026 | Vali Loss: 0.2038576\n",
      "\n",
      "Epoch 73: 100%|██████████| 19/19 [00:24<00:00,  0.76it/s, v_num=2.61e+7, train_loss_step=0.0152, train_loss_epoch=0.0173]"
     ]
    },
    {
     "name": "stderr",
     "output_type": "stream",
     "text": [
      "Epoch 73, global step 1406: 'val_loss' was not in top 1\n"
     ]
    },
    {
     "name": "stdout",
     "output_type": "stream",
     "text": [
      "Epoch 74: 100%|██████████| 19/19 [00:22<00:00,  0.83it/s, v_num=2.61e+7, train_loss_step=0.0228, train_loss_epoch=0.0173]\n",
      "Validation: |          | 0/? [00:00<?, ?it/s]\u001b[A\n",
      "Validation:   0%|          | 0/4 [00:00<?, ?it/s]\u001b[A\n",
      "Validation DataLoader 0:   0%|          | 0/4 [00:00<?, ?it/s]\u001b[A\n",
      "Validation DataLoader 0:  25%|██▌       | 1/4 [00:00<00:00,  4.10it/s]\u001b[A\n",
      "Validation DataLoader 0:  50%|█████     | 2/4 [00:00<00:00,  2.80it/s]\u001b[A\n",
      "Validation DataLoader 0:  75%|███████▌  | 3/4 [00:01<00:00,  2.52it/s]\u001b[A\n",
      "Validation DataLoader 0: 100%|██████████| 4/4 [00:01<00:00,  2.41it/s]\u001b[AEpoch 74: Lr: 0.0002820 | Train Loss: 0.0172635 | Vali Loss: 0.2031479\n",
      "\n",
      "Epoch 74: 100%|██████████| 19/19 [00:24<00:00,  0.76it/s, v_num=2.61e+7, train_loss_step=0.0228, train_loss_epoch=0.0159]"
     ]
    },
    {
     "name": "stderr",
     "output_type": "stream",
     "text": [
      "Epoch 74, global step 1425: 'val_loss' was not in top 1\n"
     ]
    },
    {
     "name": "stdout",
     "output_type": "stream",
     "text": [
      "Epoch 75: 100%|██████████| 19/19 [00:22<00:00,  0.83it/s, v_num=2.61e+7, train_loss_step=0.0136, train_loss_epoch=0.0159]\n",
      "Validation: |          | 0/? [00:00<?, ?it/s]\u001b[A\n",
      "Validation:   0%|          | 0/4 [00:00<?, ?it/s]\u001b[A\n",
      "Validation DataLoader 0:   0%|          | 0/4 [00:00<?, ?it/s]\u001b[A\n",
      "Validation DataLoader 0:  25%|██▌       | 1/4 [00:00<00:00,  4.11it/s]\u001b[A\n",
      "Validation DataLoader 0:  50%|█████     | 2/4 [00:00<00:00,  2.79it/s]\u001b[A\n",
      "Validation DataLoader 0:  75%|███████▌  | 3/4 [00:01<00:00,  2.53it/s]\u001b[A\n",
      "Validation DataLoader 0: 100%|██████████| 4/4 [00:01<00:00,  2.42it/s]\u001b[AEpoch 75: Lr: 0.0002620 | Train Loss: 0.0159327 | Vali Loss: 0.2043032\n",
      "\n",
      "Epoch 75: 100%|██████████| 19/19 [00:24<00:00,  0.76it/s, v_num=2.61e+7, train_loss_step=0.0136, train_loss_epoch=0.0167]"
     ]
    },
    {
     "name": "stderr",
     "output_type": "stream",
     "text": [
      "Epoch 75, global step 1444: 'val_loss' was not in top 1\n"
     ]
    },
    {
     "name": "stdout",
     "output_type": "stream",
     "text": [
      "Epoch 76: 100%|██████████| 19/19 [00:22<00:00,  0.83it/s, v_num=2.61e+7, train_loss_step=0.0162, train_loss_epoch=0.0167] \n",
      "Validation: |          | 0/? [00:00<?, ?it/s]\u001b[A\n",
      "Validation:   0%|          | 0/4 [00:00<?, ?it/s]\u001b[A\n",
      "Validation DataLoader 0:   0%|          | 0/4 [00:00<?, ?it/s]\u001b[A\n",
      "Validation DataLoader 0:  25%|██▌       | 1/4 [00:00<00:00,  4.06it/s]\u001b[A\n",
      "Validation DataLoader 0:  50%|█████     | 2/4 [00:00<00:00,  2.78it/s]\u001b[A\n",
      "Validation DataLoader 0:  75%|███████▌  | 3/4 [00:01<00:00,  2.52it/s]\u001b[A\n",
      "Validation DataLoader 0: 100%|██████████| 4/4 [00:01<00:00,  2.41it/s]\u001b[AEpoch 76: Lr: 0.0002425 | Train Loss: 0.0166960 | Vali Loss: 0.2039849\n",
      "\n",
      "Epoch 76: 100%|██████████| 19/19 [00:24<00:00,  0.76it/s, v_num=2.61e+7, train_loss_step=0.0162, train_loss_epoch=0.019] "
     ]
    },
    {
     "name": "stderr",
     "output_type": "stream",
     "text": [
      "Epoch 76, global step 1463: 'val_loss' was not in top 1\n"
     ]
    },
    {
     "name": "stdout",
     "output_type": "stream",
     "text": [
      "Epoch 77: 100%|██████████| 19/19 [00:22<00:00,  0.83it/s, v_num=2.61e+7, train_loss_step=0.0141, train_loss_epoch=0.019]\n",
      "Validation: |          | 0/? [00:00<?, ?it/s]\u001b[A\n",
      "Validation:   0%|          | 0/4 [00:00<?, ?it/s]\u001b[A\n",
      "Validation DataLoader 0:   0%|          | 0/4 [00:00<?, ?it/s]\u001b[A\n",
      "Validation DataLoader 0:  25%|██▌       | 1/4 [00:00<00:00,  4.10it/s]\u001b[A\n",
      "Validation DataLoader 0:  50%|█████     | 2/4 [00:00<00:00,  2.81it/s]\u001b[A\n",
      "Validation DataLoader 0:  75%|███████▌  | 3/4 [00:01<00:00,  2.52it/s]\u001b[A\n",
      "Validation DataLoader 0: 100%|██████████| 4/4 [00:01<00:00,  2.41it/s]\u001b[AEpoch 77: Lr: 0.0002236 | Train Loss: 0.0190076 | Vali Loss: 0.2026279\n",
      "\n",
      "Epoch 77: 100%|██████████| 19/19 [00:24<00:00,  0.76it/s, v_num=2.61e+7, train_loss_step=0.0141, train_loss_epoch=0.0167]"
     ]
    },
    {
     "name": "stderr",
     "output_type": "stream",
     "text": [
      "Epoch 77, global step 1482: 'val_loss' was not in top 1\n"
     ]
    },
    {
     "name": "stdout",
     "output_type": "stream",
     "text": [
      "Epoch 78: 100%|██████████| 19/19 [00:22<00:00,  0.83it/s, v_num=2.61e+7, train_loss_step=0.012, train_loss_epoch=0.0167] \n",
      "Validation: |          | 0/? [00:00<?, ?it/s]\u001b[A\n",
      "Validation:   0%|          | 0/4 [00:00<?, ?it/s]\u001b[A\n",
      "Validation DataLoader 0:   0%|          | 0/4 [00:00<?, ?it/s]\u001b[A\n",
      "Validation DataLoader 0:  25%|██▌       | 1/4 [00:00<00:00,  4.09it/s]\u001b[A\n",
      "Validation DataLoader 0:  50%|█████     | 2/4 [00:00<00:00,  2.79it/s]\u001b[A\n",
      "Validation DataLoader 0:  75%|███████▌  | 3/4 [00:01<00:00,  2.52it/s]\u001b[A\n",
      "Validation DataLoader 0: 100%|██████████| 4/4 [00:01<00:00,  2.41it/s]\u001b[AEpoch 78: Lr: 0.0002052 | Train Loss: 0.0166965 | Vali Loss: 0.2035522\n",
      "\n",
      "Epoch 78: 100%|██████████| 19/19 [00:24<00:00,  0.76it/s, v_num=2.61e+7, train_loss_step=0.012, train_loss_epoch=0.016] "
     ]
    },
    {
     "name": "stderr",
     "output_type": "stream",
     "text": [
      "Epoch 78, global step 1501: 'val_loss' was not in top 1\n"
     ]
    },
    {
     "name": "stdout",
     "output_type": "stream",
     "text": [
      "Epoch 79: 100%|██████████| 19/19 [00:22<00:00,  0.83it/s, v_num=2.61e+7, train_loss_step=0.0179, train_loss_epoch=0.016]\n",
      "Validation: |          | 0/? [00:00<?, ?it/s]\u001b[A\n",
      "Validation:   0%|          | 0/4 [00:00<?, ?it/s]\u001b[A\n",
      "Validation DataLoader 0:   0%|          | 0/4 [00:00<?, ?it/s]\u001b[A\n",
      "Validation DataLoader 0:  25%|██▌       | 1/4 [00:00<00:00,  4.11it/s]\u001b[A\n",
      "Validation DataLoader 0:  50%|█████     | 2/4 [00:00<00:00,  2.82it/s]\u001b[A\n",
      "Validation DataLoader 0:  75%|███████▌  | 3/4 [00:01<00:00,  2.52it/s]\u001b[A\n",
      "Validation DataLoader 0: 100%|██████████| 4/4 [00:01<00:00,  2.41it/s]\u001b[AEpoch 79: Lr: 0.0001873 | Train Loss: 0.0159904 | Vali Loss: 0.2032291\n",
      "\n",
      "Epoch 79: 100%|██████████| 19/19 [00:24<00:00,  0.76it/s, v_num=2.61e+7, train_loss_step=0.0179, train_loss_epoch=0.0148]"
     ]
    },
    {
     "name": "stderr",
     "output_type": "stream",
     "text": [
      "Epoch 79, global step 1520: 'val_loss' was not in top 1\n"
     ]
    },
    {
     "name": "stdout",
     "output_type": "stream",
     "text": [
      "Epoch 80: 100%|██████████| 19/19 [00:22<00:00,  0.83it/s, v_num=2.61e+7, train_loss_step=0.00993, train_loss_epoch=0.0148]\n",
      "Validation: |          | 0/? [00:00<?, ?it/s]\u001b[A\n",
      "Validation:   0%|          | 0/4 [00:00<?, ?it/s]\u001b[A\n",
      "Validation DataLoader 0:   0%|          | 0/4 [00:00<?, ?it/s]\u001b[A\n",
      "Validation DataLoader 0:  25%|██▌       | 1/4 [00:00<00:00,  4.11it/s]\u001b[A\n",
      "Validation DataLoader 0:  50%|█████     | 2/4 [00:00<00:00,  2.80it/s]\u001b[A\n",
      "Validation DataLoader 0:  75%|███████▌  | 3/4 [00:01<00:00,  2.53it/s]\u001b[A\n",
      "Validation DataLoader 0: 100%|██████████| 4/4 [00:01<00:00,  2.41it/s]\u001b[AEpoch 80: Lr: 0.0001701 | Train Loss: 0.0147784 | Vali Loss: 0.2031509\n",
      "\n",
      "Epoch 80: 100%|██████████| 19/19 [00:24<00:00,  0.76it/s, v_num=2.61e+7, train_loss_step=0.00993, train_loss_epoch=0.0142]"
     ]
    },
    {
     "name": "stderr",
     "output_type": "stream",
     "text": [
      "Epoch 80, global step 1539: 'val_loss' was not in top 1\n"
     ]
    },
    {
     "name": "stdout",
     "output_type": "stream",
     "text": [
      "Epoch 81: 100%|██████████| 19/19 [00:22<00:00,  0.83it/s, v_num=2.61e+7, train_loss_step=0.0145, train_loss_epoch=0.0142] \n",
      "Validation: |          | 0/? [00:00<?, ?it/s]\u001b[A\n",
      "Validation:   0%|          | 0/4 [00:00<?, ?it/s]\u001b[A\n",
      "Validation DataLoader 0:   0%|          | 0/4 [00:00<?, ?it/s]\u001b[A\n",
      "Validation DataLoader 0:  25%|██▌       | 1/4 [00:00<00:00,  4.11it/s]\u001b[A\n",
      "Validation DataLoader 0:  50%|█████     | 2/4 [00:00<00:00,  2.79it/s]\u001b[A\n",
      "Validation DataLoader 0:  75%|███████▌  | 3/4 [00:01<00:00,  2.52it/s]\u001b[A\n",
      "Validation DataLoader 0: 100%|██████████| 4/4 [00:01<00:00,  2.41it/s]\u001b[AEpoch 81: Lr: 0.0001536 | Train Loss: 0.0141589 | Vali Loss: 0.2037081\n",
      "\n",
      "Epoch 81: 100%|██████████| 19/19 [00:24<00:00,  0.76it/s, v_num=2.61e+7, train_loss_step=0.0145, train_loss_epoch=0.0151]"
     ]
    },
    {
     "name": "stderr",
     "output_type": "stream",
     "text": [
      "Epoch 81, global step 1558: 'val_loss' was not in top 1\n"
     ]
    },
    {
     "name": "stdout",
     "output_type": "stream",
     "text": [
      "Epoch 82: 100%|██████████| 19/19 [00:22<00:00,  0.83it/s, v_num=2.61e+7, train_loss_step=0.0103, train_loss_epoch=0.0151] \n",
      "Validation: |          | 0/? [00:00<?, ?it/s]\u001b[A\n",
      "Validation:   0%|          | 0/4 [00:00<?, ?it/s]\u001b[A\n",
      "Validation DataLoader 0:   0%|          | 0/4 [00:00<?, ?it/s]\u001b[A\n",
      "Validation DataLoader 0:  25%|██▌       | 1/4 [00:00<00:00,  4.11it/s]\u001b[A\n",
      "Validation DataLoader 0:  50%|█████     | 2/4 [00:00<00:00,  2.63it/s]\u001b[A\n",
      "Validation DataLoader 0:  75%|███████▌  | 3/4 [00:01<00:00,  2.43it/s]\u001b[A\n",
      "Validation DataLoader 0: 100%|██████████| 4/4 [00:01<00:00,  2.34it/s]\u001b[AEpoch 82: Lr: 0.0001378 | Train Loss: 0.0151288 | Vali Loss: 0.2027878\n",
      "\n",
      "Epoch 82: 100%|██████████| 19/19 [00:25<00:00,  0.76it/s, v_num=2.61e+7, train_loss_step=0.0103, train_loss_epoch=0.0152]"
     ]
    },
    {
     "name": "stderr",
     "output_type": "stream",
     "text": [
      "Epoch 82, global step 1577: 'val_loss' was not in top 1\n"
     ]
    },
    {
     "name": "stdout",
     "output_type": "stream",
     "text": [
      "Epoch 83: 100%|██████████| 19/19 [00:22<00:00,  0.83it/s, v_num=2.61e+7, train_loss_step=0.00925, train_loss_epoch=0.0152]\n",
      "Validation: |          | 0/? [00:00<?, ?it/s]\u001b[A\n",
      "Validation:   0%|          | 0/4 [00:00<?, ?it/s]\u001b[A\n",
      "Validation DataLoader 0:   0%|          | 0/4 [00:00<?, ?it/s]\u001b[A\n",
      "Validation DataLoader 0:  25%|██▌       | 1/4 [00:00<00:00,  4.12it/s]\u001b[A\n",
      "Validation DataLoader 0:  50%|█████     | 2/4 [00:00<00:00,  2.82it/s]\u001b[A\n",
      "Validation DataLoader 0:  75%|███████▌  | 3/4 [00:01<00:00,  2.54it/s]\u001b[A\n",
      "Validation DataLoader 0: 100%|██████████| 4/4 [00:01<00:00,  2.42it/s]\u001b[AEpoch 83: Lr: 0.0001227 | Train Loss: 0.0152117 | Vali Loss: 0.2041645\n",
      "\n",
      "Epoch 83: 100%|██████████| 19/19 [00:24<00:00,  0.76it/s, v_num=2.61e+7, train_loss_step=0.00925, train_loss_epoch=0.0147]"
     ]
    },
    {
     "name": "stderr",
     "output_type": "stream",
     "text": [
      "Epoch 83, global step 1596: 'val_loss' was not in top 1\n"
     ]
    },
    {
     "name": "stdout",
     "output_type": "stream",
     "text": [
      "Epoch 84: 100%|██████████| 19/19 [00:22<00:00,  0.83it/s, v_num=2.61e+7, train_loss_step=0.0102, train_loss_epoch=0.0147] \n",
      "Validation: |          | 0/? [00:00<?, ?it/s]\u001b[A\n",
      "Validation:   0%|          | 0/4 [00:00<?, ?it/s]\u001b[A\n",
      "Validation DataLoader 0:   0%|          | 0/4 [00:00<?, ?it/s]\u001b[A\n",
      "Validation DataLoader 0:  25%|██▌       | 1/4 [00:00<00:00,  4.11it/s]\u001b[A\n",
      "Validation DataLoader 0:  50%|█████     | 2/4 [00:00<00:00,  2.80it/s]\u001b[A\n",
      "Validation DataLoader 0:  75%|███████▌  | 3/4 [00:01<00:00,  2.54it/s]\u001b[A\n",
      "Validation DataLoader 0: 100%|██████████| 4/4 [00:01<00:00,  2.42it/s]\u001b[AEpoch 84: Lr: 0.0001084 | Train Loss: 0.0146578 | Vali Loss: 0.2030276\n",
      "\n",
      "Epoch 84: 100%|██████████| 19/19 [00:24<00:00,  0.76it/s, v_num=2.61e+7, train_loss_step=0.0102, train_loss_epoch=0.0141]"
     ]
    },
    {
     "name": "stderr",
     "output_type": "stream",
     "text": [
      "Epoch 84, global step 1615: 'val_loss' was not in top 1\n"
     ]
    },
    {
     "name": "stdout",
     "output_type": "stream",
     "text": [
      "Epoch 85: 100%|██████████| 19/19 [00:22<00:00,  0.83it/s, v_num=2.61e+7, train_loss_step=0.0182, train_loss_epoch=0.0141] \n",
      "Validation: |          | 0/? [00:00<?, ?it/s]\u001b[A\n",
      "Validation:   0%|          | 0/4 [00:00<?, ?it/s]\u001b[A\n",
      "Validation DataLoader 0:   0%|          | 0/4 [00:00<?, ?it/s]\u001b[A\n",
      "Validation DataLoader 0:  25%|██▌       | 1/4 [00:00<00:00,  4.11it/s]\u001b[A\n",
      "Validation DataLoader 0:  50%|█████     | 2/4 [00:00<00:00,  2.80it/s]\u001b[A\n",
      "Validation DataLoader 0:  75%|███████▌  | 3/4 [00:01<00:00,  2.52it/s]\u001b[A\n",
      "Validation DataLoader 0: 100%|██████████| 4/4 [00:01<00:00,  2.41it/s]\u001b[AEpoch 85: Lr: 0.0000948 | Train Loss: 0.0141069 | Vali Loss: 0.2033536\n",
      "\n",
      "Epoch 85: 100%|██████████| 19/19 [00:24<00:00,  0.76it/s, v_num=2.61e+7, train_loss_step=0.0182, train_loss_epoch=0.0157]"
     ]
    },
    {
     "name": "stderr",
     "output_type": "stream",
     "text": [
      "Epoch 85, global step 1634: 'val_loss' was not in top 1\n"
     ]
    },
    {
     "name": "stdout",
     "output_type": "stream",
     "text": [
      "Epoch 86: 100%|██████████| 19/19 [00:22<00:00,  0.83it/s, v_num=2.61e+7, train_loss_step=0.0286, train_loss_epoch=0.0157] \n",
      "Validation: |          | 0/? [00:00<?, ?it/s]\u001b[A\n",
      "Validation:   0%|          | 0/4 [00:00<?, ?it/s]\u001b[A\n",
      "Validation DataLoader 0:   0%|          | 0/4 [00:00<?, ?it/s]\u001b[A\n",
      "Validation DataLoader 0:  25%|██▌       | 1/4 [00:00<00:00,  4.11it/s]\u001b[A\n",
      "Validation DataLoader 0:  50%|█████     | 2/4 [00:00<00:00,  2.81it/s]\u001b[A\n",
      "Validation DataLoader 0:  75%|███████▌  | 3/4 [00:01<00:00,  2.53it/s]\u001b[A\n",
      "Validation DataLoader 0: 100%|██████████| 4/4 [00:01<00:00,  2.41it/s]\u001b[AEpoch 86: Lr: 0.0000821 | Train Loss: 0.0156677 | Vali Loss: 0.2029413\n",
      "\n",
      "Epoch 86: 100%|██████████| 19/19 [00:24<00:00,  0.76it/s, v_num=2.61e+7, train_loss_step=0.0286, train_loss_epoch=0.0148]"
     ]
    },
    {
     "name": "stderr",
     "output_type": "stream",
     "text": [
      "Epoch 86, global step 1653: 'val_loss' was not in top 1\n"
     ]
    },
    {
     "name": "stdout",
     "output_type": "stream",
     "text": [
      "Epoch 87: 100%|██████████| 19/19 [00:22<00:00,  0.83it/s, v_num=2.61e+7, train_loss_step=0.0142, train_loss_epoch=0.0148] \n",
      "Validation: |          | 0/? [00:00<?, ?it/s]\u001b[A\n",
      "Validation:   0%|          | 0/4 [00:00<?, ?it/s]\u001b[A\n",
      "Validation DataLoader 0:   0%|          | 0/4 [00:00<?, ?it/s]\u001b[A\n",
      "Validation DataLoader 0:  25%|██▌       | 1/4 [00:00<00:00,  4.12it/s]\u001b[A\n",
      "Validation DataLoader 0:  50%|█████     | 2/4 [00:00<00:00,  2.79it/s]\u001b[A\n",
      "Validation DataLoader 0:  75%|███████▌  | 3/4 [00:01<00:00,  2.53it/s]\u001b[A\n",
      "Validation DataLoader 0: 100%|██████████| 4/4 [00:01<00:00,  2.42it/s]\u001b[AEpoch 87: Lr: 0.0000702 | Train Loss: 0.0148038 | Vali Loss: 0.2030216\n",
      "\n",
      "Epoch 87: 100%|██████████| 19/19 [00:24<00:00,  0.76it/s, v_num=2.61e+7, train_loss_step=0.0142, train_loss_epoch=0.0136]"
     ]
    },
    {
     "name": "stderr",
     "output_type": "stream",
     "text": [
      "Epoch 87, global step 1672: 'val_loss' was not in top 1\n"
     ]
    },
    {
     "name": "stdout",
     "output_type": "stream",
     "text": [
      "Epoch 88: 100%|██████████| 19/19 [00:22<00:00,  0.83it/s, v_num=2.61e+7, train_loss_step=0.00961, train_loss_epoch=0.0136]\n",
      "Validation: |          | 0/? [00:00<?, ?it/s]\u001b[A\n",
      "Validation:   0%|          | 0/4 [00:00<?, ?it/s]\u001b[A\n",
      "Validation DataLoader 0:   0%|          | 0/4 [00:00<?, ?it/s]\u001b[A\n",
      "Validation DataLoader 0:  25%|██▌       | 1/4 [00:00<00:00,  4.11it/s]\u001b[A\n",
      "Validation DataLoader 0:  50%|█████     | 2/4 [00:00<00:00,  2.80it/s]\u001b[A\n",
      "Validation DataLoader 0:  75%|███████▌  | 3/4 [00:01<00:00,  2.53it/s]\u001b[A\n",
      "Validation DataLoader 0: 100%|██████████| 4/4 [00:01<00:00,  2.41it/s]\u001b[AEpoch 88: Lr: 0.0000591 | Train Loss: 0.0135702 | Vali Loss: 0.2040358\n",
      "\n",
      "Epoch 88: 100%|██████████| 19/19 [00:24<00:00,  0.76it/s, v_num=2.61e+7, train_loss_step=0.00961, train_loss_epoch=0.0142]"
     ]
    },
    {
     "name": "stderr",
     "output_type": "stream",
     "text": [
      "Epoch 88, global step 1691: 'val_loss' was not in top 1\n"
     ]
    },
    {
     "name": "stdout",
     "output_type": "stream",
     "text": [
      "Epoch 89: 100%|██████████| 19/19 [00:22<00:00,  0.83it/s, v_num=2.61e+7, train_loss_step=0.0146, train_loss_epoch=0.0142] \n",
      "Validation: |          | 0/? [00:00<?, ?it/s]\u001b[A\n",
      "Validation:   0%|          | 0/4 [00:00<?, ?it/s]\u001b[A\n",
      "Validation DataLoader 0:   0%|          | 0/4 [00:00<?, ?it/s]\u001b[A\n",
      "Validation DataLoader 0:  25%|██▌       | 1/4 [00:00<00:00,  4.08it/s]\u001b[A\n",
      "Validation DataLoader 0:  50%|█████     | 2/4 [00:00<00:00,  2.79it/s]\u001b[A\n",
      "Validation DataLoader 0:  75%|███████▌  | 3/4 [00:01<00:00,  2.53it/s]\u001b[A\n",
      "Validation DataLoader 0: 100%|██████████| 4/4 [00:01<00:00,  2.41it/s]\u001b[AEpoch 89: Lr: 0.0000490 | Train Loss: 0.0141758 | Vali Loss: 0.2028347\n",
      "\n",
      "Epoch 89: 100%|██████████| 19/19 [00:24<00:00,  0.76it/s, v_num=2.61e+7, train_loss_step=0.0146, train_loss_epoch=0.0136]"
     ]
    },
    {
     "name": "stderr",
     "output_type": "stream",
     "text": [
      "Epoch 89, global step 1710: 'val_loss' was not in top 1\n"
     ]
    },
    {
     "name": "stdout",
     "output_type": "stream",
     "text": [
      "Epoch 90: 100%|██████████| 19/19 [00:22<00:00,  0.83it/s, v_num=2.61e+7, train_loss_step=0.0149, train_loss_epoch=0.0136] \n",
      "Validation: |          | 0/? [00:00<?, ?it/s]\u001b[A\n",
      "Validation:   0%|          | 0/4 [00:00<?, ?it/s]\u001b[A\n",
      "Validation DataLoader 0:   0%|          | 0/4 [00:00<?, ?it/s]\u001b[A\n",
      "Validation DataLoader 0:  25%|██▌       | 1/4 [00:00<00:00,  4.12it/s]\u001b[A\n",
      "Validation DataLoader 0:  50%|█████     | 2/4 [00:00<00:00,  2.81it/s]\u001b[A\n",
      "Validation DataLoader 0:  75%|███████▌  | 3/4 [00:01<00:00,  2.53it/s]\u001b[A\n",
      "Validation DataLoader 0: 100%|██████████| 4/4 [00:01<00:00,  2.42it/s]\u001b[AEpoch 90: Lr: 0.0000398 | Train Loss: 0.0136153 | Vali Loss: 0.2037720\n",
      "\n",
      "Epoch 90: 100%|██████████| 19/19 [00:24<00:00,  0.76it/s, v_num=2.61e+7, train_loss_step=0.0149, train_loss_epoch=0.0137]"
     ]
    },
    {
     "name": "stderr",
     "output_type": "stream",
     "text": [
      "Epoch 90, global step 1729: 'val_loss' was not in top 1\n"
     ]
    },
    {
     "name": "stdout",
     "output_type": "stream",
     "text": [
      "Epoch 91: 100%|██████████| 19/19 [00:22<00:00,  0.83it/s, v_num=2.61e+7, train_loss_step=0.0225, train_loss_epoch=0.0137]\n",
      "Validation: |          | 0/? [00:00<?, ?it/s]\u001b[A\n",
      "Validation:   0%|          | 0/4 [00:00<?, ?it/s]\u001b[A\n",
      "Validation DataLoader 0:   0%|          | 0/4 [00:00<?, ?it/s]\u001b[A\n",
      "Validation DataLoader 0:  25%|██▌       | 1/4 [00:00<00:00,  4.09it/s]\u001b[A\n",
      "Validation DataLoader 0:  50%|█████     | 2/4 [00:00<00:00,  2.76it/s]\u001b[A\n",
      "Validation DataLoader 0:  75%|███████▌  | 3/4 [00:01<00:00,  2.49it/s]\u001b[A\n",
      "Validation DataLoader 0: 100%|██████████| 4/4 [00:01<00:00,  2.38it/s]\u001b[AEpoch 91: Lr: 0.0000315 | Train Loss: 0.0137337 | Vali Loss: 0.2036415\n",
      "\n",
      "Epoch 91: 100%|██████████| 19/19 [00:24<00:00,  0.76it/s, v_num=2.61e+7, train_loss_step=0.0225, train_loss_epoch=0.0136]"
     ]
    },
    {
     "name": "stderr",
     "output_type": "stream",
     "text": [
      "Epoch 91, global step 1748: 'val_loss' was not in top 1\n"
     ]
    },
    {
     "name": "stdout",
     "output_type": "stream",
     "text": [
      "Epoch 92: 100%|██████████| 19/19 [00:22<00:00,  0.84it/s, v_num=2.61e+7, train_loss_step=0.0158, train_loss_epoch=0.0136] \n",
      "Validation: |          | 0/? [00:00<?, ?it/s]\u001b[A\n",
      "Validation:   0%|          | 0/4 [00:00<?, ?it/s]\u001b[A\n",
      "Validation DataLoader 0:   0%|          | 0/4 [00:00<?, ?it/s]\u001b[A\n",
      "Validation DataLoader 0:  25%|██▌       | 1/4 [00:00<00:00,  4.12it/s]\u001b[A\n",
      "Validation DataLoader 0:  50%|█████     | 2/4 [00:00<00:00,  2.82it/s]\u001b[A\n",
      "Validation DataLoader 0:  75%|███████▌  | 3/4 [00:01<00:00,  2.54it/s]\u001b[A\n",
      "Validation DataLoader 0: 100%|██████████| 4/4 [00:01<00:00,  2.42it/s]\u001b[AEpoch 92: Lr: 0.0000241 | Train Loss: 0.0136277 | Vali Loss: 0.2035542\n",
      "\n",
      "Epoch 92: 100%|██████████| 19/19 [00:24<00:00,  0.77it/s, v_num=2.61e+7, train_loss_step=0.0158, train_loss_epoch=0.0142]"
     ]
    },
    {
     "name": "stderr",
     "output_type": "stream",
     "text": [
      "Epoch 92, global step 1767: 'val_loss' was not in top 1\n"
     ]
    },
    {
     "name": "stdout",
     "output_type": "stream",
     "text": [
      "Epoch 93: 100%|██████████| 19/19 [00:22<00:00,  0.83it/s, v_num=2.61e+7, train_loss_step=0.012, train_loss_epoch=0.0142]  \n",
      "Validation: |          | 0/? [00:00<?, ?it/s]\u001b[A\n",
      "Validation:   0%|          | 0/4 [00:00<?, ?it/s]\u001b[A\n",
      "Validation DataLoader 0:   0%|          | 0/4 [00:00<?, ?it/s]\u001b[A\n",
      "Validation DataLoader 0:  25%|██▌       | 1/4 [00:00<00:00,  4.12it/s]\u001b[A\n",
      "Validation DataLoader 0:  50%|█████     | 2/4 [00:00<00:00,  2.80it/s]\u001b[A\n",
      "Validation DataLoader 0:  75%|███████▌  | 3/4 [00:01<00:00,  2.51it/s]\u001b[A\n",
      "Validation DataLoader 0: 100%|██████████| 4/4 [00:01<00:00,  2.40it/s]\u001b[AEpoch 93: Lr: 0.0000177 | Train Loss: 0.0141781 | Vali Loss: 0.2037016\n",
      "\n",
      "Epoch 93: 100%|██████████| 19/19 [00:24<00:00,  0.76it/s, v_num=2.61e+7, train_loss_step=0.012, train_loss_epoch=0.014] "
     ]
    },
    {
     "name": "stderr",
     "output_type": "stream",
     "text": [
      "Epoch 93, global step 1786: 'val_loss' was not in top 1\n"
     ]
    },
    {
     "name": "stdout",
     "output_type": "stream",
     "text": [
      "Epoch 94: 100%|██████████| 19/19 [00:22<00:00,  0.83it/s, v_num=2.61e+7, train_loss_step=0.0153, train_loss_epoch=0.014] \n",
      "Validation: |          | 0/? [00:00<?, ?it/s]\u001b[A\n",
      "Validation:   0%|          | 0/4 [00:00<?, ?it/s]\u001b[A\n",
      "Validation DataLoader 0:   0%|          | 0/4 [00:00<?, ?it/s]\u001b[A\n",
      "Validation DataLoader 0:  25%|██▌       | 1/4 [00:00<00:00,  4.12it/s]\u001b[A\n",
      "Validation DataLoader 0:  50%|█████     | 2/4 [00:00<00:00,  2.80it/s]\u001b[A\n",
      "Validation DataLoader 0:  75%|███████▌  | 3/4 [00:01<00:00,  2.53it/s]\u001b[A\n",
      "Validation DataLoader 0: 100%|██████████| 4/4 [00:01<00:00,  2.42it/s]\u001b[AEpoch 94: Lr: 0.0000123 | Train Loss: 0.0140060 | Vali Loss: 0.2037819\n",
      "\n",
      "Epoch 94: 100%|██████████| 19/19 [00:24<00:00,  0.76it/s, v_num=2.61e+7, train_loss_step=0.0153, train_loss_epoch=0.0135]"
     ]
    },
    {
     "name": "stderr",
     "output_type": "stream",
     "text": [
      "Epoch 94, global step 1805: 'val_loss' was not in top 1\n"
     ]
    },
    {
     "name": "stdout",
     "output_type": "stream",
     "text": [
      "Epoch 95: 100%|██████████| 19/19 [00:22<00:00,  0.83it/s, v_num=2.61e+7, train_loss_step=0.013, train_loss_epoch=0.0135]  \n",
      "Validation: |          | 0/? [00:00<?, ?it/s]\u001b[A\n",
      "Validation:   0%|          | 0/4 [00:00<?, ?it/s]\u001b[A\n",
      "Validation DataLoader 0:   0%|          | 0/4 [00:00<?, ?it/s]\u001b[A\n",
      "Validation DataLoader 0:  25%|██▌       | 1/4 [00:00<00:00,  4.11it/s]\u001b[A\n",
      "Validation DataLoader 0:  50%|█████     | 2/4 [00:00<00:00,  2.79it/s]\u001b[A\n",
      "Validation DataLoader 0:  75%|███████▌  | 3/4 [00:01<00:00,  2.52it/s]\u001b[A\n",
      "Validation DataLoader 0: 100%|██████████| 4/4 [00:01<00:00,  2.41it/s]\u001b[AEpoch 95: Lr: 0.0000078 | Train Loss: 0.0135412 | Vali Loss: 0.2037283\n",
      "\n",
      "Epoch 95: 100%|██████████| 19/19 [00:24<00:00,  0.76it/s, v_num=2.61e+7, train_loss_step=0.013, train_loss_epoch=0.0134]"
     ]
    },
    {
     "name": "stderr",
     "output_type": "stream",
     "text": [
      "Epoch 95, global step 1824: 'val_loss' was not in top 1\n"
     ]
    },
    {
     "name": "stdout",
     "output_type": "stream",
     "text": [
      "Epoch 96: 100%|██████████| 19/19 [00:22<00:00,  0.83it/s, v_num=2.61e+7, train_loss_step=0.0148, train_loss_epoch=0.0134] \n",
      "Validation: |          | 0/? [00:00<?, ?it/s]\u001b[A\n",
      "Validation:   0%|          | 0/4 [00:00<?, ?it/s]\u001b[A\n",
      "Validation DataLoader 0:   0%|          | 0/4 [00:00<?, ?it/s]\u001b[A\n",
      "Validation DataLoader 0:  25%|██▌       | 1/4 [00:00<00:00,  4.13it/s]\u001b[A\n",
      "Validation DataLoader 0:  50%|█████     | 2/4 [00:00<00:00,  2.81it/s]\u001b[A\n",
      "Validation DataLoader 0:  75%|███████▌  | 3/4 [00:01<00:00,  2.54it/s]\u001b[A\n",
      "Validation DataLoader 0: 100%|██████████| 4/4 [00:01<00:00,  2.42it/s]\u001b[AEpoch 96: Lr: 0.0000044 | Train Loss: 0.0134285 | Vali Loss: 0.2036916\n",
      "\n",
      "Epoch 96: 100%|██████████| 19/19 [00:24<00:00,  0.76it/s, v_num=2.61e+7, train_loss_step=0.0148, train_loss_epoch=0.0147]"
     ]
    },
    {
     "name": "stderr",
     "output_type": "stream",
     "text": [
      "Epoch 96, global step 1843: 'val_loss' was not in top 1\n"
     ]
    },
    {
     "name": "stdout",
     "output_type": "stream",
     "text": [
      "Epoch 97: 100%|██████████| 19/19 [00:22<00:00,  0.83it/s, v_num=2.61e+7, train_loss_step=0.00876, train_loss_epoch=0.0147]\n",
      "Validation: |          | 0/? [00:00<?, ?it/s]\u001b[A\n",
      "Validation:   0%|          | 0/4 [00:00<?, ?it/s]\u001b[A\n",
      "Validation DataLoader 0:   0%|          | 0/4 [00:00<?, ?it/s]\u001b[A\n",
      "Validation DataLoader 0:  25%|██▌       | 1/4 [00:00<00:00,  4.12it/s]\u001b[A\n",
      "Validation DataLoader 0:  50%|█████     | 2/4 [00:00<00:00,  2.82it/s]\u001b[A\n",
      "Validation DataLoader 0:  75%|███████▌  | 3/4 [00:01<00:00,  2.54it/s]\u001b[A\n",
      "Validation DataLoader 0: 100%|██████████| 4/4 [00:01<00:00,  2.42it/s]\u001b[AEpoch 97: Lr: 0.0000019 | Train Loss: 0.0146853 | Vali Loss: 0.2037934\n",
      "\n",
      "Epoch 97: 100%|██████████| 19/19 [00:24<00:00,  0.76it/s, v_num=2.61e+7, train_loss_step=0.00876, train_loss_epoch=0.0134]"
     ]
    },
    {
     "name": "stderr",
     "output_type": "stream",
     "text": [
      "Epoch 97, global step 1862: 'val_loss' was not in top 1\n"
     ]
    },
    {
     "name": "stdout",
     "output_type": "stream",
     "text": [
      "Epoch 98: 100%|██████████| 19/19 [00:22<00:00,  0.83it/s, v_num=2.61e+7, train_loss_step=0.0202, train_loss_epoch=0.0134] \n",
      "Validation: |          | 0/? [00:00<?, ?it/s]\u001b[A\n",
      "Validation:   0%|          | 0/4 [00:00<?, ?it/s]\u001b[A\n",
      "Validation DataLoader 0:   0%|          | 0/4 [00:00<?, ?it/s]\u001b[A\n",
      "Validation DataLoader 0:  25%|██▌       | 1/4 [00:00<00:00,  4.13it/s]\u001b[A\n",
      "Validation DataLoader 0:  50%|█████     | 2/4 [00:00<00:00,  2.80it/s]\u001b[A\n",
      "Validation DataLoader 0:  75%|███████▌  | 3/4 [00:01<00:00,  2.54it/s]\u001b[A\n",
      "Validation DataLoader 0: 100%|██████████| 4/4 [00:01<00:00,  2.42it/s]\u001b[AEpoch 98: Lr: 0.0000005 | Train Loss: 0.0133968 | Vali Loss: 0.2038201\n",
      "\n",
      "Epoch 98: 100%|██████████| 19/19 [00:24<00:00,  0.76it/s, v_num=2.61e+7, train_loss_step=0.0202, train_loss_epoch=0.0141]"
     ]
    },
    {
     "name": "stderr",
     "output_type": "stream",
     "text": [
      "Epoch 98, global step 1881: 'val_loss' was not in top 1\n"
     ]
    },
    {
     "name": "stdout",
     "output_type": "stream",
     "text": [
      "Epoch 99: 100%|██████████| 19/19 [00:22<00:00,  0.83it/s, v_num=2.61e+7, train_loss_step=0.0132, train_loss_epoch=0.0141] \n",
      "Validation: |          | 0/? [00:00<?, ?it/s]\u001b[A\n",
      "Validation:   0%|          | 0/4 [00:00<?, ?it/s]\u001b[A\n",
      "Validation DataLoader 0:   0%|          | 0/4 [00:00<?, ?it/s]\u001b[A\n",
      "Validation DataLoader 0:  25%|██▌       | 1/4 [00:00<00:00,  4.09it/s]\u001b[A\n",
      "Validation DataLoader 0:  50%|█████     | 2/4 [00:00<00:00,  2.80it/s]\u001b[A\n",
      "Validation DataLoader 0:  75%|███████▌  | 3/4 [00:01<00:00,  2.52it/s]\u001b[A\n",
      "Validation DataLoader 0: 100%|██████████| 4/4 [00:01<00:00,  2.41it/s]\u001b[AEpoch 99: Lr: 0.0000000 | Train Loss: 0.0140901 | Vali Loss: 0.2038120\n",
      "\n",
      "Epoch 99: 100%|██████████| 19/19 [00:24<00:00,  0.76it/s, v_num=2.61e+7, train_loss_step=0.0132, train_loss_epoch=0.0139]"
     ]
    },
    {
     "name": "stderr",
     "output_type": "stream",
     "text": [
      "Epoch 99, global step 1900: 'val_loss' was not in top 1\n",
      "`Trainer.fit` stopped: `max_epochs=100` reached.\n"
     ]
    },
    {
     "name": "stdout",
     "output_type": "stream",
     "text": [
      "Epoch 99: 100%|██████████| 19/19 [00:25<00:00,  0.75it/s, v_num=2.61e+7, train_loss_step=0.0132, train_loss_epoch=0.0139]\n",
      ">>>>>>>>>>>>>>>>>>>>>>>>>>>>>>>>>>> testing  <<<<<<<<<<<<<<<<<<<<<<<<<<<<<<<<<<<\n"
     ]
    },
    {
     "name": "stderr",
     "output_type": "stream",
     "text": [
      "LOCAL_RANK: 0 - CUDA_VISIBLE_DEVICES: [0]\n"
     ]
    },
    {
     "name": "stdout",
     "output_type": "stream",
     "text": [
      "Testing DataLoader 0: 100%|██████████| 5/5 [00:01<00:00,  4.04it/s]MSE Loss: 40.008888\n",
      "MAE Loss: 181.627304\n",
      "PERCEPTUAL Loss: 0.247114\n",
      "\n",
      "Testing DataLoader 0: 100%|██████████| 5/5 [00:02<00:00,  2.04it/s]\n"
     ]
    }
   ],
   "source": [
    "torch.set_float32_matmul_precision('high')\n",
    "\n",
    "print('>'*35 + ' training ' + '<'*35)\n",
    "exp.train()\n",
    "\n",
    "print('>'*35 + ' testing  ' + '<'*35)\n",
    "exp.test()"
   ]
  },
  {
   "cell_type": "code",
   "execution_count": 12,
   "metadata": {},
   "outputs": [],
   "source": [
    "import numpy as np\n",
    "from openstl.utils import show_video_line\n",
    "\n",
    "# Load the inputs, predictions, and true values\n",
    "inputs = np.load('./work_dirs/custom_exp/saved/inputs.npy')\n",
    "preds = np.load('./work_dirs/custom_exp/saved/preds.npy')\n",
    "trues = np.load('./work_dirs/custom_exp/saved/trues.npy')"
   ]
  },
  {
   "cell_type": "code",
   "execution_count": 13,
   "metadata": {},
   "outputs": [
    {
     "data": {
      "image/png": "[encoded data removed]",
      "text/plain": [
       "<Figure size 3250x300 with 10 Axes>"
      ]
     },
     "metadata": {},
     "output_type": "display_data"
    },
    {
     "data": {
      "image/png": "[encoded data removed]",
      "text/plain": [
       "<Figure size 6500x300 with 20 Axes>"
      ]
     },
     "metadata": {},
     "output_type": "display_data"
    },
    {
     "data": {
      "image/png": "[encoded data removed]",
      "text/plain": [
       "<Figure size 6500x300 with 20 Axes>"
      ]
     },
     "metadata": {},
     "output_type": "display_data"
    }
   ],
   "source": [
    "# Generate a random index for the example\n",
    "example_idx = np.random.randint(0, len(inputs))\n",
    "\n",
    "# Show the frames for the input, prediction, and ground truth\n",
    "show_video_line(inputs[example_idx], ncols=10, vmax=0.6, cbar=False, out_path=None, format='png', use_rgb=False)\n",
    "show_video_line(preds[example_idx], ncols=20, vmax=0.6, cbar=False, out_path=None, format='png', use_rgb=False)\n",
    "show_video_line(trues[example_idx], ncols=20, vmax=0.6, cbar=False, out_path=None, format='png', use_rgb=False)"
   ]
  },
  {
   "cell_type": "code",
   "execution_count": 14,
   "metadata": {},
   "outputs": [
    {
     "name": "stdout",
     "output_type": "stream",
     "text": [
      "Average Error: 2.7923%\n",
      "Max error index: 159\n"
     ]
    },
    {
     "data": {
      "image/png": "[encoded data removed]",
      "text/plain": [
       "<Figure size 640x480 with 1 Axes>"
      ]
     },
     "metadata": {},
     "output_type": "display_data"
    }
   ],
   "source": [
    "import numpy as np\n",
    "import matplotlib.pyplot as plt\n",
    "\n",
    "def ComputeTestError(prediction, target):\n",
    "    num_pixels = np.prod(target.shape)\n",
    "    squared_error = np.sum((target - prediction) ** 2) / num_pixels\n",
    "    phi_gt_max = np.max(target)\n",
    "    phi_gt_min = np.min(target)\n",
    "    mre = np.sqrt(squared_error) / (phi_gt_max - phi_gt_min) * 100\n",
    "    \n",
    "    return mre\n",
    "\n",
    "def TestErrorPlot(pred, true, figsize=(10, 6), dpi=200, out_path=\"./statistics_testdata.png\"):\n",
    "    \"\"\"Plot the test error for the given predictions and true data, save as PNG.\"\"\"\n",
    "    error_List = []\n",
    "    testID_List = []\n",
    "    count = 1\n",
    "\n",
    "    # Get the number of cases and number of comparisons from pred.shape\n",
    "    num_cases = pred.shape[0]\n",
    "    num_comparisons = pred.shape[1]\n",
    "\n",
    "    # Loop through each case in the prediction and true arrays\n",
    "    for i in range(num_cases):\n",
    "        # Use a qualitative colormap for contrasting colors (e.g., tab20 colormap)\n",
    "        color = plt.cm.tab20(i % 20)  # Ensures up to 20 distinct colors\n",
    "        \n",
    "        # For each case, we calculate the error for all comparisons (inferred from pred.shape[1])\n",
    "        for j in range(num_comparisons):\n",
    "            # Compute test error for each comparison\n",
    "            tmp_error = ComputeTestError(pred[i, j], true[i, j])\n",
    "            error_List.append(tmp_error)\n",
    "            testID_List.append(count)\n",
    "\n",
    "            # Vary transparency (alpha) based on comparison position in the case\n",
    "            alpha_value = (j + 1) / num_comparisons  # Later points are more transparent\n",
    "            plt.plot(count, tmp_error, 'o', color=color, markersize=4, alpha=alpha_value)\n",
    "            count += 1\n",
    "\n",
    "    # Convert lists to numpy arrays\n",
    "    testID_List = np.asarray(testID_List)\n",
    "    error_List = np.asarray(error_List)\n",
    "    avg_error = np.average(error_List)\n",
    "    \n",
    "    # Plot the average error line across all cases\n",
    "    plt.axhline(avg_error, color='red', linestyle='--', linewidth=2, label=f'Average Error: {avg_error:.4f}%')\n",
    "\n",
    "    # Add labels and title\n",
    "    plt.xlabel('Samples (color = case, darker = later prediction)', fontsize=12)\n",
    "    plt.ylabel('Mean Relative Error (%)', fontsize=12)\n",
    "    plt.title('Accuracy Statistics Plot for Test Dataset', fontsize=14)\n",
    "\n",
    "    # Add gridlines for better readability\n",
    "    plt.grid(True)\n",
    "\n",
    "    # Add a legend for the average error\n",
    "    plt.legend(loc='upper right', fontsize=8)  # Smaller legend font size\n",
    "    \n",
    "    # Save the figure with the specified size and resolution\n",
    "    plt.tight_layout()\n",
    "    plt.savefig(out_path, dpi=dpi, format='png')\n",
    "\n",
    "    # Display the average error in the terminal\n",
    "    print(f'Average Error: {avg_error:.4f}%')\n",
    "    print(f'Max error index: {np.argmax(error_List)}')\n",
    "\n",
    "# Call the TestErrorPlot function\n",
    "TestErrorPlot(preds, trues, figsize=(20, 8), dpi=300, out_path=\"./test_error_plot.png\")\n"
   ]
  },
  {
   "cell_type": "code",
   "execution_count": 15,
   "metadata": {},
   "outputs": [],
   "source": [
    "import numpy as np\n",
    "import matplotlib.pyplot as plt\n",
    "import cv2\n",
    "import os\n",
    "import imageio\n",
    "\n",
    "def show_video_gif_multiple_withError(prev, true, pred, vmax=1.0, vmin=0.0, cmap='jet', norm=None, out_path=None, use_rgb=False):\n",
    "    \"\"\"Generate gif with a video sequence and plot absolute error along with mean relative error using provided MRE formula.\"\"\"\n",
    "    \n",
    "    def swap_axes(x):\n",
    "        if len(x.shape) > 3:\n",
    "            return x.swapaxes(1, 2).swapaxes(2, 3)\n",
    "        else:\n",
    "            return x\n",
    "\n",
    "    prev, true, pred = map(swap_axes, [prev, true, pred])\n",
    "    prev_frames = prev.shape[0]\n",
    "    frames = prev_frames + true.shape[0]\n",
    "    images = []\n",
    "    \n",
    "    for i in range(frames):\n",
    "        fig, axes = plt.subplots(nrows=1, ncols=3, figsize=(18, 9))  # Larger figsize for higher resolution\n",
    "        for t, ax in enumerate(axes):\n",
    "            if t == 0:\n",
    "                plt.text(0.3, 1.05, 'Ground Truth', fontsize=15, color='green', transform=ax.transAxes)\n",
    "                if i < prev_frames:\n",
    "                    frame = prev[i]\n",
    "                else:\n",
    "                    frame = true[i - prev_frames]\n",
    "                im = ax.imshow(frame, cmap=cmap, norm=norm, vmin=vmin, vmax=vmax)\n",
    "                cbar = fig.colorbar(im, ax=ax, fraction=0.046, pad=0.04, aspect=10)\n",
    "                cbar.ax.tick_params(labelsize=8)\n",
    "                cbar.set_label('Pixel Value', fontsize=10)\n",
    "                \n",
    "            elif t == 1:\n",
    "                plt.text(0.2, 1.05, 'Predicted Frames', fontsize=15, color='red', transform=ax.transAxes)\n",
    "                if i < prev_frames:\n",
    "                    frame = prev[i]\n",
    "                else:\n",
    "                    frame = pred[i - prev_frames]\n",
    "                im = ax.imshow(frame, cmap=cmap, norm=norm, vmin=vmin, vmax=vmax)\n",
    "                cbar = fig.colorbar(im, ax=ax, fraction=0.046, pad=0.04, aspect=10)\n",
    "                cbar.ax.tick_params(labelsize=8)\n",
    "                cbar.set_label('Pixel Value', fontsize=10)\n",
    "                \n",
    "            elif t == 2:\n",
    "                plt.text(0.2, 1.05, 'Absolute Error', fontsize=15, color='blue', transform=ax.transAxes)\n",
    "                if i < prev_frames:\n",
    "                    # Plot prev - prev (which should result in all zeros)\n",
    "                    abs_error = np.zeros_like(prev[i])\n",
    "                    mre = 0.0  # No error, as we are comparing the same frames\n",
    "                else:\n",
    "                    # Plot absolute error for the remaining frames\n",
    "                    abs_error = np.abs(true[i - prev_frames] - pred[i - prev_frames])\n",
    "                    \n",
    "                    # Calculate MRE using the provided formula\n",
    "                    phi_gt = true[i - prev_frames]\n",
    "                    phi_pred = pred[i - prev_frames]\n",
    "                    num_pixels = np.prod(phi_gt.shape)\n",
    "                    squared_error = np.sum((phi_gt - phi_pred) ** 2) / num_pixels\n",
    "                    phi_gt_max = np.max(phi_gt)\n",
    "                    phi_gt_min = np.min(phi_gt)\n",
    "                    mre = np.sqrt(squared_error) / (phi_gt_max - phi_gt_min) * 100\n",
    "\n",
    "                im = ax.imshow(abs_error, cmap=cmap, norm=norm, vmin=vmin, vmax=vmax)\n",
    "                cbar = fig.colorbar(im, ax=ax, fraction=0.046, pad=0.04, aspect=10)\n",
    "                cbar.ax.tick_params(labelsize=8)\n",
    "                cbar.set_label('Absolute Error', fontsize=10)\n",
    "                \n",
    "                # Use ax.text() to manually place MRE below the third subplot\n",
    "                ax.text(0.5, -0.1, f'Mean Relative Error: {mre:.4f}%', \n",
    "                        fontsize=12, color='blue', ha='center', transform=ax.transAxes)\n",
    "\n",
    "            ax.axis('off')\n",
    "        \n",
    "        # Save the frame to the temporary image and append to images list for GIF creation\n",
    "        plt.savefig(f'./tmp_frame_{i}.png', bbox_inches='tight', format='png', dpi=300)  # Higher DPI\n",
    "        images.append(imageio.imread(f'./tmp_frame_{i}.png'))\n",
    "        plt.close()\n",
    "\n",
    "    # Remove temporary files after GIF creation\n",
    "    if out_path is not None:\n",
    "        if not out_path.endswith('gif'):\n",
    "            out_path = out_path + '.gif'\n",
    "        \n",
    "        # Create GIF using the frames and set it to loop infinitely (loop=0)\n",
    "        imageio.mimsave(out_path, images, duration=0.1, loop=0)  # loop=0 for infinite looping GIF\n",
    "\n",
    "    # Optionally, clean up the temporary files after GIF creation\n",
    "    for i in range(frames):\n",
    "        os.remove(f'./tmp_frame_{i}.png')\n"
   ]
  },
  {
   "cell_type": "code",
   "execution_count": 16,
   "metadata": {},
   "outputs": [
    {
     "name": "stdout",
     "output_type": "stream",
     "text": [
      "GIF saved as ./prediction_gif/example_0.gif\n",
      "GIF saved as ./prediction_gif/example_1.gif\n",
      "GIF saved as ./prediction_gif/example_2.gif\n",
      "GIF saved as ./prediction_gif/example_3.gif\n",
      "GIF saved as ./prediction_gif/example_4.gif\n",
      "GIF saved as ./prediction_gif/example_5.gif\n",
      "GIF saved as ./prediction_gif/example_6.gif\n",
      "GIF saved as ./prediction_gif/example_7.gif\n",
      "GIF saved as ./prediction_gif/example_8.gif\n",
      "GIF saved as ./prediction_gif/example_9.gif\n",
      "GIF saved as ./prediction_gif/example_10.gif\n",
      "GIF saved as ./prediction_gif/example_11.gif\n",
      "GIF saved as ./prediction_gif/example_12.gif\n",
      "GIF saved as ./prediction_gif/example_13.gif\n",
      "GIF saved as ./prediction_gif/example_14.gif\n",
      "GIF saved as ./prediction_gif/example_15.gif\n",
      "GIF saved as ./prediction_gif/example_16.gif\n",
      "GIF saved as ./prediction_gif/example_17.gif\n",
      "GIF saved as ./prediction_gif/example_18.gif\n",
      "GIF saved as ./prediction_gif/example_19.gif\n",
      "GIF saved as ./prediction_gif/example_20.gif\n"
     ]
    }
   ],
   "source": [
    "# # Import the function for generating GIFs\n",
    "# from openstl.utils import show_video_gif_multiple\n",
    "\n",
    "for i in range(len(inputs)):\n",
    "    example_idx = i\n",
    "\n",
    "    # Modify the output filename to include the random index\n",
    "    output_gif_filename = f'./prediction_gif/example_{example_idx}.gif'\n",
    "    # show_video_gif_multiple(inputs[example_idx], trues[example_idx], preds[example_idx], out_path=output_gif_filename)\n",
    "    show_video_gif_multiple_withError(inputs[example_idx], trues[example_idx], preds[example_idx], out_path=output_gif_filename)\n",
    "\n",
    "    print(f\"GIF saved as {output_gif_filename}\")"
   ]
  },
  {
   "cell_type": "code",
   "execution_count": 17,
   "metadata": {},
   "outputs": [
    {
     "name": "stdout",
     "output_type": "stream",
     "text": [
      "Figure saved as prediction_gif/example_0.png\n",
      "Figure saved as example_0.png in prediction_gif folder\n",
      "Figure saved as prediction_gif/example_1.png\n",
      "Figure saved as example_1.png in prediction_gif folder\n",
      "Figure saved as prediction_gif/example_2.png\n",
      "Figure saved as example_2.png in prediction_gif folder\n",
      "Figure saved as prediction_gif/example_3.png\n",
      "Figure saved as example_3.png in prediction_gif folder\n",
      "Figure saved as prediction_gif/example_4.png\n",
      "Figure saved as example_4.png in prediction_gif folder\n",
      "Figure saved as prediction_gif/example_5.png\n",
      "Figure saved as example_5.png in prediction_gif folder\n",
      "Figure saved as prediction_gif/example_6.png\n",
      "Figure saved as example_6.png in prediction_gif folder\n",
      "Figure saved as prediction_gif/example_7.png\n",
      "Figure saved as example_7.png in prediction_gif folder\n",
      "Figure saved as prediction_gif/example_8.png\n",
      "Figure saved as example_8.png in prediction_gif folder\n",
      "Figure saved as prediction_gif/example_9.png\n",
      "Figure saved as example_9.png in prediction_gif folder\n",
      "Figure saved as prediction_gif/example_10.png\n",
      "Figure saved as example_10.png in prediction_gif folder\n",
      "Figure saved as prediction_gif/example_11.png\n",
      "Figure saved as example_11.png in prediction_gif folder\n",
      "Figure saved as prediction_gif/example_12.png\n",
      "Figure saved as example_12.png in prediction_gif folder\n",
      "Figure saved as prediction_gif/example_13.png\n",
      "Figure saved as example_13.png in prediction_gif folder\n",
      "Figure saved as prediction_gif/example_14.png\n",
      "Figure saved as example_14.png in prediction_gif folder\n",
      "Figure saved as prediction_gif/example_15.png\n",
      "Figure saved as example_15.png in prediction_gif folder\n",
      "Figure saved as prediction_gif/example_16.png\n",
      "Figure saved as example_16.png in prediction_gif folder\n",
      "Figure saved as prediction_gif/example_17.png\n",
      "Figure saved as example_17.png in prediction_gif folder\n",
      "Figure saved as prediction_gif/example_18.png\n",
      "Figure saved as example_18.png in prediction_gif folder\n",
      "Figure saved as prediction_gif/example_19.png\n",
      "Figure saved as example_19.png in prediction_gif folder\n",
      "Figure saved as prediction_gif/example_20.png\n",
      "Figure saved as example_20.png in prediction_gif folder\n"
     ]
    }
   ],
   "source": [
    "import numpy as np\n",
    "import matplotlib.pyplot as plt\n",
    "import os\n",
    "import imageio\n",
    "\n",
    "def show_video_gif_multiple_withError(prev, true, pred, vmax=1.0, vmin=0.0, cmap='jet', norm=None, out_path=None, use_rgb=False):\n",
    "    \"\"\"Generate a 3-row figure with ground truth, prediction, and error, handling initial 10 frames in prev and subsequent 20 frames in true/pred.\"\"\"\n",
    "    \n",
    "    def swap_axes(x):\n",
    "        if len(x.shape) > 3:\n",
    "            return x.swapaxes(1, 2).swapaxes(2, 3)\n",
    "        else:\n",
    "            return x\n",
    "\n",
    "    prev, true, pred = map(swap_axes, [prev, true, pred])\n",
    "    prev_frames = prev.shape[0]  # prev contains the first 10 frames\n",
    "    true_frames = true.shape[0]  # true contains the next 20 frames\n",
    "    pred_frames = pred.shape[0]  # pred contains the next 20 frames\n",
    "\n",
    "    # Sample ground truth: 3 frames from 0-9 in prev, 5 frames from 10-29 in true\n",
    "    sampled_gt_indices_prev = [0, 5, 9]  # Frames 0, 5, 9 from prev\n",
    "    sampled_gt_indices_true = list(np.linspace(10, 29, 5, dtype=int))  # 5 frames from true (10-29)\n",
    "    \n",
    "    # Sample prediction: 5 frames from pred (10-29)\n",
    "    sampled_pred_indices = list(np.linspace(0, pred_frames - 1, 5, dtype=int))  # Sampling within pred frames (0 to 19 in pred)\n",
    "\n",
    "    # Ensure output directory exists\n",
    "    if not os.path.exists('prediction_gif'):\n",
    "        os.makedirs('prediction_gif')\n",
    "    \n",
    "    fig, axes = plt.subplots(nrows=3, ncols=8, figsize=(24, 7))  # 3 rows, 8 columns\n",
    "    fig.subplots_adjust(hspace=0.1, wspace=0.05)  # Reduce the white space between subplots\n",
    "\n",
    "    for row, ax_row in enumerate(axes):\n",
    "        if row == 0:  # Ground Truth Row\n",
    "            for i, ax in enumerate(ax_row):\n",
    "                if i < 3:\n",
    "                    # Plot frames from 0-9 from prev (first 3)\n",
    "                    frame = prev[sampled_gt_indices_prev[i]]\n",
    "                    ax.imshow(frame, cmap=cmap, norm=norm, vmin=vmin, vmax=vmax)\n",
    "                    ax.set_title(f'Input {sampled_gt_indices_prev[i]}', fontsize=10)  # Smaller font size\n",
    "                else:\n",
    "                    # Plot 5 sampled frames from 10-29 from true\n",
    "                    frame = true[sampled_gt_indices_true[i-3] - 10]  # Offset by -10 to match true frames starting from 10\n",
    "                    ax.imshow(frame, cmap=cmap, norm=norm, vmin=vmin, vmax=vmax)\n",
    "                    ax.set_title(f'Ground Truth {sampled_gt_indices_true[i-3]}', fontsize=10)  # Smaller font size\n",
    "                \n",
    "                # Remove x and y axis numbers\n",
    "                ax.set_xticks([])  # Remove x-axis numbers\n",
    "                ax.set_yticks([])  # Remove y-axis numbers\n",
    "        \n",
    "        elif row == 1:  # Prediction Row\n",
    "            for i, ax in enumerate(ax_row):\n",
    "                if i < 3:\n",
    "                    # Leave first 3 subplots empty for predictions (since pred starts at frame 10)\n",
    "                    ax.axis('off')\n",
    "                else:\n",
    "                    # Plot 5 sampled frames from pred (10-29 in true corresponds to 0-19 in pred)\n",
    "                    frame = pred[sampled_pred_indices[i-3]]\n",
    "                    ax.imshow(frame, cmap=cmap, norm=norm, vmin=vmin, vmax=vmax)\n",
    "                    ax.set_title(f'Prediction {sampled_pred_indices[i-3] + 10}', fontsize=8)  # Smaller font size\n",
    "\n",
    "                # Remove x and y axis numbers\n",
    "                ax.set_xticks([])  # Remove x-axis numbers\n",
    "                ax.set_yticks([])  # Remove y-axis numbers\n",
    "        \n",
    "        elif row == 2:  # Error Row\n",
    "            for i, ax in enumerate(ax_row):\n",
    "                if i < 3:\n",
    "                    # Leave first 3 subplots empty for errors (since no prediction exists for these frames)\n",
    "                    ax.axis('off')\n",
    "                else:\n",
    "                    # Plot absolute error for sampled frames from 10-29 in true and pred (0 to 19 in pred)\n",
    "                    gt_frame = true[sampled_gt_indices_true[i-3] - 10]  # Offset by -10 to match true frames starting from 10\n",
    "                    pred_frame = pred[sampled_pred_indices[i-3]]\n",
    "                    abs_error = np.abs(gt_frame - pred_frame)\n",
    "                    ax.imshow(abs_error, cmap=cmap, norm=norm, vmin=vmin, vmax=vmax)\n",
    "                    ax.set_title(f'Absolute Error {sampled_pred_indices[i-3] + 10}', fontsize=10)  # Smaller font size\n",
    "\n",
    "                    # Calculate MRE (Mean Relative Error)\n",
    "                    num_pixels = np.prod(gt_frame.shape)\n",
    "                    squared_error = np.sum((gt_frame - pred_frame) ** 2) / num_pixels\n",
    "                    phi_gt_max = np.max(gt_frame)\n",
    "                    phi_gt_min = np.min(gt_frame)\n",
    "                    mre = np.sqrt(squared_error) / (phi_gt_max - phi_gt_min) * 100\n",
    "\n",
    "                    # Display MRE below the subplot\n",
    "                    ax.text(0.5, -0.1, f'MRE: {mre:.4f}%', fontsize=10, color='blue', ha='center', transform=ax.transAxes)  # Smaller text size\n",
    "\n",
    "                # Remove x and y axis numbers\n",
    "                ax.set_xticks([])  # Remove x-axis numbers\n",
    "                ax.set_yticks([])  # Remove y-axis numbers\n",
    "\n",
    "    # Save the figure for each case\n",
    "    if out_path is not None:\n",
    "        output_path = os.path.join('prediction_gif', out_path + '.png')\n",
    "        plt.savefig(output_path, bbox_inches='tight', dpi=300)\n",
    "        print(f\"Figure saved as {output_path}\")\n",
    "    \n",
    "    plt.close()\n",
    "\n",
    "# Example of how to call the modified function:\n",
    "for i in range(len(inputs)):\n",
    "    example_idx = i\n",
    "\n",
    "    # Modify the output filename to include the example index\n",
    "    output_png_filename = f'example_{example_idx}'\n",
    "    show_video_gif_multiple_withError(inputs[example_idx], trues[example_idx], preds[example_idx], out_path=output_png_filename)\n",
    "\n",
    "    print(f\"Figure saved as {output_png_filename}.png in prediction_gif folder\")\n"
   ]
  },
  {
   "cell_type": "code",
   "execution_count": null,
   "metadata": {},
   "outputs": [],
   "source": []
  }
 ],
 "metadata": {
  "kernelspec": {
   "display_name": "OpenSTL_dev",
   "language": "python",
   "name": "openstl_dev"
  },
  "language_info": {
   "codemirror_mode": {
    "name": "ipython",
    "version": 3
   },
   "file_extension": ".py",
   "mimetype": "text/x-python",
   "name": "python",
   "nbconvert_exporter": "python",
   "pygments_lexer": "ipython3",
   "version": "3.9.19"
  }
 },
 "nbformat": 4,
 "nbformat_minor": 4
}
